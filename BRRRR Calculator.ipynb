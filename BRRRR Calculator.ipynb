{
 "cells": [
  {
   "cell_type": "code",
   "execution_count": 1,
   "metadata": {},
   "outputs": [],
   "source": [
    "import numpy_financial as npf"
   ]
  },
  {
   "cell_type": "code",
   "execution_count": 60,
   "metadata": {},
   "outputs": [],
   "source": [
    "def monthly_PI(interest, years, price, yearly_months=12):\n",
    "    monthly_PI = -1 * npf.pmt(interest/yearly_months, years*yearly_months, price)\n",
    "    return monthly_PI"
   ]
  },
  {
   "cell_type": "code",
   "execution_count": 118,
   "metadata": {},
   "outputs": [],
   "source": [
    "# purchase\n",
    "purchase_price = 600e3\n",
    "downpayment = 21e3\n",
    "rehab_cost = 100e3\n",
    "after_repair_value = 800e3\n",
    "\n",
    "# acquisition\n",
    "yearly_months = 12\n",
    "acq_yearly_interest = 0 # 0.065\n",
    "mortgage_years = 30\n",
    "rehab_months = 6\n",
    "monthly_taxes = 555 # from zillow\n",
    "\n",
    "acq_price = purchase_price - downpayment\n",
    "closing_costs = purchase_price * 0.01  # 1-2% of purchase price\n",
    "acq_cash_required = downpayment + rehab_cost + closing_costs\n",
    "\n",
    "monthly_rehab = total_repairs*rehab_months/yearly_months\n",
    "acq_monthly_PI = monthly_PI(acq_yearly_interest, mortgage_years, acq_price, yearly_months=yearly_months)\n",
    "\n",
    "# rehab period\n",
    "monthly_insurance = 0\n",
    "other_costs = 0\n",
    "holding_costs = (acq_monthly_PI + monthly_taxes)*rehab_months\n",
    "cash_outlay = acq_cash_required + holding_costs\n",
    "monthly_rehab = total_repairs * rehab_months/yearly_months + monthly_taxes + acq_monthly_PI\n",
    "\n",
    "# initial rental period\n",
    "monthly_rent = 4e3\n",
    "vacancy_frac, repairs_frac, capex_frac = 0.05, 0.05, 0.05\n",
    "monthly_vacancy = monthly_rent*0.05\n",
    "monthly_repairs = monthly_rent*0.05\n",
    "monthly_capex = monthly_rent*0.05\n",
    "\n",
    "acq_monthly_expenses = monthly_vacancy + monthly_capex + monthly_taxes + monthly_repairs + acq_monthly_PI\n",
    "acq_monthly_cashflow = monthly_rent - acq_monthly_expenses\n",
    "total_cash_needed = total_repairs + downpayment\n",
    "acq_cash_on_cash_roi = acq_monthly_cashflow*yearly_months/total_cash_needed\n",
    "\n",
    "NOI = (acq_monthly_cashflow + acq_monthly_PI) * yearly_months  # googled NOI vs cash flow\n",
    "pro_forma_cap_rate = NOI/after_repair_value\n",
    "purchase_cap_rate = NOI/acq_price\n",
    "\n",
    "\n",
    "# refinanced rental period \n",
    "refinance_months = 9\n",
    "pre_refi_duration = refinance_months-rehab_months\n",
    "ref_price = 0.8 * after_repair_value\n",
    "ref_fees = 0.01 * after_repair_value\n",
    "ref_yearly_interest = 0#0.065\n",
    "ref_monthly_PI = monthly_PI(ref_yearly_interest, mortgage_years, ref_price, yearly_months=yearly_months)\n",
    "ref_monthly_expenses = monthly_vacancy + monthly_capex + monthly_taxes + monthly_repairs + ref_monthly_PI\n",
    "ref_monthly_cashflow = monthly_rent - ref_monthly_expenses\n",
    "ref_cash_on_cash_roi = ref_monthly_cashflow*yearly_months/total_cash_needed"
   ]
  },
  {
   "cell_type": "code",
   "execution_count": 124,
   "metadata": {},
   "outputs": [
    {
     "name": "stdout",
     "output_type": "stream",
     "text": [
      "{'time': {'total': 3}, 'price': {'monthly_rent': 4000.0, 'vacancy_frac': 0.05, 'repairs_frac': 0.05, 'capex_frac': 0.05, 'monthly_taxes': 555, 'monthly_PI': 1608.3333333333333}, 'exponent': {}}\n"
     ]
    }
   ],
   "source": [
    "acq = Acquisition(purchase_price, downpayment, acq_yearly_interest, monthly_taxes)\n",
    "rehab = Rehab(rehab_months, rehab_cost, acq.price['monthly_PI'], monthly_taxes)\n",
    "pre_refi = PreReFi_Rent(monthly_rent, vacancy_frac, repairs_frac, capex_frac, \n",
    "                        pre_refi_duration, monthly_taxes, acq.price['monthly_PI'])\n",
    "refi = Refinance(monthly_rent, after_repair_value, vacancy_frac, repairs_frac, capex_frac, monthly_taxes)"
   ]
  },
  {
   "cell_type": "code",
   "execution_count": 106,
   "metadata": {},
   "outputs": [],
   "source": [
    "class Mortgage():\n",
    "    def __init__(rate, years, price):\n",
    "        self.org_monthly_PI = self.monthly_PI(rate, years, price)\n",
    "    def original_contract(self, rate, years, price, yearly_months=yearly_months):\n",
    "        monthly_PI = -1 * npf.pmt(rate/yearly_months, years*yearly_months, price)\n",
    "        return monthly_PI"
   ]
  },
  {
   "cell_type": "code",
   "execution_count": 126,
   "metadata": {},
   "outputs": [],
   "source": [
    "# globals\n",
    "yearly_months =  12\n",
    "monthly_taxes = 555\n",
    "\n",
    "class Acquisition():\n",
    "    \"\"\" Could inherent a Mortgage object if it could contain several methods \"\"\"\n",
    "    def __init__(self, purchase_price, downpayment, yearly_interest, monthly_taxes):\n",
    "        self.time = {}\n",
    "        self.price = {\n",
    "            'home_value': purchase_price,\n",
    "            'downpayment': downpayment,\n",
    "            'mortgage': np.nan,\n",
    "            'monthly_PI': np.nan,\n",
    "            'monthly_taxes': monthly_taxes,\n",
    "            \n",
    "        } \n",
    "        self.exponent ={\n",
    "            'yearly_interest': yearly_interest,\n",
    "        }\n",
    "        \n",
    "        self.derive_properties()\n",
    "        \n",
    "    def derive_properties(self):\n",
    "        self.price['mortgage'] = self.price['home_value'] - self.price['downpayment']\n",
    "#         super().__init__(self.price['yearly_interest'], 30, self.price['price'])\n",
    "        self.price['loan_fees'] = 0.01 * self.price['home_value']\n",
    "        self.price['monthly_PI'] = monthly_PI(self.exponent['yearly_interest'], 30, self.price['mortgage'])\n",
    "        self.price['closing'] = self.price['home_value'] * 0.01 \n",
    "        \n",
    "class Rehab():\n",
    "    def __init__(self, rehab_months, total_cost, monthly_PI, monthly_taxes, monthly_insurance=0, other_costs = 0):\n",
    "        self.time = {\n",
    "            'total_months' : rehab_months\n",
    "        }\n",
    "        self.price= {\n",
    "            'total_cost': total_cost,\n",
    "            'monthly_insurance': monthly_insurance,\n",
    "            'other': other_costs,\n",
    "            'holding_cost': np.nan,\n",
    "            'monthly_PI': monthly_PI,\n",
    "            'monthly_taxes': monthly_taxes\n",
    "        } \n",
    "        self.exponent = {\n",
    "        }\n",
    "\n",
    "        self.derive_properties()\n",
    "        \n",
    "    def derive_properties(self):\n",
    "        self.price['monthly_rehab'] = self.price['total_cost']*self.time['total_months']/yearly_months\n",
    "        self.price['holding_cost'] = (self.price['monthly_PI'] + self.price['monthly_taxes']) * self.time['total_months']\n",
    "        self.price['monthly_total'] = self.price['monthly_rehab'] + self.price['monthly_taxes'] + self.price['monthly_PI']\n",
    "        \n",
    "class PreReFi_Rent():\n",
    "    \"\"\" Could inherent a Mortgage object if \"\"\"\n",
    "    def __init__(self, monthly_rent, vacancy_frac, repairs_frac, capex_frac, total_time, monthly_taxes, \n",
    "                monthly_PI):\n",
    "        self.time = {\n",
    "            'total': total_time\n",
    "        }\n",
    "        self.price =  {\n",
    "            'monthly_rent': monthly_rent,\n",
    "            'vacancy_frac': vacancy_frac,\n",
    "            'repairs_frac': repairs_frac,\n",
    "            'capex_frac': capex_frac,\n",
    "            'monthly_taxes': monthly_taxes,\n",
    "            'monthly_PI': monthly_PI\n",
    "        } \n",
    "        self.exponent = {}\n",
    "        self.derive_properties()\n",
    "        \n",
    "    def derive_properties(self):\n",
    "        self.price['monthly_vacancy'] = self.price['monthly_rent']*self.price['vacancy_frac']\n",
    "        self.price['monthly_repairs'] = self.price['monthly_rent']*self.price['repairs_frac']\n",
    "        self.price['monthly_capex'] = self.price['monthly_rent']*self.price['capex_frac']\n",
    "        self.price['monthly_expenses'] = self.sum_expenses()\n",
    "        self.price['monthly_cashflow'] = self.price['monthly_rent'] - self.price['monthly_expenses']\n",
    "        self.price['NOI'] = (self.price['monthly_cashflow'] + self.price['monthly_PI']) * yearly_months  # googled NOI vs cash flow\n",
    "\n",
    "    def sum_expenses(self):\n",
    "        exp_sum = self.price['monthly_vacancy'] + self.price['monthly_capex'] \\\n",
    "        + self.price['monthly_taxes'] + self.price['monthly_repairs'] + self.price['monthly_PI']\n",
    "        return exp_sum\n",
    "\n",
    "class Refinance():\n",
    "    \"\"\" Could inherent a Mortgage object if \"\"\"\n",
    "    def __init__(self, monthly_rent, home_value, vacancy_frac, repairs_frac, capex_frac, monthly_taxes):\n",
    "        self.time =  {}\n",
    "        self.price =  {\n",
    "            'monthly_rent': monthly_rent,\n",
    "            'home_value': home_value,\n",
    "            'vacancy_frac': vacancy_frac,\n",
    "            'repairs_frac': repairs_frac,\n",
    "            'capex_frac': capex_frac,\n",
    "            'monthly_PI': np.nan,\n",
    "            'monthly_taxes': monthly_taxes\n",
    "        } \n",
    "        self.exponent = {\n",
    "            'yearly_interest': 0#0.065\n",
    "        }\n",
    "        self.derive_properties()\n",
    "\n",
    "    def derive_properties(self):\n",
    "        self.price['monthly_vacancy'] = self.price['monthly_rent']*self.price['vacancy_frac']\n",
    "        self.price['monthly_repairs'] = self.price['monthly_rent']*self.price['repairs_frac']\n",
    "        self.price['monthly_capex'] = self.price['monthly_rent']*self.price['capex_frac']\n",
    "        self.price['mortgage'] = 0.8 * self.price['home_value']\n",
    "        self.price['loan_fees'] = 0.01 * self.price['home_value']\n",
    "        self.price['monthly_PI'] = monthly_PI(self.exponent['yearly_interest'], 30, self.price['mortgage'])\n",
    "        self.price['monthly_expenses'] = self.sum_expenses()\n",
    "        self.price['monthly_cashflow'] = self.price['monthly_rent'] - self.price['monthly_expenses']\n",
    "        self.price['NOI'] = (self.price['monthly_cashflow'] + self.price['monthly_PI']) * yearly_months  # googled NOI vs cash flow\n",
    "\n",
    "    def sum_expenses(self):\n",
    "        exp_sum = self.price['monthly_vacancy'] + self.price['monthly_capex'] \\\n",
    "        + self.price['monthly_taxes'] + self.price['monthly_repairs'] + self.price['monthly_PI']\n",
    "        return exp_sum"
   ]
  },
  {
   "cell_type": "code",
   "execution_count": 137,
   "metadata": {},
   "outputs": [],
   "source": [
    "cash_required = acq.price['downpayment'] + rehab.price['total_cost'] + acq.price['closing']\n",
    "cash_outlay = cash_required + rehab.price['holding_cost']\n",
    "total_cash_needed = rehab.price['total_cost'] + acq.price['downpayment']\n",
    "acq_cash_on_cash_roi = pre_refi.price['monthly_cashflow']*yearly_months/total_cash_needed\n",
    "ref_cash_on_cash_roi = refi.price['monthly_cashflow']*yearly_months/total_cash_needed\n",
    "\n",
    "pro_forma_cap_rate = NOI/after_repair_value\n",
    "purchase_cap_rate = NOI/acq_price"
   ]
  },
  {
   "cell_type": "code",
   "execution_count": 138,
   "metadata": {},
   "outputs": [
    {
     "name": "stdout",
     "output_type": "stream",
     "text": [
      "Summary\n",
      "Purchase Closing Costs: $6000.0\n",
      "Estimated Repairs: $100000.0\n",
      "After Repair Value: $800000.0\n"
     ]
    }
   ],
   "source": [
    "print('Summary')\n",
    "print(f\"Purchase Closing Costs: ${acq.price['closing']}\")\n",
    "print(f\"Estimated Repairs: ${rehab.price['total_cost']}\")\n",
    "print(f\"After Repair Value: ${refi.price['home_value']}\")"
   ]
  },
  {
   "cell_type": "code",
   "execution_count": 139,
   "metadata": {},
   "outputs": [
    {
     "name": "stdout",
     "output_type": "stream",
     "text": [
      "Acquisition\n",
      "Down Payment: $21000.0\n",
      "Loan Amount: $579000.0\n",
      "Loan Points/Fees: $6000.0\n",
      "Loan Interest Rate: 0%\n",
      "Monthly P&I: $1608.33\n",
      "Total Cash needed at purchase: $127000.0\n"
     ]
    }
   ],
   "source": [
    "print('Acquisition')\n",
    "print(f\"Down Payment: ${acq.price['downpayment']}\")\n",
    "print(f\"Loan Amount: ${acq.price['mortgage']}\")\n",
    "print(f\"Loan Points/Fees: ${acq.price['loan_fees']}\")\n",
    "print(f\"Loan Interest Rate: {acq.exponent['yearly_interest']*100}%\")\n",
    "print(f\"Monthly P&I: ${acq.price['monthly_PI']:.2f}\")\n",
    "print(f\"Total Cash needed at purchase: ${cash_required}\")"
   ]
  },
  {
   "cell_type": "code",
   "execution_count": 142,
   "metadata": {},
   "outputs": [
    {
     "name": "stdout",
     "output_type": "stream",
     "text": [
      "Rehab Period\n",
      "Holding costs: $12980.00\n",
      "Total cash outlay: $139980.0\n",
      "Monthly P&I: $1608.33\n",
      "Rehab time: 6 months\n",
      "Monthly taxes: $555\n"
     ]
    }
   ],
   "source": [
    "print('Rehab Period')\n",
    "print(f\"Holding costs: ${rehab.price['holding_cost']:.2f}\")\n",
    "print(f\"Total cash outlay: ${cash_outlay}\")\n",
    "print(f\"Monthly P&I: ${acq.price['monthly_PI']:.2f}\")\n",
    "print(f\"Rehab time: {rehab.time['total_months']} months\")\n",
    "print(f\"Monthly taxes: ${monthly_taxes}\")"
   ]
  },
  {
   "cell_type": "code",
   "execution_count": 143,
   "metadata": {},
   "outputs": [
    {
     "data": {
      "text/plain": [
       "{'time': {},\n",
       " 'price': {'monthly_rent': 4000.0,\n",
       "  'home_value': 800000.0,\n",
       "  'vacancy_frac': 0.05,\n",
       "  'repairs_frac': 0.05,\n",
       "  'capex_frac': 0.05,\n",
       "  'monthly_PI': 1777.7777777777778,\n",
       "  'monthly_taxes': 555,\n",
       "  'monthly_vacancy': 200.0,\n",
       "  'monthly_repairs': 200.0,\n",
       "  'monthly_capex': 200.0,\n",
       "  'mortgage': 640000.0,\n",
       "  'loan_fees': 8000.0,\n",
       "  'monthly_expenses': 2932.777777777778,\n",
       "  'monthly_cashflow': 1067.2222222222222,\n",
       "  'NOI': 34140.0},\n",
       " 'exponent': {'yearly_interest': 0}}"
      ]
     },
     "execution_count": 143,
     "metadata": {},
     "output_type": "execute_result"
    }
   ],
   "source": [
    "refi.__dict__"
   ]
  },
  {
   "cell_type": "code",
   "execution_count": 144,
   "metadata": {},
   "outputs": [
    {
     "name": "stdout",
     "output_type": "stream",
     "text": [
      "Refinance\n",
      "Loan Amount: $640000.0\n",
      "Loan Points/Fees: $8000.0\n",
      "Loan Interest Rate: 0%\n",
      "Monthly P&I: $1777.78\n"
     ]
    }
   ],
   "source": [
    "print('Refinance')\n",
    "print(f\"Loan Amount: ${refi.price['mortgage']}\")\n",
    "print(f\"Loan Points/Fees: ${refi.price['loan_fees']}\")\n",
    "print(f\"Loan Interest Rate: {refi.exponent['yearly_interest']*100}%\")\n",
    "print(f\"Monthly P&I: ${refi.price['monthly_PI']:.2f}\")"
   ]
  },
  {
   "cell_type": "code",
   "execution_count": null,
   "metadata": {},
   "outputs": [],
   "source": [
    "acq.__dict__, rehab.__dict__, pre_refi.__dict__"
   ]
  },
  {
   "cell_type": "code",
   "execution_count": 146,
   "metadata": {},
   "outputs": [
    {
     "data": {
      "text/plain": [
       "{'time': {'total': 3},\n",
       " 'price': {'monthly_rent': 4000.0,\n",
       "  'vacancy_frac': 0.05,\n",
       "  'repairs_frac': 0.05,\n",
       "  'capex_frac': 0.05,\n",
       "  'monthly_taxes': 555,\n",
       "  'monthly_PI': 1608.3333333333333,\n",
       "  'monthly_vacancy': 200.0,\n",
       "  'monthly_repairs': 200.0,\n",
       "  'monthly_capex': 200.0,\n",
       "  'monthly_expenses': 2763.333333333333,\n",
       "  'monthly_cashflow': 1236.666666666667,\n",
       "  'NOI': 34140.0},\n",
       " 'exponent': {}}"
      ]
     },
     "execution_count": 146,
     "metadata": {},
     "output_type": "execute_result"
    }
   ],
   "source": [
    "pre_refi.__dict__"
   ]
  },
  {
   "cell_type": "code",
   "execution_count": 147,
   "metadata": {},
   "outputs": [
    {
     "name": "stdout",
     "output_type": "stream",
     "text": [
      "Initial Rental Period\n",
      "Monthly Income: $4000.0\n",
      "Monthly Expenses: $2763.33\n",
      "Monthly Cashflow: $1236.67\n",
      "NOI: $34140.0\n",
      "Cash on cash ROI: 12.3%\n",
      "Pro Forma Cap Rate: 4.27%\n",
      "Purchase Cap Rate: 5.9%\n"
     ]
    }
   ],
   "source": [
    "print('Initial Rental Period')\n",
    "print(f\"Monthly Income: ${pre_refi.price['monthly_rent']}\")\n",
    "print(f\"Monthly Expenses: ${pre_refi.price['monthly_expenses']:.2f}\")\n",
    "print(f\"Monthly Cashflow: ${pre_refi.price['monthly_cashflow']:.2f}\")\n",
    "print(f\"NOI: ${pre_refi.price['NOI']}\")\n",
    "print(f\"Cash on cash ROI: {acq_cash_on_cash_roi*100:.3g}%\")\n",
    "print(f\"Pro Forma Cap Rate: {pro_forma_cap_rate*100:.3g}%\")\n",
    "print(f\"Purchase Cap Rate: {purchase_cap_rate*100:.3g}%\")"
   ]
  },
  {
   "cell_type": "code",
   "execution_count": 148,
   "metadata": {},
   "outputs": [
    {
     "data": {
      "text/plain": [
       "{'time': {},\n",
       " 'price': {'monthly_rent': 4000.0,\n",
       "  'home_value': 800000.0,\n",
       "  'vacancy_frac': 0.05,\n",
       "  'repairs_frac': 0.05,\n",
       "  'capex_frac': 0.05,\n",
       "  'monthly_PI': 1777.7777777777778,\n",
       "  'monthly_taxes': 555,\n",
       "  'monthly_vacancy': 200.0,\n",
       "  'monthly_repairs': 200.0,\n",
       "  'monthly_capex': 200.0,\n",
       "  'mortgage': 640000.0,\n",
       "  'loan_fees': 8000.0,\n",
       "  'monthly_expenses': 2932.777777777778,\n",
       "  'monthly_cashflow': 1067.2222222222222,\n",
       "  'NOI': 34140.0},\n",
       " 'exponent': {'yearly_interest': 0}}"
      ]
     },
     "execution_count": 148,
     "metadata": {},
     "output_type": "execute_result"
    }
   ],
   "source": [
    "refi.__dict__"
   ]
  },
  {
   "cell_type": "code",
   "execution_count": 150,
   "metadata": {},
   "outputs": [
    {
     "name": "stdout",
     "output_type": "stream",
     "text": [
      "Refinance Rental Period\n",
      "Monthly Income: $4000.0\n",
      "Monthly Expenses: $2932.78\n",
      "Monthly Cashflow: $1067.22\n",
      "NOI: $34140.0\n",
      "Cash on cash ROI: 10.6%\n",
      "Pro Forma Cap Rate: 4.27%\n",
      "Purchase Cap Rate: 5.9%\n"
     ]
    }
   ],
   "source": [
    "print('Refinance Rental Period')\n",
    "print(f\"Monthly Income: ${refi.price['monthly_rent']}\")\n",
    "print(f\"Monthly Expenses: ${refi.price['monthly_expenses']:.2f}\")\n",
    "print(f\"Monthly Cashflow: ${refi.price['monthly_cashflow']:.2f}\")\n",
    "print(f\"NOI: ${NOI}\")\n",
    "print(f\"Cash on cash ROI: {ref_cash_on_cash_roi*100:.3g}%\")\n",
    "print(f'Pro Forma Cap Rate: {pro_forma_cap_rate*100:.3g}%')\n",
    "print(f'Purchase Cap Rate: {purchase_cap_rate*100:.3g}%')"
   ]
  },
  {
   "cell_type": "code",
   "execution_count": null,
   "metadata": {},
   "outputs": [],
   "source": []
  }
 ],
 "metadata": {
  "kernelspec": {
   "display_name": "Python 3",
   "language": "python",
   "name": "python3"
  },
  "language_info": {
   "codemirror_mode": {
    "name": "ipython",
    "version": 3
   },
   "file_extension": ".py",
   "mimetype": "text/x-python",
   "name": "python",
   "nbconvert_exporter": "python",
   "pygments_lexer": "ipython3",
   "version": "3.6.7"
  }
 },
 "nbformat": 4,
 "nbformat_minor": 2
}
