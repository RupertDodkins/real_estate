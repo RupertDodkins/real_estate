{
 "cells": [
  {
   "cell_type": "code",
   "execution_count": 1,
   "metadata": {},
   "outputs": [],
   "source": [
    "import numpy_financial as npf"
   ]
  },
  {
   "cell_type": "code",
   "execution_count": 2,
   "metadata": {},
   "outputs": [],
   "source": [
    "def monthly_PI(interest, years, price, yearly_months=12):\n",
    "    monthly_PI = -1 * npf.pmt(interest/yearly_months, years*yearly_months, price)\n",
    "    return monthly_PI"
   ]
  },
  {
   "cell_type": "code",
   "execution_count": 3,
   "metadata": {},
   "outputs": [],
   "source": [
    "# purchase\n",
    "purchase_price = 600e3\n",
    "downpayment = 21e3\n",
    "rehab_cost = 100e3\n",
    "after_repair_value = 800e3\n",
    "\n",
    "# acquisition\n",
    "yearly_months = 12\n",
    "acq_yearly_interest = 0 # 0.065\n",
    "mortgage_years = 30\n",
    "rehab_months = 6\n",
    "monthly_taxes = 555 # from zillow\n",
    "\n",
    "# # initial rental period\n",
    "monthly_rent = 4e3\n",
    "vacancy_frac, repairs_frac, capex_frac = 0.05, 0.05, 0.05\n",
    "\n",
    "# refinanced rental period \n",
    "refinance_months = 9\n",
    "pre_refi_duration = refinance_months-rehab_months"
   ]
  },
  {
   "cell_type": "code",
   "execution_count": 4,
   "metadata": {},
   "outputs": [],
   "source": [
    "class Mortgage():\n",
    "    def __init__(rate, years, price):\n",
    "        self.org_monthly_PI = self.monthly_PI(rate, years, price)\n",
    "    def original_contract(self, rate, years, price, yearly_months=yearly_months):\n",
    "        monthly_PI = -1 * npf.pmt(rate/yearly_months, years*yearly_months, price)\n",
    "        return monthly_PI"
   ]
  },
  {
   "cell_type": "code",
   "execution_count": 5,
   "metadata": {},
   "outputs": [],
   "source": [
    "class Acquisition():\n",
    "    \"\"\" Could inherent a Mortgage object if it could contain several methods \"\"\"\n",
    "    def __init__(self, purchase_price, downpayment, yearly_interest, monthly_taxes):\n",
    "        self.time = {}\n",
    "        self.price = {\n",
    "            'home_value': purchase_price,\n",
    "            'downpayment': downpayment,\n",
    "            'mortgage': np.nan,\n",
    "            'monthly_PI': np.nan,\n",
    "            'monthly_taxes': monthly_taxes,\n",
    "            \n",
    "        } \n",
    "        self.exponent ={\n",
    "            'yearly_interest': yearly_interest,\n",
    "        }\n",
    "        \n",
    "        self.derive_properties()\n",
    "        \n",
    "    def derive_properties(self):\n",
    "#         super().__init__(self.price['yearly_interest'], 30, self.price['price'])\n",
    "        self.price['loan_fees'] = 0.01 * self.price['home_value']\n",
    "        self.price['mortgage'] = self.price['home_value'] - self.price['downpayment'] + self.price['loan_fees']\n",
    "        self.price['monthly_PI'] = monthly_PI(self.exponent['yearly_interest'], 30, self.price['mortgage'])\n",
    "        self.price['closing'] = self.price['home_value'] * 0.01 \n",
    "        \n",
    "class Rehab():\n",
    "    def __init__(self, rehab_months, total_cost, monthly_PI, monthly_taxes, monthly_insurance=0, other_costs = 0):\n",
    "        self.time = {\n",
    "            'total_months' : rehab_months\n",
    "        }\n",
    "        self.price= {\n",
    "            'total_cost': total_cost,\n",
    "            'monthly_insurance': monthly_insurance,\n",
    "            'other': other_costs,\n",
    "            'holding_cost': np.nan,\n",
    "            'monthly_PI': monthly_PI,\n",
    "            'monthly_taxes': monthly_taxes\n",
    "        } \n",
    "        self.exponent = {\n",
    "        }\n",
    "\n",
    "        self.derive_properties()\n",
    "        \n",
    "    def derive_properties(self):\n",
    "        self.price['monthly_rehab'] = self.price['total_cost']*self.time['total_months']/yearly_months\n",
    "        self.price['holding_cost'] = (self.price['monthly_PI'] + self.price['monthly_taxes']) * self.time['total_months']\n",
    "        self.price['monthly_total'] = self.price['monthly_rehab'] + self.price['monthly_taxes'] + self.price['monthly_PI']\n",
    "        \n",
    "class PreReFi_Rent():\n",
    "    \"\"\" Could inherent a Mortgage object if \"\"\"\n",
    "    def __init__(self, monthly_rent, vacancy_frac, repairs_frac, capex_frac, total_time, monthly_taxes, \n",
    "                monthly_PI):\n",
    "        self.time = {\n",
    "            'total': total_time\n",
    "        }\n",
    "        self.price =  {\n",
    "            'monthly_rent': monthly_rent,\n",
    "            'vacancy_frac': vacancy_frac,\n",
    "            'repairs_frac': repairs_frac,\n",
    "            'capex_frac': capex_frac,\n",
    "            'monthly_taxes': monthly_taxes,\n",
    "            'monthly_PI': monthly_PI\n",
    "        } \n",
    "        self.exponent = {}\n",
    "        self.derive_properties()\n",
    "        \n",
    "    def derive_properties(self):\n",
    "        self.price['monthly_vacancy'] = self.price['monthly_rent']*self.price['vacancy_frac']\n",
    "        self.price['monthly_repairs'] = self.price['monthly_rent']*self.price['repairs_frac']\n",
    "        self.price['monthly_capex'] = self.price['monthly_rent']*self.price['capex_frac']\n",
    "        self.price['monthly_expenses'] = self.sum_expenses()\n",
    "        self.price['monthly_cashflow'] = self.price['monthly_rent'] - self.price['monthly_expenses']\n",
    "        self.price['NOI'] = (self.price['monthly_cashflow'] + self.price['monthly_PI']) * yearly_months  # googled NOI vs cash flow\n",
    "\n",
    "    def sum_expenses(self):\n",
    "        exp_sum = self.price['monthly_vacancy'] + self.price['monthly_capex'] \\\n",
    "        + self.price['monthly_taxes'] + self.price['monthly_repairs'] + self.price['monthly_PI']\n",
    "        return exp_sum\n",
    "\n",
    "class Refinance():\n",
    "    \"\"\" Could inherent a Mortgage object if \"\"\"\n",
    "    def __init__(self, monthly_rent, home_value, vacancy_frac, repairs_frac, capex_frac, monthly_taxes):\n",
    "        self.time =  {}\n",
    "        self.price =  {\n",
    "            'monthly_rent': monthly_rent,\n",
    "            'home_value': home_value,\n",
    "            'vacancy_frac': vacancy_frac,\n",
    "            'repairs_frac': repairs_frac,\n",
    "            'capex_frac': capex_frac,\n",
    "            'monthly_PI': np.nan,\n",
    "            'monthly_taxes': monthly_taxes\n",
    "        } \n",
    "        self.exponent = {\n",
    "            'yearly_interest': 0#0.065\n",
    "        }\n",
    "        self.derive_properties()\n",
    "\n",
    "    def derive_properties(self):\n",
    "        self.price['monthly_vacancy'] = self.price['monthly_rent']*self.price['vacancy_frac']\n",
    "        self.price['monthly_repairs'] = self.price['monthly_rent']*self.price['repairs_frac']\n",
    "        self.price['monthly_capex'] = self.price['monthly_rent']*self.price['capex_frac']\n",
    "        self.price['loan_fees'] = 0.01 * self.price['home_value']\n",
    "        self.price['mortgage'] = 0.8 * self.price['home_value'] + self.price['loan_fees']\n",
    "        self.price['monthly_PI'] = monthly_PI(self.exponent['yearly_interest'], 30, self.price['mortgage'])\n",
    "        self.price['monthly_expenses'] = self.sum_expenses()\n",
    "        self.price['monthly_cashflow'] = self.price['monthly_rent'] - self.price['monthly_expenses']\n",
    "        self.price['NOI'] = (self.price['monthly_cashflow'] + self.price['monthly_PI']) * yearly_months  # googled NOI vs cash flow\n",
    "\n",
    "    def sum_expenses(self):\n",
    "        exp_sum = self.price['monthly_vacancy'] + self.price['monthly_capex'] \\\n",
    "        + self.price['monthly_taxes'] + self.price['monthly_repairs'] + self.price['monthly_PI']\n",
    "        return exp_sum"
   ]
  },
  {
   "cell_type": "code",
   "execution_count": null,
   "metadata": {},
   "outputs": [],
   "source": []
  },
  {
   "cell_type": "code",
   "execution_count": 6,
   "metadata": {},
   "outputs": [],
   "source": [
    "acq = Acquisition(purchase_price, downpayment, acq_yearly_interest, monthly_taxes)\n",
    "rehab = Rehab(rehab_months, rehab_cost, acq.price['monthly_PI'], monthly_taxes)\n",
    "pre_refi = PreReFi_Rent(monthly_rent, vacancy_frac, repairs_frac, capex_frac, \n",
    "                        pre_refi_duration, monthly_taxes, acq.price['monthly_PI'])\n",
    "refi = Refinance(monthly_rent, after_repair_value, vacancy_frac, repairs_frac, capex_frac, monthly_taxes)"
   ]
  },
  {
   "cell_type": "code",
   "execution_count": 7,
   "metadata": {},
   "outputs": [
    {
     "data": {
      "text/plain": [
       "(100000.0, 21000.0)"
      ]
     },
     "execution_count": 7,
     "metadata": {},
     "output_type": "execute_result"
    }
   ],
   "source": [
    "rehab.price['total_cost'],  acq.price['downpayment']"
   ]
  },
  {
   "cell_type": "code",
   "execution_count": 8,
   "metadata": {},
   "outputs": [],
   "source": [
    "cash_required = acq.price['downpayment'] + rehab.price['total_cost'] + acq.price['closing']\n",
    "cash_outlay = cash_required + rehab.price['holding_cost']\n",
    "acq_cash_on_cash_roi = pre_refi.price['monthly_cashflow']*yearly_months/cash_required\n",
    "ref_cash_on_cash_roi = refi.price['monthly_cashflow']*yearly_months/cash_required\n",
    "\n",
    "pro_forma_cap_rate = pre_refi.price['NOI']/refi.price['mortgage']\n",
    "purchase_cap_rate = pre_refi.price['NOI']/acq.price['mortgage']"
   ]
  },
  {
   "cell_type": "code",
   "execution_count": 9,
   "metadata": {},
   "outputs": [
    {
     "data": {
      "text/plain": [
       "(34140.0, 0.05268518518518518, 0.05835897435897436, 585000.0, 648000.0)"
      ]
     },
     "execution_count": 9,
     "metadata": {},
     "output_type": "execute_result"
    }
   ],
   "source": [
    "pre_refi.price['NOI'], pro_forma_cap_rate, purchase_cap_rate, acq.price['mortgage'], refi.price['mortgage']"
   ]
  },
  {
   "cell_type": "code",
   "execution_count": 10,
   "metadata": {},
   "outputs": [
    {
     "data": {
      "text/plain": [
       "{'time': {},\n",
       " 'price': {'monthly_rent': 4000.0,\n",
       "  'home_value': 800000.0,\n",
       "  'vacancy_frac': 0.05,\n",
       "  'repairs_frac': 0.05,\n",
       "  'capex_frac': 0.05,\n",
       "  'monthly_PI': 1800.0,\n",
       "  'monthly_taxes': 555,\n",
       "  'monthly_vacancy': 200.0,\n",
       "  'monthly_repairs': 200.0,\n",
       "  'monthly_capex': 200.0,\n",
       "  'loan_fees': 8000.0,\n",
       "  'mortgage': 648000.0,\n",
       "  'monthly_expenses': 2955.0,\n",
       "  'monthly_cashflow': 1045.0,\n",
       "  'NOI': 34140.0},\n",
       " 'exponent': {'yearly_interest': 0}}"
      ]
     },
     "execution_count": 10,
     "metadata": {},
     "output_type": "execute_result"
    }
   ],
   "source": [
    "refi.__dict__"
   ]
  },
  {
   "cell_type": "code",
   "execution_count": 11,
   "metadata": {},
   "outputs": [
    {
     "data": {
      "text/plain": [
       "({'time': {},\n",
       "  'price': {'home_value': 600000.0,\n",
       "   'downpayment': 21000.0,\n",
       "   'mortgage': 585000.0,\n",
       "   'monthly_PI': 1625.0,\n",
       "   'monthly_taxes': 555,\n",
       "   'loan_fees': 6000.0,\n",
       "   'closing': 6000.0},\n",
       "  'exponent': {'yearly_interest': 0}},\n",
       " {'time': {'total': 3},\n",
       "  'price': {'monthly_rent': 4000.0,\n",
       "   'vacancy_frac': 0.05,\n",
       "   'repairs_frac': 0.05,\n",
       "   'capex_frac': 0.05,\n",
       "   'monthly_taxes': 555,\n",
       "   'monthly_PI': 1625.0,\n",
       "   'monthly_vacancy': 200.0,\n",
       "   'monthly_repairs': 200.0,\n",
       "   'monthly_capex': 200.0,\n",
       "   'monthly_expenses': 2780.0,\n",
       "   'monthly_cashflow': 1220.0,\n",
       "   'NOI': 34140.0},\n",
       "  'exponent': {}})"
      ]
     },
     "execution_count": 11,
     "metadata": {},
     "output_type": "execute_result"
    }
   ],
   "source": [
    "acq.__dict__, pre_refi.__dict__"
   ]
  },
  {
   "cell_type": "code",
   "execution_count": 12,
   "metadata": {},
   "outputs": [
    {
     "name": "stdout",
     "output_type": "stream",
     "text": [
      "Summary\n",
      "Purchase Closing Costs: $6000.0\n",
      "Estimated Repairs: $100000.0\n",
      "After Repair Value: $800000.0\n"
     ]
    }
   ],
   "source": [
    "print('Summary')\n",
    "print(f\"Purchase Closing Costs: ${acq.price['closing']}\")\n",
    "print(f\"Estimated Repairs: ${rehab.price['total_cost']}\")\n",
    "print(f\"After Repair Value: ${refi.price['home_value']}\")"
   ]
  },
  {
   "cell_type": "code",
   "execution_count": 13,
   "metadata": {},
   "outputs": [
    {
     "name": "stdout",
     "output_type": "stream",
     "text": [
      "Acquisition\n",
      "Down Payment: $21000.0\n",
      "Loan Amount: $585000.0\n",
      "Loan Points/Fees: $6000.0\n",
      "Loan Interest Rate: 0%\n",
      "Monthly P&I: $1625.00\n",
      "Total Cash needed at purchase: $127000.0\n"
     ]
    }
   ],
   "source": [
    "print('Acquisition')\n",
    "print(f\"Down Payment: ${acq.price['downpayment']}\")\n",
    "print(f\"Loan Amount: ${acq.price['mortgage']}\")\n",
    "print(f\"Loan Points/Fees: ${acq.price['loan_fees']}\")\n",
    "print(f\"Loan Interest Rate: {acq.exponent['yearly_interest']*100}%\")\n",
    "print(f\"Monthly P&I: ${acq.price['monthly_PI']:.2f}\")\n",
    "print(f\"Total Cash needed at purchase: ${cash_required}\")"
   ]
  },
  {
   "cell_type": "code",
   "execution_count": 14,
   "metadata": {},
   "outputs": [
    {
     "name": "stdout",
     "output_type": "stream",
     "text": [
      "Rehab Period\n",
      "Holding costs: $13080.00\n",
      "Total cash outlay: $140080.0\n",
      "Monthly P&I: $1625.00\n",
      "Rehab time: 6 months\n",
      "Monthly taxes: $555\n"
     ]
    }
   ],
   "source": [
    "print('Rehab Period')\n",
    "print(f\"Holding costs: ${rehab.price['holding_cost']:.2f}\")\n",
    "print(f\"Total cash outlay: ${cash_outlay}\")\n",
    "print(f\"Monthly P&I: ${acq.price['monthly_PI']:.2f}\")\n",
    "print(f\"Rehab time: {rehab.time['total_months']} months\")\n",
    "print(f\"Monthly taxes: ${monthly_taxes}\")"
   ]
  },
  {
   "cell_type": "code",
   "execution_count": 15,
   "metadata": {},
   "outputs": [
    {
     "data": {
      "text/plain": [
       "{'time': {},\n",
       " 'price': {'monthly_rent': 4000.0,\n",
       "  'home_value': 800000.0,\n",
       "  'vacancy_frac': 0.05,\n",
       "  'repairs_frac': 0.05,\n",
       "  'capex_frac': 0.05,\n",
       "  'monthly_PI': 1800.0,\n",
       "  'monthly_taxes': 555,\n",
       "  'monthly_vacancy': 200.0,\n",
       "  'monthly_repairs': 200.0,\n",
       "  'monthly_capex': 200.0,\n",
       "  'loan_fees': 8000.0,\n",
       "  'mortgage': 648000.0,\n",
       "  'monthly_expenses': 2955.0,\n",
       "  'monthly_cashflow': 1045.0,\n",
       "  'NOI': 34140.0},\n",
       " 'exponent': {'yearly_interest': 0}}"
      ]
     },
     "execution_count": 15,
     "metadata": {},
     "output_type": "execute_result"
    }
   ],
   "source": [
    "refi.__dict__"
   ]
  },
  {
   "cell_type": "code",
   "execution_count": 16,
   "metadata": {},
   "outputs": [
    {
     "name": "stdout",
     "output_type": "stream",
     "text": [
      "Refinance\n",
      "Loan Amount: $648000.0\n",
      "Loan Points/Fees: $8000.0\n",
      "Loan Interest Rate: 0%\n",
      "Monthly P&I: $1800.00\n"
     ]
    }
   ],
   "source": [
    "print('Refinance')\n",
    "print(f\"Loan Amount: ${refi.price['mortgage']}\")\n",
    "print(f\"Loan Points/Fees: ${refi.price['loan_fees']}\")\n",
    "print(f\"Loan Interest Rate: {refi.exponent['yearly_interest']*100}%\")\n",
    "print(f\"Monthly P&I: ${refi.price['monthly_PI']:.2f}\")"
   ]
  },
  {
   "cell_type": "code",
   "execution_count": 17,
   "metadata": {},
   "outputs": [
    {
     "data": {
      "text/plain": [
       "({'time': {},\n",
       "  'price': {'home_value': 600000.0,\n",
       "   'downpayment': 21000.0,\n",
       "   'mortgage': 585000.0,\n",
       "   'monthly_PI': 1625.0,\n",
       "   'monthly_taxes': 555,\n",
       "   'loan_fees': 6000.0,\n",
       "   'closing': 6000.0},\n",
       "  'exponent': {'yearly_interest': 0}},\n",
       " {'time': {'total_months': 6},\n",
       "  'price': {'total_cost': 100000.0,\n",
       "   'monthly_insurance': 0,\n",
       "   'other': 0,\n",
       "   'holding_cost': 13080.0,\n",
       "   'monthly_PI': 1625.0,\n",
       "   'monthly_taxes': 555,\n",
       "   'monthly_rehab': 50000.0,\n",
       "   'monthly_total': 52180.0},\n",
       "  'exponent': {}},\n",
       " {'time': {'total': 3},\n",
       "  'price': {'monthly_rent': 4000.0,\n",
       "   'vacancy_frac': 0.05,\n",
       "   'repairs_frac': 0.05,\n",
       "   'capex_frac': 0.05,\n",
       "   'monthly_taxes': 555,\n",
       "   'monthly_PI': 1625.0,\n",
       "   'monthly_vacancy': 200.0,\n",
       "   'monthly_repairs': 200.0,\n",
       "   'monthly_capex': 200.0,\n",
       "   'monthly_expenses': 2780.0,\n",
       "   'monthly_cashflow': 1220.0,\n",
       "   'NOI': 34140.0},\n",
       "  'exponent': {}})"
      ]
     },
     "execution_count": 17,
     "metadata": {},
     "output_type": "execute_result"
    }
   ],
   "source": [
    "acq.__dict__, rehab.__dict__, pre_refi.__dict__"
   ]
  },
  {
   "cell_type": "code",
   "execution_count": 18,
   "metadata": {},
   "outputs": [
    {
     "name": "stdout",
     "output_type": "stream",
     "text": [
      "Initial Rental Period\n",
      "Monthly Income: $4000.0\n",
      "Monthly Expenses: $2780.00\n",
      "Monthly Cashflow: $1220.00\n",
      "NOI: $34140.0\n",
      "Cash on cash ROI: 11.5%\n",
      "Pro Forma Cap Rate: 5.27%\n",
      "Purchase Cap Rate: 5.84%\n"
     ]
    }
   ],
   "source": [
    "print('Initial Rental Period')\n",
    "print(f\"Monthly Income: ${pre_refi.price['monthly_rent']}\")\n",
    "print(f\"Monthly Expenses: ${pre_refi.price['monthly_expenses']:.2f}\")\n",
    "print(f\"Monthly Cashflow: ${pre_refi.price['monthly_cashflow']:.2f}\")\n",
    "print(f\"NOI: ${pre_refi.price['NOI']}\")\n",
    "print(f\"Cash on cash ROI: {acq_cash_on_cash_roi*100:.3g}%\")\n",
    "print(f\"Pro Forma Cap Rate: {pro_forma_cap_rate*100:.3g}%\")\n",
    "print(f\"Purchase Cap Rate: {purchase_cap_rate*100:.3g}%\")"
   ]
  },
  {
   "cell_type": "code",
   "execution_count": 19,
   "metadata": {},
   "outputs": [
    {
     "data": {
      "text/plain": [
       "{'time': {},\n",
       " 'price': {'monthly_rent': 4000.0,\n",
       "  'home_value': 800000.0,\n",
       "  'vacancy_frac': 0.05,\n",
       "  'repairs_frac': 0.05,\n",
       "  'capex_frac': 0.05,\n",
       "  'monthly_PI': 1800.0,\n",
       "  'monthly_taxes': 555,\n",
       "  'monthly_vacancy': 200.0,\n",
       "  'monthly_repairs': 200.0,\n",
       "  'monthly_capex': 200.0,\n",
       "  'loan_fees': 8000.0,\n",
       "  'mortgage': 648000.0,\n",
       "  'monthly_expenses': 2955.0,\n",
       "  'monthly_cashflow': 1045.0,\n",
       "  'NOI': 34140.0},\n",
       " 'exponent': {'yearly_interest': 0}}"
      ]
     },
     "execution_count": 19,
     "metadata": {},
     "output_type": "execute_result"
    }
   ],
   "source": [
    "refi.__dict__"
   ]
  },
  {
   "cell_type": "code",
   "execution_count": 20,
   "metadata": {},
   "outputs": [
    {
     "name": "stdout",
     "output_type": "stream",
     "text": [
      "Refinance Rental Period\n",
      "Monthly Income: $4000.0\n",
      "Monthly Expenses: $2955.00\n",
      "Monthly Cashflow: $1045.00\n",
      "NOI: $34140.0\n",
      "Cash on cash ROI: 9.87%\n",
      "Pro Forma Cap Rate: 5.27%\n",
      "Purchase Cap Rate: 5.84%\n"
     ]
    }
   ],
   "source": [
    "print('Refinance Rental Period')\n",
    "print(f\"Monthly Income: ${refi.price['monthly_rent']}\")\n",
    "print(f\"Monthly Expenses: ${refi.price['monthly_expenses']:.2f}\")\n",
    "print(f\"Monthly Cashflow: ${refi.price['monthly_cashflow']:.2f}\")\n",
    "print(f\"NOI: ${refi.price['NOI']}\")\n",
    "print(f\"Cash on cash ROI: {ref_cash_on_cash_roi*100:.3g}%\")\n",
    "print(f'Pro Forma Cap Rate: {pro_forma_cap_rate*100:.3g}%')\n",
    "print(f'Purchase Cap Rate: {purchase_cap_rate*100:.3g}%')"
   ]
  },
  {
   "cell_type": "code",
   "execution_count": null,
   "metadata": {},
   "outputs": [],
   "source": []
  },
  {
   "cell_type": "code",
   "execution_count": null,
   "metadata": {},
   "outputs": [],
   "source": []
  }
 ],
 "metadata": {
  "kernelspec": {
   "display_name": "Python 3",
   "language": "python",
   "name": "python3"
  },
  "language_info": {
   "codemirror_mode": {
    "name": "ipython",
    "version": 3
   },
   "file_extension": ".py",
   "mimetype": "text/x-python",
   "name": "python",
   "nbconvert_exporter": "python",
   "pygments_lexer": "ipython3",
   "version": "3.6.7"
  }
 },
 "nbformat": 4,
 "nbformat_minor": 2
}
