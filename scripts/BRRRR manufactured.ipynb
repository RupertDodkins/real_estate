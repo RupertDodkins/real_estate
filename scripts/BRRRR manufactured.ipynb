{
 "cells": [
  {
   "cell_type": "code",
   "execution_count": 45,
   "metadata": {},
   "outputs": [
    {
     "name": "stdout",
     "output_type": "stream",
     "text": [
      "The autoreload extension is already loaded. To reload it, use:\n",
      "  %reload_ext autoreload\n"
     ]
    }
   ],
   "source": [
    "%load_ext autoreload\n",
    "%autoreload 2\n",
    "import pandas as pd\n",
    "import numpy as np\n",
    "from IPython.display import display, HTML"
   ]
  },
  {
   "cell_type": "code",
   "execution_count": 47,
   "metadata": {},
   "outputs": [],
   "source": [
    "from real_estate import mortgage\n",
    "from real_estate.metadata import Acquisition, Rehab, PreReFi_Rent, Refinance\n",
    "from real_estate.aggregate import YearlySummary"
   ]
  },
  {
   "cell_type": "code",
   "execution_count": 54,
   "metadata": {},
   "outputs": [],
   "source": [
    "from real_estate.analysis import PropertyPerformance"
   ]
  },
  {
   "cell_type": "code",
   "execution_count": 55,
   "metadata": {},
   "outputs": [
    {
     "data": {
      "text/plain": [
       "3"
      ]
     },
     "execution_count": 55,
     "metadata": {},
     "output_type": "execute_result"
    }
   ],
   "source": [
    "PropertyPerformance()"
   ]
  },
  {
   "cell_type": "code",
   "execution_count": 46,
   "metadata": {},
   "outputs": [],
   "source": [
    "# purchase\n",
    "purchase_price = 200e3\n",
    "downpayment = 20e3\n",
    "rehab_cost = 25e3\n",
    "after_repair_value = 225e3\n",
    "value_appreciation = 0.06\n",
    "rent_appreciation = 0.03\n",
    "opex_inflation = 0.03\n",
    "\n",
    "# acquisition\n",
    "acq_yearly_interest = 0.065\n",
    "mortgage_years = 30\n",
    "rehab_months = 6\n",
    "yearly_taxes = 2140 # from zillow\n",
    "yearly_insurance = 70\n",
    "\n",
    "# initial rental period\n",
    "monthly_rent = 3e3\n",
    "vacancy_frac, repairs_frac, capex_frac = 0.05, 0.05, 0.05\n",
    "\n",
    "# refinanced rental period \n",
    "ref_yearly_interest = 0.065\n",
    "refinance_months = 9\n",
    "pre_refi_duration = refinance_months-rehab_months"
   ]
  },
  {
   "cell_type": "code",
   "execution_count": 48,
   "metadata": {},
   "outputs": [],
   "source": [
    "acq = Acquisition(\n",
    "    purchase_price=purchase_price, \n",
    "    downpayment=downpayment, \n",
    "    yearly_interest=acq_yearly_interest, \n",
    "    value_appreciation=value_appreciation, \n",
    "    yearly_taxes=yearly_taxes\n",
    "    )\n",
    "rehab = Rehab(\n",
    "    rehab_months=rehab_months, \n",
    "    total_cost=rehab_cost, \n",
    "    monthly_PI=acq.price['monthly_PI'], \n",
    "    owning_expenses=acq.price['owning_expenses']\n",
    "    )\n",
    "pre_refi = PreReFi_Rent(\n",
    "    monthly_rent=monthly_rent, \n",
    "    vacancy_frac=vacancy_frac, \n",
    "    repairs_frac=repairs_frac, \n",
    "    capex_frac=capex_frac,\n",
    "    total_time=pre_refi_duration, \n",
    "    monthly_PI=acq.price['monthly_PI'], \n",
    "    rent_appreciation=rent_appreciation, \n",
    "    opex_inflation=opex_inflation, \n",
    "    owning_expenses=acq.price['owning_expenses']\n",
    "    )\n",
    "refi = Refinance(\n",
    "    monthly_rent=monthly_rent, \n",
    "    home_value=after_repair_value, \n",
    "    vacancy_frac=vacancy_frac, \n",
    "    repairs_frac=repairs_frac, \n",
    "    capex_frac=capex_frac, \n",
    "    refinance_months=refinance_months, \n",
    "    yearly_interest=ref_yearly_interest, \n",
    "    value_appreciation=value_appreciation,\n",
    "    rent_appreciation=rent_appreciation, \n",
    "    opex_inflation=opex_inflation, \n",
    "    owning_expenses=acq.price['owning_expenses']\n",
    "    )"
   ]
  },
  {
   "cell_type": "code",
   "execution_count": 49,
   "metadata": {},
   "outputs": [
    {
     "name": "stdout",
     "output_type": "stream",
     "text": [
      "\n",
      "Acquisition:\n",
      "Down Payment: $20000.0\n",
      "Loan Amount: $182000.0\n",
      "Loan Points/Fees: $2000.0\n",
      "Loan Interest Rate: 6.5%\n",
      "Monthly P&I: $1150.36\n",
      "Home Value Appreciaion: $6.0%\n",
      "\n",
      "Rehab:\n",
      "Holding costs: $10707.18\n",
      "Monthly P&I: $1150.36\n",
      "Rehab time: 6 months\n",
      "Owning expenses: $634.1666666666666\n",
      "\n",
      "Initial Rental Period:\n",
      "Monthly Income: $3000.0\n",
      "Monthly Expenses: $2234.53\n",
      "Monthly Cashflow: $765.47\n",
      "NOI: $22990.0\n",
      "\n",
      "Refinance:\n",
      "Loan Amount: $182250.0\n",
      "Loan Points/Fees: $2250.0\n",
      "Loan Interest Rate: 6.5%\n",
      "Monthly P&I: $1151.94\n",
      "Home Value Appreciaion: 6.0%\n"
     ]
    }
   ],
   "source": [
    "print(str(acq))\n",
    "print(str(rehab))\n",
    "print(str(pre_refi))\n",
    "print(str(refi))"
   ]
  },
  {
   "cell_type": "code",
   "execution_count": 50,
   "metadata": {},
   "outputs": [
    {
     "name": "stdout",
     "output_type": "stream",
     "text": [
      "47000.0\n"
     ]
    },
    {
     "data": {
      "text/html": [
       "<div>\n",
       "<style scoped>\n",
       "    .dataframe tbody tr th:only-of-type {\n",
       "        vertical-align: middle;\n",
       "    }\n",
       "\n",
       "    .dataframe tbody tr th {\n",
       "        vertical-align: top;\n",
       "    }\n",
       "\n",
       "    .dataframe thead th {\n",
       "        text-align: right;\n",
       "    }\n",
       "</style>\n",
       "<table border=\"1\" class=\"dataframe\">\n",
       "  <thead>\n",
       "    <tr style=\"text-align: right;\">\n",
       "      <th></th>\n",
       "      <th>Year</th>\n",
       "      <th>Month</th>\n",
       "      <th>Renting Months</th>\n",
       "      <th>Total Annual Income</th>\n",
       "      <th>Operating Expenses</th>\n",
       "      <th>Mortgage Payment</th>\n",
       "      <th>Total Annual Expenses</th>\n",
       "      <th>Total Annual Cashflow</th>\n",
       "      <th>Cash on Cash ROI</th>\n",
       "      <th>Property Value</th>\n",
       "      <th>Loan Balance</th>\n",
       "      <th>Equity</th>\n",
       "      <th>Equity Gain</th>\n",
       "      <th>Annual Profit</th>\n",
       "      <th>Return on Equity</th>\n",
       "      <th>Cummulative Profit</th>\n",
       "      <th>Return on Initial Investment</th>\n",
       "    </tr>\n",
       "  </thead>\n",
       "  <tbody>\n",
       "    <tr>\n",
       "      <th>0</th>\n",
       "      <td>0</td>\n",
       "      <td>0</td>\n",
       "      <td>6.00</td>\n",
       "      <td>18,000.00</td>\n",
       "      <td>6,500.00</td>\n",
       "      <td>13,800.00</td>\n",
       "      <td>45,300.00</td>\n",
       "      <td>-27,300.00</td>\n",
       "      <td>-0.58</td>\n",
       "      <td>225,000.00</td>\n",
       "      <td>182,000.00</td>\n",
       "      <td>43,200.00</td>\n",
       "      <td>-3,840.00</td>\n",
       "      <td>-31,100.00</td>\n",
       "      <td>-0.66</td>\n",
       "      <td>-31,100.00</td>\n",
       "      <td>-0.66</td>\n",
       "    </tr>\n",
       "    <tr>\n",
       "      <th>1</th>\n",
       "      <td>1.00</td>\n",
       "      <td>12.00</td>\n",
       "      <td>12.00</td>\n",
       "      <td>37,100.00</td>\n",
       "      <td>13,400.00</td>\n",
       "      <td>13,800.00</td>\n",
       "      <td>27,200.00</td>\n",
       "      <td>9,860.00</td>\n",
       "      <td>0.21</td>\n",
       "      <td>238,000.00</td>\n",
       "      <td>182,000.00</td>\n",
       "      <td>56,800.00</td>\n",
       "      <td>13,700.00</td>\n",
       "      <td>23,500.00</td>\n",
       "      <td>0.55</td>\n",
       "      <td>-7,630.00</td>\n",
       "      <td>-0.16</td>\n",
       "    </tr>\n",
       "    <tr>\n",
       "      <th>2</th>\n",
       "      <td>2.00</td>\n",
       "      <td>24.00</td>\n",
       "      <td>12.00</td>\n",
       "      <td>38,200.00</td>\n",
       "      <td>13,800.00</td>\n",
       "      <td>13,800.00</td>\n",
       "      <td>27,600.00</td>\n",
       "      <td>10,600.00</td>\n",
       "      <td>0.23</td>\n",
       "      <td>253,000.00</td>\n",
       "      <td>182,000.00</td>\n",
       "      <td>71,300.00</td>\n",
       "      <td>14,500.00</td>\n",
       "      <td>25,000.00</td>\n",
       "      <td>0.44</td>\n",
       "      <td>17,400.00</td>\n",
       "      <td>0.37</td>\n",
       "    </tr>\n",
       "    <tr>\n",
       "      <th>3</th>\n",
       "      <td>3.00</td>\n",
       "      <td>36.00</td>\n",
       "      <td>12.00</td>\n",
       "      <td>39,300.00</td>\n",
       "      <td>14,200.00</td>\n",
       "      <td>13,800.00</td>\n",
       "      <td>28,000.00</td>\n",
       "      <td>11,300.00</td>\n",
       "      <td>0.24</td>\n",
       "      <td>268,000.00</td>\n",
       "      <td>181,000.00</td>\n",
       "      <td>86,600.00</td>\n",
       "      <td>15,300.00</td>\n",
       "      <td>26,600.00</td>\n",
       "      <td>0.37</td>\n",
       "      <td>44,000.00</td>\n",
       "      <td>0.94</td>\n",
       "    </tr>\n",
       "    <tr>\n",
       "      <th>4</th>\n",
       "      <td>4.00</td>\n",
       "      <td>48.00</td>\n",
       "      <td>12.00</td>\n",
       "      <td>40,500.00</td>\n",
       "      <td>14,600.00</td>\n",
       "      <td>13,800.00</td>\n",
       "      <td>28,500.00</td>\n",
       "      <td>12,100.00</td>\n",
       "      <td>0.26</td>\n",
       "      <td>284,000.00</td>\n",
       "      <td>181,000.00</td>\n",
       "      <td>103,000.00</td>\n",
       "      <td>16,200.00</td>\n",
       "      <td>28,300.00</td>\n",
       "      <td>0.33</td>\n",
       "      <td>72,300.00</td>\n",
       "      <td>1.54</td>\n",
       "    </tr>\n",
       "    <tr>\n",
       "      <th>5</th>\n",
       "      <td>5.00</td>\n",
       "      <td>60.00</td>\n",
       "      <td>12.00</td>\n",
       "      <td>41,700.00</td>\n",
       "      <td>15,100.00</td>\n",
       "      <td>13,800.00</td>\n",
       "      <td>28,900.00</td>\n",
       "      <td>12,800.00</td>\n",
       "      <td>0.27</td>\n",
       "      <td>301,000.00</td>\n",
       "      <td>181,000.00</td>\n",
       "      <td>120,000.00</td>\n",
       "      <td>17,200.00</td>\n",
       "      <td>30,000.00</td>\n",
       "      <td>0.29</td>\n",
       "      <td>102,000.00</td>\n",
       "      <td>2.18</td>\n",
       "    </tr>\n",
       "    <tr>\n",
       "      <th>6</th>\n",
       "      <td>6.00</td>\n",
       "      <td>72.00</td>\n",
       "      <td>12.00</td>\n",
       "      <td>43,000.00</td>\n",
       "      <td>15,500.00</td>\n",
       "      <td>13,800.00</td>\n",
       "      <td>29,400.00</td>\n",
       "      <td>13,600.00</td>\n",
       "      <td>0.29</td>\n",
       "      <td>319,000.00</td>\n",
       "      <td>181,000.00</td>\n",
       "      <td>138,000.00</td>\n",
       "      <td>18,200.00</td>\n",
       "      <td>31,900.00</td>\n",
       "      <td>0.27</td>\n",
       "      <td>134,000.00</td>\n",
       "      <td>2.86</td>\n",
       "    </tr>\n",
       "    <tr>\n",
       "      <th>7</th>\n",
       "      <td>7.00</td>\n",
       "      <td>84.00</td>\n",
       "      <td>12.00</td>\n",
       "      <td>44,300.00</td>\n",
       "      <td>16,000.00</td>\n",
       "      <td>13,800.00</td>\n",
       "      <td>29,800.00</td>\n",
       "      <td>14,500.00</td>\n",
       "      <td>0.31</td>\n",
       "      <td>338,000.00</td>\n",
       "      <td>181,000.00</td>\n",
       "      <td>158,000.00</td>\n",
       "      <td>19,300.00</td>\n",
       "      <td>33,800.00</td>\n",
       "      <td>0.24</td>\n",
       "      <td>168,000.00</td>\n",
       "      <td>3.58</td>\n",
       "    </tr>\n",
       "    <tr>\n",
       "      <th>8</th>\n",
       "      <td>8.00</td>\n",
       "      <td>96.00</td>\n",
       "      <td>12.00</td>\n",
       "      <td>45,600.00</td>\n",
       "      <td>16,500.00</td>\n",
       "      <td>13,800.00</td>\n",
       "      <td>30,300.00</td>\n",
       "      <td>15,300.00</td>\n",
       "      <td>0.33</td>\n",
       "      <td>359,000.00</td>\n",
       "      <td>180,000.00</td>\n",
       "      <td>178,000.00</td>\n",
       "      <td>20,500.00</td>\n",
       "      <td>35,800.00</td>\n",
       "      <td>0.23</td>\n",
       "      <td>204,000.00</td>\n",
       "      <td>4.34</td>\n",
       "    </tr>\n",
       "    <tr>\n",
       "      <th>9</th>\n",
       "      <td>9.00</td>\n",
       "      <td>108.00</td>\n",
       "      <td>12.00</td>\n",
       "      <td>47,000.00</td>\n",
       "      <td>17,000.00</td>\n",
       "      <td>13,800.00</td>\n",
       "      <td>30,800.00</td>\n",
       "      <td>16,200.00</td>\n",
       "      <td>0.34</td>\n",
       "      <td>380,000.00</td>\n",
       "      <td>180,000.00</td>\n",
       "      <td>200,000.00</td>\n",
       "      <td>21,700.00</td>\n",
       "      <td>37,900.00</td>\n",
       "      <td>0.21</td>\n",
       "      <td>242,000.00</td>\n",
       "      <td>5.14</td>\n",
       "    </tr>\n",
       "    <tr>\n",
       "      <th>10</th>\n",
       "      <td>10.00</td>\n",
       "      <td>120.00</td>\n",
       "      <td>12.00</td>\n",
       "      <td>48,400.00</td>\n",
       "      <td>17,500.00</td>\n",
       "      <td>13,800.00</td>\n",
       "      <td>31,300.00</td>\n",
       "      <td>17,100.00</td>\n",
       "      <td>0.36</td>\n",
       "      <td>403,000.00</td>\n",
       "      <td>180,000.00</td>\n",
       "      <td>223,000.00</td>\n",
       "      <td>23,000.00</td>\n",
       "      <td>40,100.00</td>\n",
       "      <td>0.20</td>\n",
       "      <td>282,000.00</td>\n",
       "      <td>5.99</td>\n",
       "    </tr>\n",
       "    <tr>\n",
       "      <th>11</th>\n",
       "      <td>11.00</td>\n",
       "      <td>132.00</td>\n",
       "      <td>12.00</td>\n",
       "      <td>49,800.00</td>\n",
       "      <td>18,000.00</td>\n",
       "      <td>13,800.00</td>\n",
       "      <td>31,800.00</td>\n",
       "      <td>18,000.00</td>\n",
       "      <td>0.38</td>\n",
       "      <td>427,000.00</td>\n",
       "      <td>180,000.00</td>\n",
       "      <td>247,000.00</td>\n",
       "      <td>24,400.00</td>\n",
       "      <td>42,400.00</td>\n",
       "      <td>0.19</td>\n",
       "      <td>324,000.00</td>\n",
       "      <td>6.90</td>\n",
       "    </tr>\n",
       "    <tr>\n",
       "      <th>12</th>\n",
       "      <td>12.00</td>\n",
       "      <td>144.00</td>\n",
       "      <td>12.00</td>\n",
       "      <td>51,300.00</td>\n",
       "      <td>18,500.00</td>\n",
       "      <td>13,800.00</td>\n",
       "      <td>32,400.00</td>\n",
       "      <td>19,000.00</td>\n",
       "      <td>0.40</td>\n",
       "      <td>453,000.00</td>\n",
       "      <td>180,000.00</td>\n",
       "      <td>273,000.00</td>\n",
       "      <td>25,800.00</td>\n",
       "      <td>44,800.00</td>\n",
       "      <td>0.18</td>\n",
       "      <td>369,000.00</td>\n",
       "      <td>7.85</td>\n",
       "    </tr>\n",
       "    <tr>\n",
       "      <th>13</th>\n",
       "      <td>13.00</td>\n",
       "      <td>156.00</td>\n",
       "      <td>12.00</td>\n",
       "      <td>52,900.00</td>\n",
       "      <td>19,100.00</td>\n",
       "      <td>13,800.00</td>\n",
       "      <td>32,900.00</td>\n",
       "      <td>19,900.00</td>\n",
       "      <td>0.42</td>\n",
       "      <td>480,000.00</td>\n",
       "      <td>180,000.00</td>\n",
       "      <td>300,000.00</td>\n",
       "      <td>27,300.00</td>\n",
       "      <td>47,300.00</td>\n",
       "      <td>0.17</td>\n",
       "      <td>416,000.00</td>\n",
       "      <td>8.85</td>\n",
       "    </tr>\n",
       "    <tr>\n",
       "      <th>14</th>\n",
       "      <td>14.00</td>\n",
       "      <td>168.00</td>\n",
       "      <td>12.00</td>\n",
       "      <td>54,500.00</td>\n",
       "      <td>19,700.00</td>\n",
       "      <td>13,800.00</td>\n",
       "      <td>33,500.00</td>\n",
       "      <td>21,000.00</td>\n",
       "      <td>0.45</td>\n",
       "      <td>509,000.00</td>\n",
       "      <td>179,000.00</td>\n",
       "      <td>329,000.00</td>\n",
       "      <td>29,000.00</td>\n",
       "      <td>49,900.00</td>\n",
       "      <td>0.17</td>\n",
       "      <td>466,000.00</td>\n",
       "      <td>9.92</td>\n",
       "    </tr>\n",
       "    <tr>\n",
       "      <th>15</th>\n",
       "      <td>15.00</td>\n",
       "      <td>180.00</td>\n",
       "      <td>12.00</td>\n",
       "      <td>56,100.00</td>\n",
       "      <td>20,300.00</td>\n",
       "      <td>13,800.00</td>\n",
       "      <td>34,100.00</td>\n",
       "      <td>22,000.00</td>\n",
       "      <td>0.47</td>\n",
       "      <td>539,000.00</td>\n",
       "      <td>179,000.00</td>\n",
       "      <td>360,000.00</td>\n",
       "      <td>30,700.00</td>\n",
       "      <td>52,700.00</td>\n",
       "      <td>0.16</td>\n",
       "      <td>519,000.00</td>\n",
       "      <td>11.00</td>\n",
       "    </tr>\n",
       "    <tr>\n",
       "      <th>16</th>\n",
       "      <td>16.00</td>\n",
       "      <td>192.00</td>\n",
       "      <td>12.00</td>\n",
       "      <td>57,800.00</td>\n",
       "      <td>20,900.00</td>\n",
       "      <td>13,800.00</td>\n",
       "      <td>34,700.00</td>\n",
       "      <td>23,100.00</td>\n",
       "      <td>0.49</td>\n",
       "      <td>572,000.00</td>\n",
       "      <td>179,000.00</td>\n",
       "      <td>393,000.00</td>\n",
       "      <td>32,500.00</td>\n",
       "      <td>55,600.00</td>\n",
       "      <td>0.15</td>\n",
       "      <td>574,000.00</td>\n",
       "      <td>12.20</td>\n",
       "    </tr>\n",
       "    <tr>\n",
       "      <th>17</th>\n",
       "      <td>17.00</td>\n",
       "      <td>204.00</td>\n",
       "      <td>12.00</td>\n",
       "      <td>59,500.00</td>\n",
       "      <td>21,500.00</td>\n",
       "      <td>13,800.00</td>\n",
       "      <td>35,300.00</td>\n",
       "      <td>24,200.00</td>\n",
       "      <td>0.51</td>\n",
       "      <td>606,000.00</td>\n",
       "      <td>179,000.00</td>\n",
       "      <td>427,000.00</td>\n",
       "      <td>34,500.00</td>\n",
       "      <td>58,700.00</td>\n",
       "      <td>0.15</td>\n",
       "      <td>633,000.00</td>\n",
       "      <td>13.50</td>\n",
       "    </tr>\n",
       "    <tr>\n",
       "      <th>18</th>\n",
       "      <td>18.00</td>\n",
       "      <td>216.00</td>\n",
       "      <td>12.00</td>\n",
       "      <td>61,300.00</td>\n",
       "      <td>22,100.00</td>\n",
       "      <td>13,800.00</td>\n",
       "      <td>36,000.00</td>\n",
       "      <td>25,300.00</td>\n",
       "      <td>0.54</td>\n",
       "      <td>642,000.00</td>\n",
       "      <td>179,000.00</td>\n",
       "      <td>464,000.00</td>\n",
       "      <td>36,500.00</td>\n",
       "      <td>61,800.00</td>\n",
       "      <td>0.14</td>\n",
       "      <td>695,000.00</td>\n",
       "      <td>14.80</td>\n",
       "    </tr>\n",
       "    <tr>\n",
       "      <th>19</th>\n",
       "      <td>19.00</td>\n",
       "      <td>228.00</td>\n",
       "      <td>12.00</td>\n",
       "      <td>63,100.00</td>\n",
       "      <td>22,800.00</td>\n",
       "      <td>13,800.00</td>\n",
       "      <td>36,600.00</td>\n",
       "      <td>26,500.00</td>\n",
       "      <td>0.56</td>\n",
       "      <td>681,000.00</td>\n",
       "      <td>179,000.00</td>\n",
       "      <td>502,000.00</td>\n",
       "      <td>38,700.00</td>\n",
       "      <td>65,200.00</td>\n",
       "      <td>0.14</td>\n",
       "      <td>760,000.00</td>\n",
       "      <td>16.20</td>\n",
       "    </tr>\n",
       "    <tr>\n",
       "      <th>20</th>\n",
       "      <td>20.00</td>\n",
       "      <td>240.00</td>\n",
       "      <td>12.00</td>\n",
       "      <td>65,000.00</td>\n",
       "      <td>23,500.00</td>\n",
       "      <td>13,800.00</td>\n",
       "      <td>37,300.00</td>\n",
       "      <td>27,700.00</td>\n",
       "      <td>0.59</td>\n",
       "      <td>722,000.00</td>\n",
       "      <td>178,000.00</td>\n",
       "      <td>543,000.00</td>\n",
       "      <td>41,000.00</td>\n",
       "      <td>68,700.00</td>\n",
       "      <td>0.14</td>\n",
       "      <td>829,000.00</td>\n",
       "      <td>17.60</td>\n",
       "    </tr>\n",
       "    <tr>\n",
       "      <th>21</th>\n",
       "      <td>21.00</td>\n",
       "      <td>252.00</td>\n",
       "      <td>12.00</td>\n",
       "      <td>67,000.00</td>\n",
       "      <td>24,200.00</td>\n",
       "      <td>13,800.00</td>\n",
       "      <td>38,000.00</td>\n",
       "      <td>28,900.00</td>\n",
       "      <td>0.62</td>\n",
       "      <td>765,000.00</td>\n",
       "      <td>178,000.00</td>\n",
       "      <td>587,000.00</td>\n",
       "      <td>43,500.00</td>\n",
       "      <td>72,400.00</td>\n",
       "      <td>0.13</td>\n",
       "      <td>901,000.00</td>\n",
       "      <td>19.20</td>\n",
       "    </tr>\n",
       "    <tr>\n",
       "      <th>22</th>\n",
       "      <td>22.00</td>\n",
       "      <td>264.00</td>\n",
       "      <td>12.00</td>\n",
       "      <td>69,000.00</td>\n",
       "      <td>24,900.00</td>\n",
       "      <td>13,800.00</td>\n",
       "      <td>38,800.00</td>\n",
       "      <td>30,200.00</td>\n",
       "      <td>0.64</td>\n",
       "      <td>811,000.00</td>\n",
       "      <td>178,000.00</td>\n",
       "      <td>633,000.00</td>\n",
       "      <td>46,100.00</td>\n",
       "      <td>76,300.00</td>\n",
       "      <td>0.13</td>\n",
       "      <td>977,000.00</td>\n",
       "      <td>20.80</td>\n",
       "    </tr>\n",
       "    <tr>\n",
       "      <th>23</th>\n",
       "      <td>23.00</td>\n",
       "      <td>276.00</td>\n",
       "      <td>12.00</td>\n",
       "      <td>71,000.00</td>\n",
       "      <td>25,700.00</td>\n",
       "      <td>13,800.00</td>\n",
       "      <td>39,500.00</td>\n",
       "      <td>31,500.00</td>\n",
       "      <td>0.67</td>\n",
       "      <td>859,000.00</td>\n",
       "      <td>178,000.00</td>\n",
       "      <td>682,000.00</td>\n",
       "      <td>48,800.00</td>\n",
       "      <td>80,400.00</td>\n",
       "      <td>0.13</td>\n",
       "      <td>1,060,000.00</td>\n",
       "      <td>22.50</td>\n",
       "    </tr>\n",
       "    <tr>\n",
       "      <th>24</th>\n",
       "      <td>24.00</td>\n",
       "      <td>288.00</td>\n",
       "      <td>12.00</td>\n",
       "      <td>73,200.00</td>\n",
       "      <td>26,400.00</td>\n",
       "      <td>13,800.00</td>\n",
       "      <td>40,300.00</td>\n",
       "      <td>32,900.00</td>\n",
       "      <td>0.70</td>\n",
       "      <td>911,000.00</td>\n",
       "      <td>178,000.00</td>\n",
       "      <td>733,000.00</td>\n",
       "      <td>51,800.00</td>\n",
       "      <td>84,700.00</td>\n",
       "      <td>0.12</td>\n",
       "      <td>1,140,000.00</td>\n",
       "      <td>24.30</td>\n",
       "    </tr>\n",
       "    <tr>\n",
       "      <th>25</th>\n",
       "      <td>25.00</td>\n",
       "      <td>300.00</td>\n",
       "      <td>12.00</td>\n",
       "      <td>75,400.00</td>\n",
       "      <td>27,200.00</td>\n",
       "      <td>13,800.00</td>\n",
       "      <td>41,100.00</td>\n",
       "      <td>34,300.00</td>\n",
       "      <td>0.73</td>\n",
       "      <td>966,000.00</td>\n",
       "      <td>177,000.00</td>\n",
       "      <td>788,000.00</td>\n",
       "      <td>54,800.00</td>\n",
       "      <td>89,200.00</td>\n",
       "      <td>0.12</td>\n",
       "      <td>1,230,000.00</td>\n",
       "      <td>26.20</td>\n",
       "    </tr>\n",
       "    <tr>\n",
       "      <th>26</th>\n",
       "      <td>26.00</td>\n",
       "      <td>312.00</td>\n",
       "      <td>12.00</td>\n",
       "      <td>77,600.00</td>\n",
       "      <td>28,100.00</td>\n",
       "      <td>13,800.00</td>\n",
       "      <td>41,900.00</td>\n",
       "      <td>35,800.00</td>\n",
       "      <td>0.76</td>\n",
       "      <td>1,020,000.00</td>\n",
       "      <td>177,000.00</td>\n",
       "      <td>846,000.00</td>\n",
       "      <td>58,100.00</td>\n",
       "      <td>93,900.00</td>\n",
       "      <td>0.12</td>\n",
       "      <td>1,330,000.00</td>\n",
       "      <td>28.20</td>\n",
       "    </tr>\n",
       "    <tr>\n",
       "      <th>27</th>\n",
       "      <td>27.00</td>\n",
       "      <td>324.00</td>\n",
       "      <td>12.00</td>\n",
       "      <td>80,000.00</td>\n",
       "      <td>28,900.00</td>\n",
       "      <td>13,800.00</td>\n",
       "      <td>42,700.00</td>\n",
       "      <td>37,200.00</td>\n",
       "      <td>0.79</td>\n",
       "      <td>1,090,000.00</td>\n",
       "      <td>177,000.00</td>\n",
       "      <td>908,000.00</td>\n",
       "      <td>61,600.00</td>\n",
       "      <td>98,900.00</td>\n",
       "      <td>0.12</td>\n",
       "      <td>1,420,000.00</td>\n",
       "      <td>30.30</td>\n",
       "    </tr>\n",
       "    <tr>\n",
       "      <th>28</th>\n",
       "      <td>28.00</td>\n",
       "      <td>336.00</td>\n",
       "      <td>12.00</td>\n",
       "      <td>82,400.00</td>\n",
       "      <td>29,800.00</td>\n",
       "      <td>13,800.00</td>\n",
       "      <td>43,600.00</td>\n",
       "      <td>38,800.00</td>\n",
       "      <td>0.82</td>\n",
       "      <td>1,150,000.00</td>\n",
       "      <td>177,000.00</td>\n",
       "      <td>973,000.00</td>\n",
       "      <td>65,300.00</td>\n",
       "      <td>104,000.00</td>\n",
       "      <td>0.12</td>\n",
       "      <td>1,530,000.00</td>\n",
       "      <td>32.50</td>\n",
       "    </tr>\n",
       "    <tr>\n",
       "      <th>29</th>\n",
       "      <td>29.00</td>\n",
       "      <td>348.00</td>\n",
       "      <td>12.00</td>\n",
       "      <td>84,800.00</td>\n",
       "      <td>30,700.00</td>\n",
       "      <td>13,800.00</td>\n",
       "      <td>44,500.00</td>\n",
       "      <td>40,400.00</td>\n",
       "      <td>0.86</td>\n",
       "      <td>1,220,000.00</td>\n",
       "      <td>177,000.00</td>\n",
       "      <td>1,040,000.00</td>\n",
       "      <td>69,200.00</td>\n",
       "      <td>110,000.00</td>\n",
       "      <td>0.11</td>\n",
       "      <td>1,640,000.00</td>\n",
       "      <td>34.90</td>\n",
       "    </tr>\n",
       "  </tbody>\n",
       "</table>\n",
       "</div>"
      ],
      "text/plain": [
       "     Year   Month Renting Months Total Annual Income Operating Expenses  \\\n",
       "0       0       0           6.00           18,000.00           6,500.00   \n",
       "1    1.00   12.00          12.00           37,100.00          13,400.00   \n",
       "2    2.00   24.00          12.00           38,200.00          13,800.00   \n",
       "3    3.00   36.00          12.00           39,300.00          14,200.00   \n",
       "4    4.00   48.00          12.00           40,500.00          14,600.00   \n",
       "5    5.00   60.00          12.00           41,700.00          15,100.00   \n",
       "6    6.00   72.00          12.00           43,000.00          15,500.00   \n",
       "7    7.00   84.00          12.00           44,300.00          16,000.00   \n",
       "8    8.00   96.00          12.00           45,600.00          16,500.00   \n",
       "9    9.00  108.00          12.00           47,000.00          17,000.00   \n",
       "10  10.00  120.00          12.00           48,400.00          17,500.00   \n",
       "11  11.00  132.00          12.00           49,800.00          18,000.00   \n",
       "12  12.00  144.00          12.00           51,300.00          18,500.00   \n",
       "13  13.00  156.00          12.00           52,900.00          19,100.00   \n",
       "14  14.00  168.00          12.00           54,500.00          19,700.00   \n",
       "15  15.00  180.00          12.00           56,100.00          20,300.00   \n",
       "16  16.00  192.00          12.00           57,800.00          20,900.00   \n",
       "17  17.00  204.00          12.00           59,500.00          21,500.00   \n",
       "18  18.00  216.00          12.00           61,300.00          22,100.00   \n",
       "19  19.00  228.00          12.00           63,100.00          22,800.00   \n",
       "20  20.00  240.00          12.00           65,000.00          23,500.00   \n",
       "21  21.00  252.00          12.00           67,000.00          24,200.00   \n",
       "22  22.00  264.00          12.00           69,000.00          24,900.00   \n",
       "23  23.00  276.00          12.00           71,000.00          25,700.00   \n",
       "24  24.00  288.00          12.00           73,200.00          26,400.00   \n",
       "25  25.00  300.00          12.00           75,400.00          27,200.00   \n",
       "26  26.00  312.00          12.00           77,600.00          28,100.00   \n",
       "27  27.00  324.00          12.00           80,000.00          28,900.00   \n",
       "28  28.00  336.00          12.00           82,400.00          29,800.00   \n",
       "29  29.00  348.00          12.00           84,800.00          30,700.00   \n",
       "\n",
       "   Mortgage Payment Total Annual Expenses Total Annual Cashflow  \\\n",
       "0         13,800.00             45,300.00            -27,300.00   \n",
       "1         13,800.00             27,200.00              9,860.00   \n",
       "2         13,800.00             27,600.00             10,600.00   \n",
       "3         13,800.00             28,000.00             11,300.00   \n",
       "4         13,800.00             28,500.00             12,100.00   \n",
       "5         13,800.00             28,900.00             12,800.00   \n",
       "6         13,800.00             29,400.00             13,600.00   \n",
       "7         13,800.00             29,800.00             14,500.00   \n",
       "8         13,800.00             30,300.00             15,300.00   \n",
       "9         13,800.00             30,800.00             16,200.00   \n",
       "10        13,800.00             31,300.00             17,100.00   \n",
       "11        13,800.00             31,800.00             18,000.00   \n",
       "12        13,800.00             32,400.00             19,000.00   \n",
       "13        13,800.00             32,900.00             19,900.00   \n",
       "14        13,800.00             33,500.00             21,000.00   \n",
       "15        13,800.00             34,100.00             22,000.00   \n",
       "16        13,800.00             34,700.00             23,100.00   \n",
       "17        13,800.00             35,300.00             24,200.00   \n",
       "18        13,800.00             36,000.00             25,300.00   \n",
       "19        13,800.00             36,600.00             26,500.00   \n",
       "20        13,800.00             37,300.00             27,700.00   \n",
       "21        13,800.00             38,000.00             28,900.00   \n",
       "22        13,800.00             38,800.00             30,200.00   \n",
       "23        13,800.00             39,500.00             31,500.00   \n",
       "24        13,800.00             40,300.00             32,900.00   \n",
       "25        13,800.00             41,100.00             34,300.00   \n",
       "26        13,800.00             41,900.00             35,800.00   \n",
       "27        13,800.00             42,700.00             37,200.00   \n",
       "28        13,800.00             43,600.00             38,800.00   \n",
       "29        13,800.00             44,500.00             40,400.00   \n",
       "\n",
       "   Cash on Cash ROI Property Value Loan Balance        Equity Equity Gain  \\\n",
       "0             -0.58     225,000.00   182,000.00     43,200.00   -3,840.00   \n",
       "1              0.21     238,000.00   182,000.00     56,800.00   13,700.00   \n",
       "2              0.23     253,000.00   182,000.00     71,300.00   14,500.00   \n",
       "3              0.24     268,000.00   181,000.00     86,600.00   15,300.00   \n",
       "4              0.26     284,000.00   181,000.00    103,000.00   16,200.00   \n",
       "5              0.27     301,000.00   181,000.00    120,000.00   17,200.00   \n",
       "6              0.29     319,000.00   181,000.00    138,000.00   18,200.00   \n",
       "7              0.31     338,000.00   181,000.00    158,000.00   19,300.00   \n",
       "8              0.33     359,000.00   180,000.00    178,000.00   20,500.00   \n",
       "9              0.34     380,000.00   180,000.00    200,000.00   21,700.00   \n",
       "10             0.36     403,000.00   180,000.00    223,000.00   23,000.00   \n",
       "11             0.38     427,000.00   180,000.00    247,000.00   24,400.00   \n",
       "12             0.40     453,000.00   180,000.00    273,000.00   25,800.00   \n",
       "13             0.42     480,000.00   180,000.00    300,000.00   27,300.00   \n",
       "14             0.45     509,000.00   179,000.00    329,000.00   29,000.00   \n",
       "15             0.47     539,000.00   179,000.00    360,000.00   30,700.00   \n",
       "16             0.49     572,000.00   179,000.00    393,000.00   32,500.00   \n",
       "17             0.51     606,000.00   179,000.00    427,000.00   34,500.00   \n",
       "18             0.54     642,000.00   179,000.00    464,000.00   36,500.00   \n",
       "19             0.56     681,000.00   179,000.00    502,000.00   38,700.00   \n",
       "20             0.59     722,000.00   178,000.00    543,000.00   41,000.00   \n",
       "21             0.62     765,000.00   178,000.00    587,000.00   43,500.00   \n",
       "22             0.64     811,000.00   178,000.00    633,000.00   46,100.00   \n",
       "23             0.67     859,000.00   178,000.00    682,000.00   48,800.00   \n",
       "24             0.70     911,000.00   178,000.00    733,000.00   51,800.00   \n",
       "25             0.73     966,000.00   177,000.00    788,000.00   54,800.00   \n",
       "26             0.76   1,020,000.00   177,000.00    846,000.00   58,100.00   \n",
       "27             0.79   1,090,000.00   177,000.00    908,000.00   61,600.00   \n",
       "28             0.82   1,150,000.00   177,000.00    973,000.00   65,300.00   \n",
       "29             0.86   1,220,000.00   177,000.00  1,040,000.00   69,200.00   \n",
       "\n",
       "   Annual Profit Return on Equity Cummulative Profit  \\\n",
       "0     -31,100.00            -0.66         -31,100.00   \n",
       "1      23,500.00             0.55          -7,630.00   \n",
       "2      25,000.00             0.44          17,400.00   \n",
       "3      26,600.00             0.37          44,000.00   \n",
       "4      28,300.00             0.33          72,300.00   \n",
       "5      30,000.00             0.29         102,000.00   \n",
       "6      31,900.00             0.27         134,000.00   \n",
       "7      33,800.00             0.24         168,000.00   \n",
       "8      35,800.00             0.23         204,000.00   \n",
       "9      37,900.00             0.21         242,000.00   \n",
       "10     40,100.00             0.20         282,000.00   \n",
       "11     42,400.00             0.19         324,000.00   \n",
       "12     44,800.00             0.18         369,000.00   \n",
       "13     47,300.00             0.17         416,000.00   \n",
       "14     49,900.00             0.17         466,000.00   \n",
       "15     52,700.00             0.16         519,000.00   \n",
       "16     55,600.00             0.15         574,000.00   \n",
       "17     58,700.00             0.15         633,000.00   \n",
       "18     61,800.00             0.14         695,000.00   \n",
       "19     65,200.00             0.14         760,000.00   \n",
       "20     68,700.00             0.14         829,000.00   \n",
       "21     72,400.00             0.13         901,000.00   \n",
       "22     76,300.00             0.13         977,000.00   \n",
       "23     80,400.00             0.13       1,060,000.00   \n",
       "24     84,700.00             0.12       1,140,000.00   \n",
       "25     89,200.00             0.12       1,230,000.00   \n",
       "26     93,900.00             0.12       1,330,000.00   \n",
       "27     98,900.00             0.12       1,420,000.00   \n",
       "28    104,000.00             0.12       1,530,000.00   \n",
       "29    110,000.00             0.11       1,640,000.00   \n",
       "\n",
       "   Return on Initial Investment  \n",
       "0                         -0.66  \n",
       "1                         -0.16  \n",
       "2                          0.37  \n",
       "3                          0.94  \n",
       "4                          1.54  \n",
       "5                          2.18  \n",
       "6                          2.86  \n",
       "7                          3.58  \n",
       "8                          4.34  \n",
       "9                          5.14  \n",
       "10                         5.99  \n",
       "11                         6.90  \n",
       "12                         7.85  \n",
       "13                         8.85  \n",
       "14                         9.92  \n",
       "15                        11.00  \n",
       "16                        12.20  \n",
       "17                        13.50  \n",
       "18                        14.80  \n",
       "19                        16.20  \n",
       "20                        17.60  \n",
       "21                        19.20  \n",
       "22                        20.80  \n",
       "23                        22.50  \n",
       "24                        24.30  \n",
       "25                        26.20  \n",
       "26                        28.20  \n",
       "27                        30.30  \n",
       "28                        32.50  \n",
       "29                        34.90  "
      ]
     },
     "metadata": {},
     "output_type": "display_data"
    }
   ],
   "source": [
    "year_sum = YearlySummary(acq, rehab, pre_refi, refi, 30)\n",
    "print(year_sum.cash_required)\n",
    "df = year_sum.to_dataframe()"
   ]
  },
  {
   "cell_type": "code",
   "execution_count": 51,
   "metadata": {},
   "outputs": [
    {
     "data": {
      "text/plain": [
       "<matplotlib.axes._subplots.AxesSubplot at 0x7f8486972a20>"
      ]
     },
     "execution_count": 51,
     "metadata": {},
     "output_type": "execute_result"
    },
    {
     "data": {
      "image/png": "[encoded data removed]",
      "text/plain": [
       "<Figure size 432x288 with 1 Axes>"
      ]
     },
     "metadata": {
      "needs_background": "light"
     },
     "output_type": "display_data"
    }
   ],
   "source": [
    "df['Return on Initial Investment'].plot()"
   ]
  },
  {
   "cell_type": "code",
   "execution_count": 52,
   "metadata": {},
   "outputs": [],
   "source": [
    "from real_estate.analysis import generate_stock_performance\n",
    "stocks_df = generate_stock_performance(0, 30, year_sum.cash_required)"
   ]
  },
  {
   "cell_type": "code",
   "execution_count": 53,
   "metadata": {},
   "outputs": [
    {
     "data": {
      "application/vnd.plotly.v1+json": {
       "config": {
        "plotlyServerURL": "https://plot.ly"
       },
       "data": [
        {
         "mode": "lines",
         "name": "S&P",
         "type": "scatter",
         "x": [
          0,
          1,
          2,
          3,
          4,
          5,
          6,
          7,
          8,
          9,
          10,
          11,
          12,
          13,
          14,
          15,
          16,
          17,
          18,
          19,
          20,
          21,
          22,
          23,
          24,
          25,
          26,
          27,
          28,
          29,
          30
         ],
         "y": [
          1,
          1.08,
          1.1664,
          1.2597120000000002,
          1.3604889600000003,
          1.4693280768000005,
          1.5868743229440005,
          1.7138242687795209,
          1.8509302102818828,
          1.999004627104433,
          2.158924997272788,
          2.331638997054611,
          2.5181701168189803,
          2.719623726164499,
          2.9371936242576595,
          3.172169114198272,
          3.4259426433341345,
          3.700018054800865,
          3.9960194991849343,
          4.315701059119729,
          4.660957143849308,
          5.033833715357253,
          5.436540412585834,
          5.8714636455927005,
          6.341180737240117,
          6.848475196219328,
          7.396353211916874,
          7.9880614688702245,
          8.627106386379843,
          9.31727489729023,
          10.06265688907345
         ]
        },
        {
         "mode": "lines",
         "name": "Real Estate",
         "type": "scatter",
         "x": [
          0,
          1,
          2,
          3,
          4,
          5,
          6,
          7,
          8,
          9,
          10,
          11,
          12,
          13,
          14,
          15,
          16,
          17,
          18,
          19,
          20,
          21,
          22,
          23,
          24,
          25,
          26,
          27,
          28,
          29
         ],
         "y": [
          -0.66275692923061,
          -0.16229322705311944,
          0.3705382843600967,
          0.9372251918923978,
          1.5393307287716096,
          2.1784979052232014,
          2.8564538747195867,
          3.5750145495940036,
          4.33608948060258,
          5.141687015881784,
          5.9939197556636525,
          6.895010320080877,
          7.847297448421364,
          8.853242449280632,
          9.915436022214262,
          11.036605472715095,
          12.219622343635415,
          13.46751048754728,
          14.783454605988812,
          16.17080928308594,
          17.633108542672847,
          19.174075959765307,
          20.797635359076057,
          22.507922135205217,
          24.309295231199183,
          26.20634981435492,
          28.20393069046022,
          30.30714650011282,
          32.521384743359754,
          34.85232768165247
         ]
        }
       ],
       "layout": {
        "font": {
         "color": "#7f7f7f",
         "family": "Courier New, monospace",
         "size": 18
        },
        "template": {
         "data": {
          "bar": [
           {
            "error_x": {
             "color": "#2a3f5f"
            },
            "error_y": {
             "color": "#2a3f5f"
            },
            "marker": {
             "line": {
              "color": "#E5ECF6",
              "width": 0.5
             },
             "pattern": {
              "fillmode": "overlay",
              "size": 10,
              "solidity": 0.2
             }
            },
            "type": "bar"
           }
          ],
          "barpolar": [
           {
            "marker": {
             "line": {
              "color": "#E5ECF6",
              "width": 0.5
             },
             "pattern": {
              "fillmode": "overlay",
              "size": 10,
              "solidity": 0.2
             }
            },
            "type": "barpolar"
           }
          ],
          "carpet": [
           {
            "aaxis": {
             "endlinecolor": "#2a3f5f",
             "gridcolor": "white",
             "linecolor": "white",
             "minorgridcolor": "white",
             "startlinecolor": "#2a3f5f"
            },
            "baxis": {
             "endlinecolor": "#2a3f5f",
             "gridcolor": "white",
             "linecolor": "white",
             "minorgridcolor": "white",
             "startlinecolor": "#2a3f5f"
            },
            "type": "carpet"
           }
          ],
          "choropleth": [
           {
            "colorbar": {
             "outlinewidth": 0,
             "ticks": ""
            },
            "type": "choropleth"
           }
          ],
          "contour": [
           {
            "colorbar": {
             "outlinewidth": 0,
             "ticks": ""
            },
            "colorscale": [
             [
              0,
              "#0d0887"
             ],
             [
              0.1111111111111111,
              "#46039f"
             ],
             [
              0.2222222222222222,
              "#7201a8"
             ],
             [
              0.3333333333333333,
              "#9c179e"
             ],
             [
              0.4444444444444444,
              "#bd3786"
             ],
             [
              0.5555555555555556,
              "#d8576b"
             ],
             [
              0.6666666666666666,
              "#ed7953"
             ],
             [
              0.7777777777777778,
              "#fb9f3a"
             ],
             [
              0.8888888888888888,
              "#fdca26"
             ],
             [
              1,
              "#f0f921"
             ]
            ],
            "type": "contour"
           }
          ],
          "contourcarpet": [
           {
            "colorbar": {
             "outlinewidth": 0,
             "ticks": ""
            },
            "type": "contourcarpet"
           }
          ],
          "heatmap": [
           {
            "colorbar": {
             "outlinewidth": 0,
             "ticks": ""
            },
            "colorscale": [
             [
              0,
              "#0d0887"
             ],
             [
              0.1111111111111111,
              "#46039f"
             ],
             [
              0.2222222222222222,
              "#7201a8"
             ],
             [
              0.3333333333333333,
              "#9c179e"
             ],
             [
              0.4444444444444444,
              "#bd3786"
             ],
             [
              0.5555555555555556,
              "#d8576b"
             ],
             [
              0.6666666666666666,
              "#ed7953"
             ],
             [
              0.7777777777777778,
              "#fb9f3a"
             ],
             [
              0.8888888888888888,
              "#fdca26"
             ],
             [
              1,
              "#f0f921"
             ]
            ],
            "type": "heatmap"
           }
          ],
          "heatmapgl": [
           {
            "colorbar": {
             "outlinewidth": 0,
             "ticks": ""
            },
            "colorscale": [
             [
              0,
              "#0d0887"
             ],
             [
              0.1111111111111111,
              "#46039f"
             ],
             [
              0.2222222222222222,
              "#7201a8"
             ],
             [
              0.3333333333333333,
              "#9c179e"
             ],
             [
              0.4444444444444444,
              "#bd3786"
             ],
             [
              0.5555555555555556,
              "#d8576b"
             ],
             [
              0.6666666666666666,
              "#ed7953"
             ],
             [
              0.7777777777777778,
              "#fb9f3a"
             ],
             [
              0.8888888888888888,
              "#fdca26"
             ],
             [
              1,
              "#f0f921"
             ]
            ],
            "type": "heatmapgl"
           }
          ],
          "histogram": [
           {
            "marker": {
             "pattern": {
              "fillmode": "overlay",
              "size": 10,
              "solidity": 0.2
             }
            },
            "type": "histogram"
           }
          ],
          "histogram2d": [
           {
            "colorbar": {
             "outlinewidth": 0,
             "ticks": ""
            },
            "colorscale": [
             [
              0,
              "#0d0887"
             ],
             [
              0.1111111111111111,
              "#46039f"
             ],
             [
              0.2222222222222222,
              "#7201a8"
             ],
             [
              0.3333333333333333,
              "#9c179e"
             ],
             [
              0.4444444444444444,
              "#bd3786"
             ],
             [
              0.5555555555555556,
              "#d8576b"
             ],
             [
              0.6666666666666666,
              "#ed7953"
             ],
             [
              0.7777777777777778,
              "#fb9f3a"
             ],
             [
              0.8888888888888888,
              "#fdca26"
             ],
             [
              1,
              "#f0f921"
             ]
            ],
            "type": "histogram2d"
           }
          ],
          "histogram2dcontour": [
           {
            "colorbar": {
             "outlinewidth": 0,
             "ticks": ""
            },
            "colorscale": [
             [
              0,
              "#0d0887"
             ],
             [
              0.1111111111111111,
              "#46039f"
             ],
             [
              0.2222222222222222,
              "#7201a8"
             ],
             [
              0.3333333333333333,
              "#9c179e"
             ],
             [
              0.4444444444444444,
              "#bd3786"
             ],
             [
              0.5555555555555556,
              "#d8576b"
             ],
             [
              0.6666666666666666,
              "#ed7953"
             ],
             [
              0.7777777777777778,
              "#fb9f3a"
             ],
             [
              0.8888888888888888,
              "#fdca26"
             ],
             [
              1,
              "#f0f921"
             ]
            ],
            "type": "histogram2dcontour"
           }
          ],
          "mesh3d": [
           {
            "colorbar": {
             "outlinewidth": 0,
             "ticks": ""
            },
            "type": "mesh3d"
           }
          ],
          "parcoords": [
           {
            "line": {
             "colorbar": {
              "outlinewidth": 0,
              "ticks": ""
             }
            },
            "type": "parcoords"
           }
          ],
          "pie": [
           {
            "automargin": true,
            "type": "pie"
           }
          ],
          "scatter": [
           {
            "fillpattern": {
             "fillmode": "overlay",
             "size": 10,
             "solidity": 0.2
            },
            "type": "scatter"
           }
          ],
          "scatter3d": [
           {
            "line": {
             "colorbar": {
              "outlinewidth": 0,
              "ticks": ""
             }
            },
            "marker": {
             "colorbar": {
              "outlinewidth": 0,
              "ticks": ""
             }
            },
            "type": "scatter3d"
           }
          ],
          "scattercarpet": [
           {
            "marker": {
             "colorbar": {
              "outlinewidth": 0,
              "ticks": ""
             }
            },
            "type": "scattercarpet"
           }
          ],
          "scattergeo": [
           {
            "marker": {
             "colorbar": {
              "outlinewidth": 0,
              "ticks": ""
             }
            },
            "type": "scattergeo"
           }
          ],
          "scattergl": [
           {
            "marker": {
             "colorbar": {
              "outlinewidth": 0,
              "ticks": ""
             }
            },
            "type": "scattergl"
           }
          ],
          "scattermapbox": [
           {
            "marker": {
             "colorbar": {
              "outlinewidth": 0,
              "ticks": ""
             }
            },
            "type": "scattermapbox"
           }
          ],
          "scatterpolar": [
           {
            "marker": {
             "colorbar": {
              "outlinewidth": 0,
              "ticks": ""
             }
            },
            "type": "scatterpolar"
           }
          ],
          "scatterpolargl": [
           {
            "marker": {
             "colorbar": {
              "outlinewidth": 0,
              "ticks": ""
             }
            },
            "type": "scatterpolargl"
           }
          ],
          "scatterternary": [
           {
            "marker": {
             "colorbar": {
              "outlinewidth": 0,
              "ticks": ""
             }
            },
            "type": "scatterternary"
           }
          ],
          "surface": [
           {
            "colorbar": {
             "outlinewidth": 0,
             "ticks": ""
            },
            "colorscale": [
             [
              0,
              "#0d0887"
             ],
             [
              0.1111111111111111,
              "#46039f"
             ],
             [
              0.2222222222222222,
              "#7201a8"
             ],
             [
              0.3333333333333333,
              "#9c179e"
             ],
             [
              0.4444444444444444,
              "#bd3786"
             ],
             [
              0.5555555555555556,
              "#d8576b"
             ],
             [
              0.6666666666666666,
              "#ed7953"
             ],
             [
              0.7777777777777778,
              "#fb9f3a"
             ],
             [
              0.8888888888888888,
              "#fdca26"
             ],
             [
              1,
              "#f0f921"
             ]
            ],
            "type": "surface"
           }
          ],
          "table": [
           {
            "cells": {
             "fill": {
              "color": "#EBF0F8"
             },
             "line": {
              "color": "white"
             }
            },
            "header": {
             "fill": {
              "color": "#C8D4E3"
             },
             "line": {
              "color": "white"
             }
            },
            "type": "table"
           }
          ]
         },
         "layout": {
          "annotationdefaults": {
           "arrowcolor": "#2a3f5f",
           "arrowhead": 0,
           "arrowwidth": 1
          },
          "autotypenumbers": "strict",
          "coloraxis": {
           "colorbar": {
            "outlinewidth": 0,
            "ticks": ""
           }
          },
          "colorscale": {
           "diverging": [
            [
             0,
             "#8e0152"
            ],
            [
             0.1,
             "#c51b7d"
            ],
            [
             0.2,
             "#de77ae"
            ],
            [
             0.3,
             "#f1b6da"
            ],
            [
             0.4,
             "#fde0ef"
            ],
            [
             0.5,
             "#f7f7f7"
            ],
            [
             0.6,
             "#e6f5d0"
            ],
            [
             0.7,
             "#b8e186"
            ],
            [
             0.8,
             "#7fbc41"
            ],
            [
             0.9,
             "#4d9221"
            ],
            [
             1,
             "#276419"
            ]
           ],
           "sequential": [
            [
             0,
             "#0d0887"
            ],
            [
             0.1111111111111111,
             "#46039f"
            ],
            [
             0.2222222222222222,
             "#7201a8"
            ],
            [
             0.3333333333333333,
             "#9c179e"
            ],
            [
             0.4444444444444444,
             "#bd3786"
            ],
            [
             0.5555555555555556,
             "#d8576b"
            ],
            [
             0.6666666666666666,
             "#ed7953"
            ],
            [
             0.7777777777777778,
             "#fb9f3a"
            ],
            [
             0.8888888888888888,
             "#fdca26"
            ],
            [
             1,
             "#f0f921"
            ]
           ],
           "sequentialminus": [
            [
             0,
             "#0d0887"
            ],
            [
             0.1111111111111111,
             "#46039f"
            ],
            [
             0.2222222222222222,
             "#7201a8"
            ],
            [
             0.3333333333333333,
             "#9c179e"
            ],
            [
             0.4444444444444444,
             "#bd3786"
            ],
            [
             0.5555555555555556,
             "#d8576b"
            ],
            [
             0.6666666666666666,
             "#ed7953"
            ],
            [
             0.7777777777777778,
             "#fb9f3a"
            ],
            [
             0.8888888888888888,
             "#fdca26"
            ],
            [
             1,
             "#f0f921"
            ]
           ]
          },
          "colorway": [
           "#636efa",
           "#EF553B",
           "#00cc96",
           "#ab63fa",
           "#FFA15A",
           "#19d3f3",
           "#FF6692",
           "#B6E880",
           "#FF97FF",
           "#FECB52"
          ],
          "font": {
           "color": "#2a3f5f"
          },
          "geo": {
           "bgcolor": "white",
           "lakecolor": "white",
           "landcolor": "#E5ECF6",
           "showlakes": true,
           "showland": true,
           "subunitcolor": "white"
          },
          "hoverlabel": {
           "align": "left"
          },
          "hovermode": "closest",
          "mapbox": {
           "style": "light"
          },
          "paper_bgcolor": "white",
          "plot_bgcolor": "#E5ECF6",
          "polar": {
           "angularaxis": {
            "gridcolor": "white",
            "linecolor": "white",
            "ticks": ""
           },
           "bgcolor": "#E5ECF6",
           "radialaxis": {
            "gridcolor": "white",
            "linecolor": "white",
            "ticks": ""
           }
          },
          "scene": {
           "xaxis": {
            "backgroundcolor": "#E5ECF6",
            "gridcolor": "white",
            "gridwidth": 2,
            "linecolor": "white",
            "showbackground": true,
            "ticks": "",
            "zerolinecolor": "white"
           },
           "yaxis": {
            "backgroundcolor": "#E5ECF6",
            "gridcolor": "white",
            "gridwidth": 2,
            "linecolor": "white",
            "showbackground": true,
            "ticks": "",
            "zerolinecolor": "white"
           },
           "zaxis": {
            "backgroundcolor": "#E5ECF6",
            "gridcolor": "white",
            "gridwidth": 2,
            "linecolor": "white",
            "showbackground": true,
            "ticks": "",
            "zerolinecolor": "white"
           }
          },
          "shapedefaults": {
           "line": {
            "color": "#2a3f5f"
           }
          },
          "ternary": {
           "aaxis": {
            "gridcolor": "white",
            "linecolor": "white",
            "ticks": ""
           },
           "baxis": {
            "gridcolor": "white",
            "linecolor": "white",
            "ticks": ""
           },
           "bgcolor": "#E5ECF6",
           "caxis": {
            "gridcolor": "white",
            "linecolor": "white",
            "ticks": ""
           }
          },
          "title": {
           "x": 0.05
          },
          "xaxis": {
           "automargin": true,
           "gridcolor": "white",
           "linecolor": "white",
           "ticks": "",
           "title": {
            "standoff": 15
           },
           "zerolinecolor": "white",
           "zerolinewidth": 2
          },
          "yaxis": {
           "automargin": true,
           "gridcolor": "white",
           "linecolor": "white",
           "ticks": "",
           "title": {
            "standoff": 15
           },
           "zerolinecolor": "white",
           "zerolinewidth": 2
          }
         }
        },
        "title": {
         "text": "Return on Initial Investment"
        },
        "xaxis": {
         "title": {
          "text": "Time"
         }
        },
        "yaxis": {
         "title": {
          "text": "Value"
         }
        }
       }
      },
      "text/html": [
       "<div>                            <div id=\"6b8baa04-4235-49ba-8d0f-8bfbe7ba66f1\" class=\"plotly-graph-div\" style=\"height:525px; width:100%;\"></div>            <script type=\"text/javascript\">                require([\"plotly\"], function(Plotly) {                    window.PLOTLYENV=window.PLOTLYENV || {};                                    if (document.getElementById(\"6b8baa04-4235-49ba-8d0f-8bfbe7ba66f1\")) {                    Plotly.newPlot(                        \"6b8baa04-4235-49ba-8d0f-8bfbe7ba66f1\",                        [{\"mode\":\"lines\",\"name\":\"S&P\",\"x\":[0,1,2,3,4,5,6,7,8,9,10,11,12,13,14,15,16,17,18,19,20,21,22,23,24,25,26,27,28,29,30],\"y\":[1.0,1.08,1.1664,1.2597120000000002,1.3604889600000003,1.4693280768000005,1.5868743229440005,1.7138242687795209,1.8509302102818828,1.999004627104433,2.158924997272788,2.331638997054611,2.5181701168189803,2.719623726164499,2.9371936242576595,3.172169114198272,3.4259426433341345,3.700018054800865,3.9960194991849343,4.315701059119729,4.660957143849308,5.033833715357253,5.436540412585834,5.8714636455927005,6.341180737240117,6.848475196219328,7.396353211916874,7.9880614688702245,8.627106386379843,9.31727489729023,10.06265688907345],\"type\":\"scatter\"},{\"mode\":\"lines\",\"name\":\"Real Estate\",\"x\":[0,1,2,3,4,5,6,7,8,9,10,11,12,13,14,15,16,17,18,19,20,21,22,23,24,25,26,27,28,29],\"y\":[-0.66275692923061,-0.16229322705311944,0.3705382843600967,0.9372251918923978,1.5393307287716096,2.1784979052232014,2.8564538747195867,3.5750145495940036,4.33608948060258,5.141687015881784,5.9939197556636525,6.895010320080877,7.847297448421364,8.853242449280632,9.915436022214262,11.036605472715095,12.219622343635415,13.46751048754728,14.783454605988812,16.17080928308594,17.633108542672847,19.174075959765307,20.797635359076057,22.507922135205217,24.309295231199183,26.20634981435492,28.20393069046022,30.30714650011282,32.521384743359754,34.85232768165247],\"type\":\"scatter\"}],                        {\"template\":{\"data\":{\"histogram2dcontour\":[{\"type\":\"histogram2dcontour\",\"colorbar\":{\"outlinewidth\":0,\"ticks\":\"\"},\"colorscale\":[[0.0,\"#0d0887\"],[0.1111111111111111,\"#46039f\"],[0.2222222222222222,\"#7201a8\"],[0.3333333333333333,\"#9c179e\"],[0.4444444444444444,\"#bd3786\"],[0.5555555555555556,\"#d8576b\"],[0.6666666666666666,\"#ed7953\"],[0.7777777777777778,\"#fb9f3a\"],[0.8888888888888888,\"#fdca26\"],[1.0,\"#f0f921\"]]}],\"choropleth\":[{\"type\":\"choropleth\",\"colorbar\":{\"outlinewidth\":0,\"ticks\":\"\"}}],\"histogram2d\":[{\"type\":\"histogram2d\",\"colorbar\":{\"outlinewidth\":0,\"ticks\":\"\"},\"colorscale\":[[0.0,\"#0d0887\"],[0.1111111111111111,\"#46039f\"],[0.2222222222222222,\"#7201a8\"],[0.3333333333333333,\"#9c179e\"],[0.4444444444444444,\"#bd3786\"],[0.5555555555555556,\"#d8576b\"],[0.6666666666666666,\"#ed7953\"],[0.7777777777777778,\"#fb9f3a\"],[0.8888888888888888,\"#fdca26\"],[1.0,\"#f0f921\"]]}],\"heatmap\":[{\"type\":\"heatmap\",\"colorbar\":{\"outlinewidth\":0,\"ticks\":\"\"},\"colorscale\":[[0.0,\"#0d0887\"],[0.1111111111111111,\"#46039f\"],[0.2222222222222222,\"#7201a8\"],[0.3333333333333333,\"#9c179e\"],[0.4444444444444444,\"#bd3786\"],[0.5555555555555556,\"#d8576b\"],[0.6666666666666666,\"#ed7953\"],[0.7777777777777778,\"#fb9f3a\"],[0.8888888888888888,\"#fdca26\"],[1.0,\"#f0f921\"]]}],\"heatmapgl\":[{\"type\":\"heatmapgl\",\"colorbar\":{\"outlinewidth\":0,\"ticks\":\"\"},\"colorscale\":[[0.0,\"#0d0887\"],[0.1111111111111111,\"#46039f\"],[0.2222222222222222,\"#7201a8\"],[0.3333333333333333,\"#9c179e\"],[0.4444444444444444,\"#bd3786\"],[0.5555555555555556,\"#d8576b\"],[0.6666666666666666,\"#ed7953\"],[0.7777777777777778,\"#fb9f3a\"],[0.8888888888888888,\"#fdca26\"],[1.0,\"#f0f921\"]]}],\"contourcarpet\":[{\"type\":\"contourcarpet\",\"colorbar\":{\"outlinewidth\":0,\"ticks\":\"\"}}],\"contour\":[{\"type\":\"contour\",\"colorbar\":{\"outlinewidth\":0,\"ticks\":\"\"},\"colorscale\":[[0.0,\"#0d0887\"],[0.1111111111111111,\"#46039f\"],[0.2222222222222222,\"#7201a8\"],[0.3333333333333333,\"#9c179e\"],[0.4444444444444444,\"#bd3786\"],[0.5555555555555556,\"#d8576b\"],[0.6666666666666666,\"#ed7953\"],[0.7777777777777778,\"#fb9f3a\"],[0.8888888888888888,\"#fdca26\"],[1.0,\"#f0f921\"]]}],\"surface\":[{\"type\":\"surface\",\"colorbar\":{\"outlinewidth\":0,\"ticks\":\"\"},\"colorscale\":[[0.0,\"#0d0887\"],[0.1111111111111111,\"#46039f\"],[0.2222222222222222,\"#7201a8\"],[0.3333333333333333,\"#9c179e\"],[0.4444444444444444,\"#bd3786\"],[0.5555555555555556,\"#d8576b\"],[0.6666666666666666,\"#ed7953\"],[0.7777777777777778,\"#fb9f3a\"],[0.8888888888888888,\"#fdca26\"],[1.0,\"#f0f921\"]]}],\"mesh3d\":[{\"type\":\"mesh3d\",\"colorbar\":{\"outlinewidth\":0,\"ticks\":\"\"}}],\"scatter\":[{\"fillpattern\":{\"fillmode\":\"overlay\",\"size\":10,\"solidity\":0.2},\"type\":\"scatter\"}],\"parcoords\":[{\"type\":\"parcoords\",\"line\":{\"colorbar\":{\"outlinewidth\":0,\"ticks\":\"\"}}}],\"scatterpolargl\":[{\"type\":\"scatterpolargl\",\"marker\":{\"colorbar\":{\"outlinewidth\":0,\"ticks\":\"\"}}}],\"bar\":[{\"error_x\":{\"color\":\"#2a3f5f\"},\"error_y\":{\"color\":\"#2a3f5f\"},\"marker\":{\"line\":{\"color\":\"#E5ECF6\",\"width\":0.5},\"pattern\":{\"fillmode\":\"overlay\",\"size\":10,\"solidity\":0.2}},\"type\":\"bar\"}],\"scattergeo\":[{\"type\":\"scattergeo\",\"marker\":{\"colorbar\":{\"outlinewidth\":0,\"ticks\":\"\"}}}],\"scatterpolar\":[{\"type\":\"scatterpolar\",\"marker\":{\"colorbar\":{\"outlinewidth\":0,\"ticks\":\"\"}}}],\"histogram\":[{\"marker\":{\"pattern\":{\"fillmode\":\"overlay\",\"size\":10,\"solidity\":0.2}},\"type\":\"histogram\"}],\"scattergl\":[{\"type\":\"scattergl\",\"marker\":{\"colorbar\":{\"outlinewidth\":0,\"ticks\":\"\"}}}],\"scatter3d\":[{\"type\":\"scatter3d\",\"line\":{\"colorbar\":{\"outlinewidth\":0,\"ticks\":\"\"}},\"marker\":{\"colorbar\":{\"outlinewidth\":0,\"ticks\":\"\"}}}],\"scattermapbox\":[{\"type\":\"scattermapbox\",\"marker\":{\"colorbar\":{\"outlinewidth\":0,\"ticks\":\"\"}}}],\"scatterternary\":[{\"type\":\"scatterternary\",\"marker\":{\"colorbar\":{\"outlinewidth\":0,\"ticks\":\"\"}}}],\"scattercarpet\":[{\"type\":\"scattercarpet\",\"marker\":{\"colorbar\":{\"outlinewidth\":0,\"ticks\":\"\"}}}],\"carpet\":[{\"aaxis\":{\"endlinecolor\":\"#2a3f5f\",\"gridcolor\":\"white\",\"linecolor\":\"white\",\"minorgridcolor\":\"white\",\"startlinecolor\":\"#2a3f5f\"},\"baxis\":{\"endlinecolor\":\"#2a3f5f\",\"gridcolor\":\"white\",\"linecolor\":\"white\",\"minorgridcolor\":\"white\",\"startlinecolor\":\"#2a3f5f\"},\"type\":\"carpet\"}],\"table\":[{\"cells\":{\"fill\":{\"color\":\"#EBF0F8\"},\"line\":{\"color\":\"white\"}},\"header\":{\"fill\":{\"color\":\"#C8D4E3\"},\"line\":{\"color\":\"white\"}},\"type\":\"table\"}],\"barpolar\":[{\"marker\":{\"line\":{\"color\":\"#E5ECF6\",\"width\":0.5},\"pattern\":{\"fillmode\":\"overlay\",\"size\":10,\"solidity\":0.2}},\"type\":\"barpolar\"}],\"pie\":[{\"automargin\":true,\"type\":\"pie\"}]},\"layout\":{\"autotypenumbers\":\"strict\",\"colorway\":[\"#636efa\",\"#EF553B\",\"#00cc96\",\"#ab63fa\",\"#FFA15A\",\"#19d3f3\",\"#FF6692\",\"#B6E880\",\"#FF97FF\",\"#FECB52\"],\"font\":{\"color\":\"#2a3f5f\"},\"hovermode\":\"closest\",\"hoverlabel\":{\"align\":\"left\"},\"paper_bgcolor\":\"white\",\"plot_bgcolor\":\"#E5ECF6\",\"polar\":{\"bgcolor\":\"#E5ECF6\",\"angularaxis\":{\"gridcolor\":\"white\",\"linecolor\":\"white\",\"ticks\":\"\"},\"radialaxis\":{\"gridcolor\":\"white\",\"linecolor\":\"white\",\"ticks\":\"\"}},\"ternary\":{\"bgcolor\":\"#E5ECF6\",\"aaxis\":{\"gridcolor\":\"white\",\"linecolor\":\"white\",\"ticks\":\"\"},\"baxis\":{\"gridcolor\":\"white\",\"linecolor\":\"white\",\"ticks\":\"\"},\"caxis\":{\"gridcolor\":\"white\",\"linecolor\":\"white\",\"ticks\":\"\"}},\"coloraxis\":{\"colorbar\":{\"outlinewidth\":0,\"ticks\":\"\"}},\"colorscale\":{\"sequential\":[[0.0,\"#0d0887\"],[0.1111111111111111,\"#46039f\"],[0.2222222222222222,\"#7201a8\"],[0.3333333333333333,\"#9c179e\"],[0.4444444444444444,\"#bd3786\"],[0.5555555555555556,\"#d8576b\"],[0.6666666666666666,\"#ed7953\"],[0.7777777777777778,\"#fb9f3a\"],[0.8888888888888888,\"#fdca26\"],[1.0,\"#f0f921\"]],\"sequentialminus\":[[0.0,\"#0d0887\"],[0.1111111111111111,\"#46039f\"],[0.2222222222222222,\"#7201a8\"],[0.3333333333333333,\"#9c179e\"],[0.4444444444444444,\"#bd3786\"],[0.5555555555555556,\"#d8576b\"],[0.6666666666666666,\"#ed7953\"],[0.7777777777777778,\"#fb9f3a\"],[0.8888888888888888,\"#fdca26\"],[1.0,\"#f0f921\"]],\"diverging\":[[0,\"#8e0152\"],[0.1,\"#c51b7d\"],[0.2,\"#de77ae\"],[0.3,\"#f1b6da\"],[0.4,\"#fde0ef\"],[0.5,\"#f7f7f7\"],[0.6,\"#e6f5d0\"],[0.7,\"#b8e186\"],[0.8,\"#7fbc41\"],[0.9,\"#4d9221\"],[1,\"#276419\"]]},\"xaxis\":{\"gridcolor\":\"white\",\"linecolor\":\"white\",\"ticks\":\"\",\"title\":{\"standoff\":15},\"zerolinecolor\":\"white\",\"automargin\":true,\"zerolinewidth\":2},\"yaxis\":{\"gridcolor\":\"white\",\"linecolor\":\"white\",\"ticks\":\"\",\"title\":{\"standoff\":15},\"zerolinecolor\":\"white\",\"automargin\":true,\"zerolinewidth\":2},\"scene\":{\"xaxis\":{\"backgroundcolor\":\"#E5ECF6\",\"gridcolor\":\"white\",\"linecolor\":\"white\",\"showbackground\":true,\"ticks\":\"\",\"zerolinecolor\":\"white\",\"gridwidth\":2},\"yaxis\":{\"backgroundcolor\":\"#E5ECF6\",\"gridcolor\":\"white\",\"linecolor\":\"white\",\"showbackground\":true,\"ticks\":\"\",\"zerolinecolor\":\"white\",\"gridwidth\":2},\"zaxis\":{\"backgroundcolor\":\"#E5ECF6\",\"gridcolor\":\"white\",\"linecolor\":\"white\",\"showbackground\":true,\"ticks\":\"\",\"zerolinecolor\":\"white\",\"gridwidth\":2}},\"shapedefaults\":{\"line\":{\"color\":\"#2a3f5f\"}},\"annotationdefaults\":{\"arrowcolor\":\"#2a3f5f\",\"arrowhead\":0,\"arrowwidth\":1},\"geo\":{\"bgcolor\":\"white\",\"landcolor\":\"#E5ECF6\",\"subunitcolor\":\"white\",\"showland\":true,\"showlakes\":true,\"lakecolor\":\"white\"},\"title\":{\"x\":0.05},\"mapbox\":{\"style\":\"light\"}}},\"font\":{\"family\":\"Courier New, monospace\",\"size\":18,\"color\":\"#7f7f7f\"},\"title\":{\"text\":\"Return on Initial Investment\"},\"xaxis\":{\"title\":{\"text\":\"Time\"}},\"yaxis\":{\"title\":{\"text\":\"Value\"}}},                        {\"responsive\": true}                    ).then(function(){\n",
       "                            \n",
       "var gd = document.getElementById('6b8baa04-4235-49ba-8d0f-8bfbe7ba66f1');\n",
       "var x = new MutationObserver(function (mutations, observer) {{\n",
       "        var display = window.getComputedStyle(gd).display;\n",
       "        if (!display || display === 'none') {{\n",
       "            console.log([gd, 'removed!']);\n",
       "            Plotly.purge(gd);\n",
       "            observer.disconnect();\n",
       "        }}\n",
       "}});\n",
       "\n",
       "// Listen for the removal of the full notebook cells\n",
       "var notebookContainer = gd.closest('#notebook-container');\n",
       "if (notebookContainer) {{\n",
       "    x.observe(notebookContainer, {childList: true});\n",
       "}}\n",
       "\n",
       "// Listen for the clearing of the current output cell\n",
       "var outputEl = gd.closest('.output');\n",
       "if (outputEl) {{\n",
       "    x.observe(outputEl, {childList: true});\n",
       "}}\n",
       "\n",
       "                        })                };                });            </script>        </div>"
      ]
     },
     "metadata": {},
     "output_type": "display_data"
    }
   ],
   "source": [
    "from real_estate.plots import plot_timeseries\n",
    "metric = 'Return on Initial Investment'\n",
    "plot_timeseries(stocks_df[metric], \n",
    "                df[metric], \n",
    "                ['S&P', 'Real Estate', metric])"
   ]
  }
 ],
 "metadata": {
  "kernelspec": {
   "display_name": "Python 3",
   "language": "python",
   "name": "python3"
  },
  "language_info": {
   "codemirror_mode": {
    "name": "ipython",
    "version": 3
   },
   "file_extension": ".py",
   "mimetype": "text/x-python",
   "name": "python",
   "nbconvert_exporter": "python",
   "pygments_lexer": "ipython3",
   "version": "3.6.7"
  }
 },
 "nbformat": 4,
 "nbformat_minor": 2
}
