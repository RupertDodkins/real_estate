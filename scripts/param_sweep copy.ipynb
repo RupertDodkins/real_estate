{
 "cells": [
  {
   "cell_type": "code",
   "execution_count": 6,
   "metadata": {},
   "outputs": [
    {
     "name": "stdout",
     "output_type": "stream",
     "text": [
      "The autoreload extension is already loaded. To reload it, use:\n",
      "  %reload_ext autoreload\n"
     ]
    }
   ],
   "source": [
    "%load_ext autoreload\n",
    "%autoreload 2"
   ]
  },
  {
   "cell_type": "code",
   "execution_count": 7,
   "metadata": {},
   "outputs": [
    {
     "data": {
      "text/plain": [
       "1.0"
      ]
     },
     "execution_count": 7,
     "metadata": {},
     "output_type": "execute_result"
    }
   ],
   "source": [
    "import numpy as np\n",
    "np.ceil(3/4)"
   ]
  },
  {
   "cell_type": "code",
   "execution_count": 16,
   "metadata": {},
   "outputs": [
    {
     "name": "stdout",
     "output_type": "stream",
     "text": [
      "\n",
      "Acquisition:\n",
      "Down Payment: $20000.0\n",
      "Loan Amount: $182000.0\n",
      "Loan Points/Fees: $2000.0\n",
      "Loan Interest Rate: 6.5%\n",
      "Monthly P&I: $1150.36\n",
      "Owning Expenses: $535.83\n",
      "Monthly Outflow: $1686.20\n",
      "Home Value Appreciaion: 6.0%\n",
      "\n",
      "Rehab:\n",
      "Rehab cost: $25000.00\n",
      "Holding costs: $10117.18\n",
      "Monthly P&I: $1150.36\n",
      "Rehab time: 6 months\n",
      "Owning expenses: $535.8333333333334\n",
      "\n",
      "Initial Rental Period:\n",
      "Monthly Income: $3000.0\n",
      "Monthly Expenses: $2136.20\n",
      "Monthly Cashflow: $863.80\n",
      "NOI: $24170.0\n",
      "\n",
      "Refinance:\n",
      "Loan Amount: $182250.0\n",
      "Loan Points/Fees: $2250.0\n",
      "Loan Interest Rate: 6.5%\n",
      "Monthly P&I: $1151.94\n",
      "Home Value Appreciaion: 6.0%\n",
      "47000.0\n"
     ]
    },
    {
     "data": {
      "text/html": [
       "<div>\n",
       "<style scoped>\n",
       "    .dataframe tbody tr th:only-of-type {\n",
       "        vertical-align: middle;\n",
       "    }\n",
       "\n",
       "    .dataframe tbody tr th {\n",
       "        vertical-align: top;\n",
       "    }\n",
       "\n",
       "    .dataframe thead th {\n",
       "        text-align: right;\n",
       "    }\n",
       "</style>\n",
       "<table border=\"1\" class=\"dataframe\">\n",
       "  <thead>\n",
       "    <tr style=\"text-align: right;\">\n",
       "      <th></th>\n",
       "      <th>Year</th>\n",
       "      <th>Month</th>\n",
       "      <th>Renting Months</th>\n",
       "      <th>Total Annual Income</th>\n",
       "      <th>Operating Expenses</th>\n",
       "      <th>Mortgage Payment</th>\n",
       "      <th>Total Annual Expenses</th>\n",
       "      <th>Total Annual Cashflow</th>\n",
       "      <th>Cash on Cash ROI</th>\n",
       "      <th>Property Value</th>\n",
       "      <th>Loan Balance</th>\n",
       "      <th>Equity</th>\n",
       "      <th>Equity Gain</th>\n",
       "      <th>Annual Profit</th>\n",
       "      <th>Return on Equity</th>\n",
       "      <th>Cummulative Profit</th>\n",
       "      <th>Return on Initial Investment</th>\n",
       "    </tr>\n",
       "  </thead>\n",
       "  <tbody>\n",
       "    <tr>\n",
       "      <th>0</th>\n",
       "      <td>0</td>\n",
       "      <td>0</td>\n",
       "      <td>6.00</td>\n",
       "      <td>18,000.00</td>\n",
       "      <td>5,920.00</td>\n",
       "      <td>13,800.00</td>\n",
       "      <td>44,700.00</td>\n",
       "      <td>-26,700.00</td>\n",
       "      <td>-0.57</td>\n",
       "      <td>225,000.00</td>\n",
       "      <td>182,000.00</td>\n",
       "      <td>43,200.00</td>\n",
       "      <td>-3,840.00</td>\n",
       "      <td>-30,600.00</td>\n",
       "      <td>-0.65</td>\n",
       "      <td>-30,600.00</td>\n",
       "      <td>-0.65</td>\n",
       "    </tr>\n",
       "    <tr>\n",
       "      <th>1</th>\n",
       "      <td>1.00</td>\n",
       "      <td>12.00</td>\n",
       "      <td>12.00</td>\n",
       "      <td>37,100.00</td>\n",
       "      <td>12,200.00</td>\n",
       "      <td>13,800.00</td>\n",
       "      <td>26,000.00</td>\n",
       "      <td>11,100.00</td>\n",
       "      <td>0.24</td>\n",
       "      <td>238,000.00</td>\n",
       "      <td>182,000.00</td>\n",
       "      <td>56,800.00</td>\n",
       "      <td>13,700.00</td>\n",
       "      <td>24,700.00</td>\n",
       "      <td>0.57</td>\n",
       "      <td>-5,820.00</td>\n",
       "      <td>-0.12</td>\n",
       "    </tr>\n",
       "    <tr>\n",
       "      <th>2</th>\n",
       "      <td>2.00</td>\n",
       "      <td>24.00</td>\n",
       "      <td>12.00</td>\n",
       "      <td>38,200.00</td>\n",
       "      <td>12,600.00</td>\n",
       "      <td>13,800.00</td>\n",
       "      <td>26,400.00</td>\n",
       "      <td>11,800.00</td>\n",
       "      <td>0.25</td>\n",
       "      <td>253,000.00</td>\n",
       "      <td>182,000.00</td>\n",
       "      <td>71,300.00</td>\n",
       "      <td>14,500.00</td>\n",
       "      <td>26,300.00</td>\n",
       "      <td>0.46</td>\n",
       "      <td>20,500.00</td>\n",
       "      <td>0.44</td>\n",
       "    </tr>\n",
       "    <tr>\n",
       "      <th>3</th>\n",
       "      <td>3.00</td>\n",
       "      <td>36.00</td>\n",
       "      <td>12.00</td>\n",
       "      <td>39,300.00</td>\n",
       "      <td>12,900.00</td>\n",
       "      <td>13,800.00</td>\n",
       "      <td>26,800.00</td>\n",
       "      <td>12,600.00</td>\n",
       "      <td>0.27</td>\n",
       "      <td>268,000.00</td>\n",
       "      <td>181,000.00</td>\n",
       "      <td>86,600.00</td>\n",
       "      <td>15,300.00</td>\n",
       "      <td>27,900.00</td>\n",
       "      <td>0.39</td>\n",
       "      <td>48,400.00</td>\n",
       "      <td>1.03</td>\n",
       "    </tr>\n",
       "    <tr>\n",
       "      <th>4</th>\n",
       "      <td>4.00</td>\n",
       "      <td>48.00</td>\n",
       "      <td>12.00</td>\n",
       "      <td>40,500.00</td>\n",
       "      <td>13,300.00</td>\n",
       "      <td>13,800.00</td>\n",
       "      <td>27,100.00</td>\n",
       "      <td>13,400.00</td>\n",
       "      <td>0.28</td>\n",
       "      <td>284,000.00</td>\n",
       "      <td>181,000.00</td>\n",
       "      <td>103,000.00</td>\n",
       "      <td>16,200.00</td>\n",
       "      <td>29,600.00</td>\n",
       "      <td>0.34</td>\n",
       "      <td>78,000.00</td>\n",
       "      <td>1.66</td>\n",
       "    </tr>\n",
       "  </tbody>\n",
       "</table>\n",
       "</div>"
      ],
      "text/plain": [
       "   Year  Month Renting Months Total Annual Income Operating Expenses  \\\n",
       "0     0      0           6.00           18,000.00           5,920.00   \n",
       "1  1.00  12.00          12.00           37,100.00          12,200.00   \n",
       "2  2.00  24.00          12.00           38,200.00          12,600.00   \n",
       "3  3.00  36.00          12.00           39,300.00          12,900.00   \n",
       "4  4.00  48.00          12.00           40,500.00          13,300.00   \n",
       "\n",
       "  Mortgage Payment Total Annual Expenses Total Annual Cashflow  \\\n",
       "0        13,800.00             44,700.00            -26,700.00   \n",
       "1        13,800.00             26,000.00             11,100.00   \n",
       "2        13,800.00             26,400.00             11,800.00   \n",
       "3        13,800.00             26,800.00             12,600.00   \n",
       "4        13,800.00             27,100.00             13,400.00   \n",
       "\n",
       "  Cash on Cash ROI Property Value Loan Balance      Equity Equity Gain  \\\n",
       "0            -0.57     225,000.00   182,000.00   43,200.00   -3,840.00   \n",
       "1             0.24     238,000.00   182,000.00   56,800.00   13,700.00   \n",
       "2             0.25     253,000.00   182,000.00   71,300.00   14,500.00   \n",
       "3             0.27     268,000.00   181,000.00   86,600.00   15,300.00   \n",
       "4             0.28     284,000.00   181,000.00  103,000.00   16,200.00   \n",
       "\n",
       "  Annual Profit Return on Equity Cummulative Profit  \\\n",
       "0    -30,600.00            -0.65         -30,600.00   \n",
       "1     24,700.00             0.57          -5,820.00   \n",
       "2     26,300.00             0.46          20,500.00   \n",
       "3     27,900.00             0.39          48,400.00   \n",
       "4     29,600.00             0.34          78,000.00   \n",
       "\n",
       "  Return on Initial Investment  \n",
       "0                        -0.65  \n",
       "1                        -0.12  \n",
       "2                         0.44  \n",
       "3                         1.03  \n",
       "4                         1.66  "
      ]
     },
     "metadata": {},
     "output_type": "display_data"
    },
    {
     "data": {
      "text/html": [
       "<div>\n",
       "<style scoped>\n",
       "    .dataframe tbody tr th:only-of-type {\n",
       "        vertical-align: middle;\n",
       "    }\n",
       "\n",
       "    .dataframe tbody tr th {\n",
       "        vertical-align: top;\n",
       "    }\n",
       "\n",
       "    .dataframe thead th {\n",
       "        text-align: right;\n",
       "    }\n",
       "</style>\n",
       "<table border=\"1\" class=\"dataframe\">\n",
       "  <thead>\n",
       "    <tr style=\"text-align: right;\">\n",
       "      <th></th>\n",
       "      <th>Year</th>\n",
       "      <th>Total Annual Income</th>\n",
       "      <th>Operating Expenses</th>\n",
       "      <th>Rent Payment</th>\n",
       "      <th>Total Annual Expenses</th>\n",
       "      <th>Total Annual Cashflow</th>\n",
       "      <th>Cash on Cash ROI</th>\n",
       "      <th>Stock Value</th>\n",
       "      <th>Loan Balance</th>\n",
       "      <th>Equity</th>\n",
       "      <th>Equity Gain</th>\n",
       "      <th>Annual Profit</th>\n",
       "      <th>Return on Equity</th>\n",
       "      <th>Cummulative Profit</th>\n",
       "      <th>Return on Initial Investment</th>\n",
       "    </tr>\n",
       "  </thead>\n",
       "  <tbody>\n",
       "    <tr>\n",
       "      <th>0</th>\n",
       "      <td>0</td>\n",
       "      <td>0</td>\n",
       "      <td>2,400.00</td>\n",
       "      <td>24,000.00</td>\n",
       "      <td>26,400.00</td>\n",
       "      <td>-26,400.00</td>\n",
       "      <td>-0.56</td>\n",
       "      <td>47,000.00</td>\n",
       "      <td>0</td>\n",
       "      <td>47,000.00</td>\n",
       "      <td>0</td>\n",
       "      <td>-26,400.00</td>\n",
       "      <td>-0.56</td>\n",
       "      <td>-26,400.00</td>\n",
       "      <td>-0.56</td>\n",
       "    </tr>\n",
       "    <tr>\n",
       "      <th>1</th>\n",
       "      <td>1.00</td>\n",
       "      <td>0</td>\n",
       "      <td>2,400.00</td>\n",
       "      <td>24,000.00</td>\n",
       "      <td>26,400.00</td>\n",
       "      <td>-26,400.00</td>\n",
       "      <td>-0.56</td>\n",
       "      <td>50,800.00</td>\n",
       "      <td>0</td>\n",
       "      <td>50,800.00</td>\n",
       "      <td>3,760.00</td>\n",
       "      <td>-22,600.00</td>\n",
       "      <td>-0.48</td>\n",
       "      <td>-49,000.00</td>\n",
       "      <td>-1.04</td>\n",
       "    </tr>\n",
       "    <tr>\n",
       "      <th>2</th>\n",
       "      <td>2.00</td>\n",
       "      <td>0</td>\n",
       "      <td>2,400.00</td>\n",
       "      <td>24,000.00</td>\n",
       "      <td>26,400.00</td>\n",
       "      <td>-26,400.00</td>\n",
       "      <td>-0.56</td>\n",
       "      <td>54,800.00</td>\n",
       "      <td>0</td>\n",
       "      <td>54,800.00</td>\n",
       "      <td>4,060.00</td>\n",
       "      <td>-22,300.00</td>\n",
       "      <td>-0.44</td>\n",
       "      <td>-71,400.00</td>\n",
       "      <td>-1.52</td>\n",
       "    </tr>\n",
       "    <tr>\n",
       "      <th>3</th>\n",
       "      <td>3.00</td>\n",
       "      <td>0</td>\n",
       "      <td>2,400.00</td>\n",
       "      <td>24,000.00</td>\n",
       "      <td>26,400.00</td>\n",
       "      <td>-26,400.00</td>\n",
       "      <td>-0.56</td>\n",
       "      <td>59,200.00</td>\n",
       "      <td>0</td>\n",
       "      <td>59,200.00</td>\n",
       "      <td>4,390.00</td>\n",
       "      <td>-22,000.00</td>\n",
       "      <td>-0.40</td>\n",
       "      <td>-93,400.00</td>\n",
       "      <td>-1.99</td>\n",
       "    </tr>\n",
       "    <tr>\n",
       "      <th>4</th>\n",
       "      <td>4.00</td>\n",
       "      <td>0</td>\n",
       "      <td>2,400.00</td>\n",
       "      <td>24,000.00</td>\n",
       "      <td>26,400.00</td>\n",
       "      <td>-26,400.00</td>\n",
       "      <td>-0.56</td>\n",
       "      <td>63,900.00</td>\n",
       "      <td>0</td>\n",
       "      <td>63,900.00</td>\n",
       "      <td>4,740.00</td>\n",
       "      <td>-21,700.00</td>\n",
       "      <td>-0.37</td>\n",
       "      <td>-115,000.00</td>\n",
       "      <td>-2.45</td>\n",
       "    </tr>\n",
       "  </tbody>\n",
       "</table>\n",
       "</div>"
      ],
      "text/plain": [
       "   Year Total Annual Income Operating Expenses Rent Payment  \\\n",
       "0     0                   0           2,400.00    24,000.00   \n",
       "1  1.00                   0           2,400.00    24,000.00   \n",
       "2  2.00                   0           2,400.00    24,000.00   \n",
       "3  3.00                   0           2,400.00    24,000.00   \n",
       "4  4.00                   0           2,400.00    24,000.00   \n",
       "\n",
       "  Total Annual Expenses Total Annual Cashflow Cash on Cash ROI Stock Value  \\\n",
       "0             26,400.00            -26,400.00            -0.56   47,000.00   \n",
       "1             26,400.00            -26,400.00            -0.56   50,800.00   \n",
       "2             26,400.00            -26,400.00            -0.56   54,800.00   \n",
       "3             26,400.00            -26,400.00            -0.56   59,200.00   \n",
       "4             26,400.00            -26,400.00            -0.56   63,900.00   \n",
       "\n",
       "  Loan Balance     Equity Equity Gain Annual Profit Return on Equity  \\\n",
       "0            0  47,000.00           0    -26,400.00            -0.56   \n",
       "1            0  50,800.00    3,760.00    -22,600.00            -0.48   \n",
       "2            0  54,800.00    4,060.00    -22,300.00            -0.44   \n",
       "3            0  59,200.00    4,390.00    -22,000.00            -0.40   \n",
       "4            0  63,900.00    4,740.00    -21,700.00            -0.37   \n",
       "\n",
       "  Cummulative Profit Return on Initial Investment  \n",
       "0         -26,400.00                        -0.56  \n",
       "1         -49,000.00                        -1.04  \n",
       "2         -71,400.00                        -1.52  \n",
       "3         -93,400.00                        -1.99  \n",
       "4        -115,000.00                        -2.45  "
      ]
     },
     "metadata": {},
     "output_type": "display_data"
    },
    {
     "name": "stdout",
     "output_type": "stream",
     "text": [
      "1\n",
      "False 1 1 ('Property Value', 'Stock Value')\n",
      "True 1 2 Return on Initial Investment\n",
      "True 1 3 Total Annual Cashflow\n"
     ]
    },
    {
     "data": {
      "application/vnd.plotly.v1+json": {
       "config": {
        "plotlyServerURL": "https://plot.ly"
       },
       "data": [
        {
         "mode": "lines",
         "name": "Property Value (df1)",
         "type": "scatter",
         "x": [
          0,
          1,
          2,
          3,
          4,
          5,
          6,
          7,
          8,
          9,
          10,
          11,
          12,
          13,
          14,
          15,
          16,
          17,
          18,
          19,
          20,
          21,
          22,
          23,
          24,
          25,
          26,
          27,
          28,
          29
         ],
         "xaxis": "x",
         "y": [
          225000,
          238500,
          252810.00000000003,
          267978.60000000003,
          284057.31600000005,
          301100.75496000005,
          319166.8002576001,
          338316.8082730561,
          358615.8167694395,
          380132.76577560586,
          402940.73172214226,
          427117.17562547076,
          452744.2061629991,
          479908.8585327791,
          508703.3900447458,
          539225.5934474306,
          571579.1290542765,
          605873.876797533,
          642226.3094053852,
          680759.8879697082,
          721605.4812478909,
          764901.8101227643,
          810795.9187301301,
          859443.673853938,
          911010.2942851745,
          965670.9119422849,
          1023611.166658822,
          1085027.8366583514,
          1150129.5068578525,
          1219137.2772693236
         ],
         "yaxis": "y"
        },
        {
         "mode": "lines",
         "name": "Stock Value (df2)",
         "type": "scatter",
         "x": [
          0,
          1,
          2,
          3,
          4,
          5,
          6,
          7,
          8,
          9,
          10,
          11,
          12,
          13,
          14,
          15,
          16,
          17,
          18,
          19,
          20,
          21,
          22,
          23,
          24,
          25,
          26,
          27,
          28,
          29,
          30
         ],
         "xaxis": "x",
         "y": [
          47000,
          50760,
          54820.8,
          59206.46400000001,
          63942.98112000001,
          69058.41960960002,
          74583.09317836803,
          80549.74063263748,
          86993.71988324849,
          93953.21747390836,
          101469.47487182105,
          109587.03286156672,
          118353.99549049207,
          127822.31512973146,
          138048.10034011,
          149091.94836731878,
          161019.3042367043,
          173900.84857564067,
          187812.9164616919,
          202837.94977862728,
          219064.98576091748,
          236590.1846217909,
          255517.39939153419,
          275958.79134285694,
          298035.4946502855,
          321878.3342223084,
          347628.6009600931,
          375438.88903690054,
          405474.0001598526,
          437911.9201726408,
          472944.87378645217
         ],
         "yaxis": "y"
        },
        {
         "mode": "lines",
         "name": "Return on Initial Investment (df1)",
         "type": "scatter",
         "x": [
          0,
          1,
          2,
          3,
          4,
          5,
          6,
          7,
          8,
          9,
          10,
          11,
          12,
          13,
          14,
          15,
          16,
          17,
          18,
          19,
          20,
          21,
          22,
          23,
          24,
          25,
          26,
          27,
          28,
          29
         ],
         "xaxis": "x2",
         "y": [
          -0.6502037377412483,
          -0.12388046109567268,
          0.43558641201967113,
          1.0297077421051635,
          1.6600707342141625,
          2.328343089552435,
          3.0362773933021017,
          3.7857157524573988,
          4.578594698275282,
          5.416950368808071,
          6.302923987901131,
          7.238767658008887,
          8.226850485210617,
          9.269665055896969,
          10.369834285752491,
          11.530118662882874,
          12.753423908231632,
          14.042809077804787,
          15.401495132677448,
          16.832874004298642,
          18.34051818424533,
          19.92819086930837,
          21.599856694628816,
          23.359693089547964,
          25.21210229289562,
          27.161724066625652,
          29.213449149022477,
          31.372433491155352,
          33.64411332285697,
          36.034221097258005
         ],
         "yaxis": "y2"
        },
        {
         "mode": "lines",
         "name": "Return on Initial Investment (df2)",
         "type": "scatter",
         "x": [
          0,
          1,
          2,
          3,
          4,
          5,
          6,
          7,
          8,
          9,
          10,
          11,
          12,
          13,
          14,
          15,
          16,
          17,
          18,
          19,
          20,
          21,
          22,
          23,
          24,
          25,
          26,
          27,
          28,
          29,
          30
         ],
         "xaxis": "x2",
         "y": [
          -0.5617021276595745,
          -1.043404255319149,
          -1.5187063829787233,
          -1.9870965106382976,
          -2.4480216782978723,
          -2.900884689157446,
          -3.34504057067302,
          -3.779792752497074,
          -4.2043889386542865,
          -4.618016649491311,
          -5.019798406982531,
          -5.4087865348602815,
          -5.783957542755488,
          -6.144206061069543,
          -6.488338290635957,
          -6.815064928354919,
          -7.122993526878631,
          -7.410620243071475,
          -7.676320926346979,
          -7.9183414940717585,
          -8.134787537001754,
          -8.323613093153384,
          -8.482608523584377,
          -8.609387418237084,
          -8.701372454249242,
          -8.755780122929606,
          -8.769604234891634,
          -8.739598105597858,
          -8.662255315747814,
          -8.533788932497002,
          -8.350109068373357
         ],
         "yaxis": "y2"
        },
        {
         "mode": "lines",
         "name": "Total Annual Cashflow (df1)",
         "type": "scatter",
         "x": [
          0,
          1,
          2,
          3,
          4,
          5,
          6,
          7,
          8,
          9,
          10,
          11,
          12,
          13,
          14,
          15,
          16,
          17,
          18,
          19,
          20,
          21,
          22,
          23,
          24,
          25,
          26,
          27,
          28,
          29
         ],
         "xaxis": "x3",
         "y": [
          -26724.106143262557,
          11071.772326208848,
          11818.625326208843,
          12587.883916208848,
          13380.220263908854,
          14196.326702039849,
          15036.91633331478,
          15902.723653527963,
          16794.505193347533,
          17713.0401793617,
          18659.131214956287,
          19633.604981618708,
          20637.312961281004,
          21671.13218033317,
          22735.9659759569,
          23832.744785449337,
          24962.426959226563,
          26125.999598217095,
          27324.47941637734,
          28558.913629082388,
          29830.380868168606,
          31139.9921244274,
          32488.891718373947,
          33878.258300138914,
          35309.30587935681,
          36783.284885951245,
          38301.48326274353,
          39865.22759083957,
          41475.88424877849,
          43134.860606455586
         ],
         "yaxis": "y3"
        },
        {
         "mode": "lines",
         "name": "Total Annual Cashflow (df2)",
         "type": "scatter",
         "x": [
          0,
          1,
          2,
          3,
          4,
          5,
          6,
          7,
          8,
          9,
          10,
          11,
          12,
          13,
          14,
          15,
          16,
          17,
          18,
          19,
          20,
          21,
          22,
          23,
          24,
          25,
          26,
          27,
          28,
          29,
          30
         ],
         "xaxis": "x3",
         "y": [
          -26400,
          -26400,
          -26400,
          -26400,
          -26400,
          -26400,
          -26400,
          -26400,
          -26400,
          -26400,
          -26400,
          -26400,
          -26400,
          -26400,
          -26400,
          -26400,
          -26400,
          -26400,
          -26400,
          -26400,
          -26400,
          -26400,
          -26400,
          -26400,
          -26400,
          -26400,
          -26400,
          -26400,
          -26400,
          -26400,
          -26400
         ],
         "yaxis": "y3"
        }
       ],
       "layout": {
        "font": {
         "color": "#7f7f7f",
         "family": "Courier New, monospace",
         "size": 18
        },
        "height": 600,
        "template": {
         "data": {
          "bar": [
           {
            "error_x": {
             "color": "#2a3f5f"
            },
            "error_y": {
             "color": "#2a3f5f"
            },
            "marker": {
             "line": {
              "color": "#E5ECF6",
              "width": 0.5
             },
             "pattern": {
              "fillmode": "overlay",
              "size": 10,
              "solidity": 0.2
             }
            },
            "type": "bar"
           }
          ],
          "barpolar": [
           {
            "marker": {
             "line": {
              "color": "#E5ECF6",
              "width": 0.5
             },
             "pattern": {
              "fillmode": "overlay",
              "size": 10,
              "solidity": 0.2
             }
            },
            "type": "barpolar"
           }
          ],
          "carpet": [
           {
            "aaxis": {
             "endlinecolor": "#2a3f5f",
             "gridcolor": "white",
             "linecolor": "white",
             "minorgridcolor": "white",
             "startlinecolor": "#2a3f5f"
            },
            "baxis": {
             "endlinecolor": "#2a3f5f",
             "gridcolor": "white",
             "linecolor": "white",
             "minorgridcolor": "white",
             "startlinecolor": "#2a3f5f"
            },
            "type": "carpet"
           }
          ],
          "choropleth": [
           {
            "colorbar": {
             "outlinewidth": 0,
             "ticks": ""
            },
            "type": "choropleth"
           }
          ],
          "contour": [
           {
            "colorbar": {
             "outlinewidth": 0,
             "ticks": ""
            },
            "colorscale": [
             [
              0,
              "#0d0887"
             ],
             [
              0.1111111111111111,
              "#46039f"
             ],
             [
              0.2222222222222222,
              "#7201a8"
             ],
             [
              0.3333333333333333,
              "#9c179e"
             ],
             [
              0.4444444444444444,
              "#bd3786"
             ],
             [
              0.5555555555555556,
              "#d8576b"
             ],
             [
              0.6666666666666666,
              "#ed7953"
             ],
             [
              0.7777777777777778,
              "#fb9f3a"
             ],
             [
              0.8888888888888888,
              "#fdca26"
             ],
             [
              1,
              "#f0f921"
             ]
            ],
            "type": "contour"
           }
          ],
          "contourcarpet": [
           {
            "colorbar": {
             "outlinewidth": 0,
             "ticks": ""
            },
            "type": "contourcarpet"
           }
          ],
          "heatmap": [
           {
            "colorbar": {
             "outlinewidth": 0,
             "ticks": ""
            },
            "colorscale": [
             [
              0,
              "#0d0887"
             ],
             [
              0.1111111111111111,
              "#46039f"
             ],
             [
              0.2222222222222222,
              "#7201a8"
             ],
             [
              0.3333333333333333,
              "#9c179e"
             ],
             [
              0.4444444444444444,
              "#bd3786"
             ],
             [
              0.5555555555555556,
              "#d8576b"
             ],
             [
              0.6666666666666666,
              "#ed7953"
             ],
             [
              0.7777777777777778,
              "#fb9f3a"
             ],
             [
              0.8888888888888888,
              "#fdca26"
             ],
             [
              1,
              "#f0f921"
             ]
            ],
            "type": "heatmap"
           }
          ],
          "heatmapgl": [
           {
            "colorbar": {
             "outlinewidth": 0,
             "ticks": ""
            },
            "colorscale": [
             [
              0,
              "#0d0887"
             ],
             [
              0.1111111111111111,
              "#46039f"
             ],
             [
              0.2222222222222222,
              "#7201a8"
             ],
             [
              0.3333333333333333,
              "#9c179e"
             ],
             [
              0.4444444444444444,
              "#bd3786"
             ],
             [
              0.5555555555555556,
              "#d8576b"
             ],
             [
              0.6666666666666666,
              "#ed7953"
             ],
             [
              0.7777777777777778,
              "#fb9f3a"
             ],
             [
              0.8888888888888888,
              "#fdca26"
             ],
             [
              1,
              "#f0f921"
             ]
            ],
            "type": "heatmapgl"
           }
          ],
          "histogram": [
           {
            "marker": {
             "pattern": {
              "fillmode": "overlay",
              "size": 10,
              "solidity": 0.2
             }
            },
            "type": "histogram"
           }
          ],
          "histogram2d": [
           {
            "colorbar": {
             "outlinewidth": 0,
             "ticks": ""
            },
            "colorscale": [
             [
              0,
              "#0d0887"
             ],
             [
              0.1111111111111111,
              "#46039f"
             ],
             [
              0.2222222222222222,
              "#7201a8"
             ],
             [
              0.3333333333333333,
              "#9c179e"
             ],
             [
              0.4444444444444444,
              "#bd3786"
             ],
             [
              0.5555555555555556,
              "#d8576b"
             ],
             [
              0.6666666666666666,
              "#ed7953"
             ],
             [
              0.7777777777777778,
              "#fb9f3a"
             ],
             [
              0.8888888888888888,
              "#fdca26"
             ],
             [
              1,
              "#f0f921"
             ]
            ],
            "type": "histogram2d"
           }
          ],
          "histogram2dcontour": [
           {
            "colorbar": {
             "outlinewidth": 0,
             "ticks": ""
            },
            "colorscale": [
             [
              0,
              "#0d0887"
             ],
             [
              0.1111111111111111,
              "#46039f"
             ],
             [
              0.2222222222222222,
              "#7201a8"
             ],
             [
              0.3333333333333333,
              "#9c179e"
             ],
             [
              0.4444444444444444,
              "#bd3786"
             ],
             [
              0.5555555555555556,
              "#d8576b"
             ],
             [
              0.6666666666666666,
              "#ed7953"
             ],
             [
              0.7777777777777778,
              "#fb9f3a"
             ],
             [
              0.8888888888888888,
              "#fdca26"
             ],
             [
              1,
              "#f0f921"
             ]
            ],
            "type": "histogram2dcontour"
           }
          ],
          "mesh3d": [
           {
            "colorbar": {
             "outlinewidth": 0,
             "ticks": ""
            },
            "type": "mesh3d"
           }
          ],
          "parcoords": [
           {
            "line": {
             "colorbar": {
              "outlinewidth": 0,
              "ticks": ""
             }
            },
            "type": "parcoords"
           }
          ],
          "pie": [
           {
            "automargin": true,
            "type": "pie"
           }
          ],
          "scatter": [
           {
            "fillpattern": {
             "fillmode": "overlay",
             "size": 10,
             "solidity": 0.2
            },
            "type": "scatter"
           }
          ],
          "scatter3d": [
           {
            "line": {
             "colorbar": {
              "outlinewidth": 0,
              "ticks": ""
             }
            },
            "marker": {
             "colorbar": {
              "outlinewidth": 0,
              "ticks": ""
             }
            },
            "type": "scatter3d"
           }
          ],
          "scattercarpet": [
           {
            "marker": {
             "colorbar": {
              "outlinewidth": 0,
              "ticks": ""
             }
            },
            "type": "scattercarpet"
           }
          ],
          "scattergeo": [
           {
            "marker": {
             "colorbar": {
              "outlinewidth": 0,
              "ticks": ""
             }
            },
            "type": "scattergeo"
           }
          ],
          "scattergl": [
           {
            "marker": {
             "colorbar": {
              "outlinewidth": 0,
              "ticks": ""
             }
            },
            "type": "scattergl"
           }
          ],
          "scattermapbox": [
           {
            "marker": {
             "colorbar": {
              "outlinewidth": 0,
              "ticks": ""
             }
            },
            "type": "scattermapbox"
           }
          ],
          "scatterpolar": [
           {
            "marker": {
             "colorbar": {
              "outlinewidth": 0,
              "ticks": ""
             }
            },
            "type": "scatterpolar"
           }
          ],
          "scatterpolargl": [
           {
            "marker": {
             "colorbar": {
              "outlinewidth": 0,
              "ticks": ""
             }
            },
            "type": "scatterpolargl"
           }
          ],
          "scatterternary": [
           {
            "marker": {
             "colorbar": {
              "outlinewidth": 0,
              "ticks": ""
             }
            },
            "type": "scatterternary"
           }
          ],
          "surface": [
           {
            "colorbar": {
             "outlinewidth": 0,
             "ticks": ""
            },
            "colorscale": [
             [
              0,
              "#0d0887"
             ],
             [
              0.1111111111111111,
              "#46039f"
             ],
             [
              0.2222222222222222,
              "#7201a8"
             ],
             [
              0.3333333333333333,
              "#9c179e"
             ],
             [
              0.4444444444444444,
              "#bd3786"
             ],
             [
              0.5555555555555556,
              "#d8576b"
             ],
             [
              0.6666666666666666,
              "#ed7953"
             ],
             [
              0.7777777777777778,
              "#fb9f3a"
             ],
             [
              0.8888888888888888,
              "#fdca26"
             ],
             [
              1,
              "#f0f921"
             ]
            ],
            "type": "surface"
           }
          ],
          "table": [
           {
            "cells": {
             "fill": {
              "color": "#EBF0F8"
             },
             "line": {
              "color": "white"
             }
            },
            "header": {
             "fill": {
              "color": "#C8D4E3"
             },
             "line": {
              "color": "white"
             }
            },
            "type": "table"
           }
          ]
         },
         "layout": {
          "annotationdefaults": {
           "arrowcolor": "#2a3f5f",
           "arrowhead": 0,
           "arrowwidth": 1
          },
          "autotypenumbers": "strict",
          "coloraxis": {
           "colorbar": {
            "outlinewidth": 0,
            "ticks": ""
           }
          },
          "colorscale": {
           "diverging": [
            [
             0,
             "#8e0152"
            ],
            [
             0.1,
             "#c51b7d"
            ],
            [
             0.2,
             "#de77ae"
            ],
            [
             0.3,
             "#f1b6da"
            ],
            [
             0.4,
             "#fde0ef"
            ],
            [
             0.5,
             "#f7f7f7"
            ],
            [
             0.6,
             "#e6f5d0"
            ],
            [
             0.7,
             "#b8e186"
            ],
            [
             0.8,
             "#7fbc41"
            ],
            [
             0.9,
             "#4d9221"
            ],
            [
             1,
             "#276419"
            ]
           ],
           "sequential": [
            [
             0,
             "#0d0887"
            ],
            [
             0.1111111111111111,
             "#46039f"
            ],
            [
             0.2222222222222222,
             "#7201a8"
            ],
            [
             0.3333333333333333,
             "#9c179e"
            ],
            [
             0.4444444444444444,
             "#bd3786"
            ],
            [
             0.5555555555555556,
             "#d8576b"
            ],
            [
             0.6666666666666666,
             "#ed7953"
            ],
            [
             0.7777777777777778,
             "#fb9f3a"
            ],
            [
             0.8888888888888888,
             "#fdca26"
            ],
            [
             1,
             "#f0f921"
            ]
           ],
           "sequentialminus": [
            [
             0,
             "#0d0887"
            ],
            [
             0.1111111111111111,
             "#46039f"
            ],
            [
             0.2222222222222222,
             "#7201a8"
            ],
            [
             0.3333333333333333,
             "#9c179e"
            ],
            [
             0.4444444444444444,
             "#bd3786"
            ],
            [
             0.5555555555555556,
             "#d8576b"
            ],
            [
             0.6666666666666666,
             "#ed7953"
            ],
            [
             0.7777777777777778,
             "#fb9f3a"
            ],
            [
             0.8888888888888888,
             "#fdca26"
            ],
            [
             1,
             "#f0f921"
            ]
           ]
          },
          "colorway": [
           "#636efa",
           "#EF553B",
           "#00cc96",
           "#ab63fa",
           "#FFA15A",
           "#19d3f3",
           "#FF6692",
           "#B6E880",
           "#FF97FF",
           "#FECB52"
          ],
          "font": {
           "color": "#2a3f5f"
          },
          "geo": {
           "bgcolor": "white",
           "lakecolor": "white",
           "landcolor": "#E5ECF6",
           "showlakes": true,
           "showland": true,
           "subunitcolor": "white"
          },
          "hoverlabel": {
           "align": "left"
          },
          "hovermode": "closest",
          "mapbox": {
           "style": "light"
          },
          "paper_bgcolor": "white",
          "plot_bgcolor": "#E5ECF6",
          "polar": {
           "angularaxis": {
            "gridcolor": "white",
            "linecolor": "white",
            "ticks": ""
           },
           "bgcolor": "#E5ECF6",
           "radialaxis": {
            "gridcolor": "white",
            "linecolor": "white",
            "ticks": ""
           }
          },
          "scene": {
           "xaxis": {
            "backgroundcolor": "#E5ECF6",
            "gridcolor": "white",
            "gridwidth": 2,
            "linecolor": "white",
            "showbackground": true,
            "ticks": "",
            "zerolinecolor": "white"
           },
           "yaxis": {
            "backgroundcolor": "#E5ECF6",
            "gridcolor": "white",
            "gridwidth": 2,
            "linecolor": "white",
            "showbackground": true,
            "ticks": "",
            "zerolinecolor": "white"
           },
           "zaxis": {
            "backgroundcolor": "#E5ECF6",
            "gridcolor": "white",
            "gridwidth": 2,
            "linecolor": "white",
            "showbackground": true,
            "ticks": "",
            "zerolinecolor": "white"
           }
          },
          "shapedefaults": {
           "line": {
            "color": "#2a3f5f"
           }
          },
          "ternary": {
           "aaxis": {
            "gridcolor": "white",
            "linecolor": "white",
            "ticks": ""
           },
           "baxis": {
            "gridcolor": "white",
            "linecolor": "white",
            "ticks": ""
           },
           "bgcolor": "#E5ECF6",
           "caxis": {
            "gridcolor": "white",
            "linecolor": "white",
            "ticks": ""
           }
          },
          "title": {
           "x": 0.05
          },
          "xaxis": {
           "automargin": true,
           "gridcolor": "white",
           "linecolor": "white",
           "ticks": "",
           "title": {
            "standoff": 15
           },
           "zerolinecolor": "white",
           "zerolinewidth": 2
          },
          "yaxis": {
           "automargin": true,
           "gridcolor": "white",
           "linecolor": "white",
           "ticks": "",
           "title": {
            "standoff": 15
           },
           "zerolinecolor": "white",
           "zerolinewidth": 2
          }
         }
        },
        "title": {
         "text": "S&P Vs Real Estate"
        },
        "width": 1200,
        "xaxis": {
         "anchor": "y",
         "domain": [
          0,
          0.2888888888888889
         ]
        },
        "xaxis2": {
         "anchor": "y2",
         "domain": [
          0.35555555555555557,
          0.6444444444444445
         ]
        },
        "xaxis3": {
         "anchor": "y3",
         "domain": [
          0.7111111111111111,
          1
         ]
        },
        "yaxis": {
         "anchor": "x",
         "domain": [
          0,
          1
         ]
        },
        "yaxis2": {
         "anchor": "x2",
         "domain": [
          0,
          1
         ]
        },
        "yaxis3": {
         "anchor": "x3",
         "domain": [
          0,
          1
         ]
        }
       }
      },
      "text/html": [
       "<div>                            <div id=\"a49c465b-f806-43ff-aa0e-f72ace92323c\" class=\"plotly-graph-div\" style=\"height:600px; width:1200px;\"></div>            <script type=\"text/javascript\">                require([\"plotly\"], function(Plotly) {                    window.PLOTLYENV=window.PLOTLYENV || {};                                    if (document.getElementById(\"a49c465b-f806-43ff-aa0e-f72ace92323c\")) {                    Plotly.newPlot(                        \"a49c465b-f806-43ff-aa0e-f72ace92323c\",                        [{\"mode\":\"lines\",\"name\":\"Property Value (df1)\",\"x\":[0,1,2,3,4,5,6,7,8,9,10,11,12,13,14,15,16,17,18,19,20,21,22,23,24,25,26,27,28,29],\"y\":[225000.0,238500.0,252810.00000000003,267978.60000000003,284057.31600000005,301100.75496000005,319166.8002576001,338316.8082730561,358615.8167694395,380132.76577560586,402940.73172214226,427117.17562547076,452744.2061629991,479908.8585327791,508703.3900447458,539225.5934474306,571579.1290542765,605873.876797533,642226.3094053852,680759.8879697082,721605.4812478909,764901.8101227643,810795.9187301301,859443.673853938,911010.2942851745,965670.9119422849,1023611.166658822,1085027.8366583514,1150129.5068578525,1219137.2772693236],\"type\":\"scatter\",\"xaxis\":\"x\",\"yaxis\":\"y\"},{\"mode\":\"lines\",\"name\":\"Stock Value (df2)\",\"x\":[0,1,2,3,4,5,6,7,8,9,10,11,12,13,14,15,16,17,18,19,20,21,22,23,24,25,26,27,28,29,30],\"y\":[47000.0,50760.0,54820.8,59206.46400000001,63942.98112000001,69058.41960960002,74583.09317836803,80549.74063263748,86993.71988324849,93953.21747390836,101469.47487182105,109587.03286156672,118353.99549049207,127822.31512973146,138048.10034011,149091.94836731878,161019.3042367043,173900.84857564067,187812.9164616919,202837.94977862728,219064.98576091748,236590.1846217909,255517.39939153419,275958.79134285694,298035.4946502855,321878.3342223084,347628.6009600931,375438.88903690054,405474.0001598526,437911.9201726408,472944.87378645217],\"type\":\"scatter\",\"xaxis\":\"x\",\"yaxis\":\"y\"},{\"mode\":\"lines\",\"name\":\"Return on Initial Investment (df1)\",\"x\":[0,1,2,3,4,5,6,7,8,9,10,11,12,13,14,15,16,17,18,19,20,21,22,23,24,25,26,27,28,29],\"y\":[-0.6502037377412483,-0.12388046109567268,0.43558641201967113,1.0297077421051635,1.6600707342141625,2.328343089552435,3.0362773933021017,3.7857157524573988,4.578594698275282,5.416950368808071,6.302923987901131,7.238767658008887,8.226850485210617,9.269665055896969,10.369834285752491,11.530118662882874,12.753423908231632,14.042809077804787,15.401495132677448,16.832874004298642,18.34051818424533,19.92819086930837,21.599856694628816,23.359693089547964,25.21210229289562,27.161724066625652,29.213449149022477,31.372433491155352,33.64411332285697,36.034221097258005],\"type\":\"scatter\",\"xaxis\":\"x2\",\"yaxis\":\"y2\"},{\"mode\":\"lines\",\"name\":\"Return on Initial Investment (df2)\",\"x\":[0,1,2,3,4,5,6,7,8,9,10,11,12,13,14,15,16,17,18,19,20,21,22,23,24,25,26,27,28,29,30],\"y\":[-0.5617021276595745,-1.043404255319149,-1.5187063829787233,-1.9870965106382976,-2.4480216782978723,-2.900884689157446,-3.34504057067302,-3.779792752497074,-4.2043889386542865,-4.618016649491311,-5.019798406982531,-5.4087865348602815,-5.783957542755488,-6.144206061069543,-6.488338290635957,-6.815064928354919,-7.122993526878631,-7.410620243071475,-7.676320926346979,-7.9183414940717585,-8.134787537001754,-8.323613093153384,-8.482608523584377,-8.609387418237084,-8.701372454249242,-8.755780122929606,-8.769604234891634,-8.739598105597858,-8.662255315747814,-8.533788932497002,-8.350109068373357],\"type\":\"scatter\",\"xaxis\":\"x2\",\"yaxis\":\"y2\"},{\"mode\":\"lines\",\"name\":\"Total Annual Cashflow (df1)\",\"x\":[0,1,2,3,4,5,6,7,8,9,10,11,12,13,14,15,16,17,18,19,20,21,22,23,24,25,26,27,28,29],\"y\":[-26724.106143262557,11071.772326208848,11818.625326208843,12587.883916208848,13380.220263908854,14196.326702039849,15036.91633331478,15902.723653527963,16794.505193347533,17713.0401793617,18659.131214956287,19633.604981618708,20637.312961281004,21671.13218033317,22735.9659759569,23832.744785449337,24962.426959226563,26125.999598217095,27324.47941637734,28558.913629082388,29830.380868168606,31139.9921244274,32488.891718373947,33878.258300138914,35309.30587935681,36783.284885951245,38301.48326274353,39865.22759083957,41475.88424877849,43134.860606455586],\"type\":\"scatter\",\"xaxis\":\"x3\",\"yaxis\":\"y3\"},{\"mode\":\"lines\",\"name\":\"Total Annual Cashflow (df2)\",\"x\":[0,1,2,3,4,5,6,7,8,9,10,11,12,13,14,15,16,17,18,19,20,21,22,23,24,25,26,27,28,29,30],\"y\":[-26400,-26400,-26400,-26400,-26400,-26400,-26400,-26400,-26400,-26400,-26400,-26400,-26400,-26400,-26400,-26400,-26400,-26400,-26400,-26400,-26400,-26400,-26400,-26400,-26400,-26400,-26400,-26400,-26400,-26400,-26400],\"type\":\"scatter\",\"xaxis\":\"x3\",\"yaxis\":\"y3\"}],                        {\"template\":{\"data\":{\"histogram2dcontour\":[{\"type\":\"histogram2dcontour\",\"colorbar\":{\"outlinewidth\":0,\"ticks\":\"\"},\"colorscale\":[[0.0,\"#0d0887\"],[0.1111111111111111,\"#46039f\"],[0.2222222222222222,\"#7201a8\"],[0.3333333333333333,\"#9c179e\"],[0.4444444444444444,\"#bd3786\"],[0.5555555555555556,\"#d8576b\"],[0.6666666666666666,\"#ed7953\"],[0.7777777777777778,\"#fb9f3a\"],[0.8888888888888888,\"#fdca26\"],[1.0,\"#f0f921\"]]}],\"choropleth\":[{\"type\":\"choropleth\",\"colorbar\":{\"outlinewidth\":0,\"ticks\":\"\"}}],\"histogram2d\":[{\"type\":\"histogram2d\",\"colorbar\":{\"outlinewidth\":0,\"ticks\":\"\"},\"colorscale\":[[0.0,\"#0d0887\"],[0.1111111111111111,\"#46039f\"],[0.2222222222222222,\"#7201a8\"],[0.3333333333333333,\"#9c179e\"],[0.4444444444444444,\"#bd3786\"],[0.5555555555555556,\"#d8576b\"],[0.6666666666666666,\"#ed7953\"],[0.7777777777777778,\"#fb9f3a\"],[0.8888888888888888,\"#fdca26\"],[1.0,\"#f0f921\"]]}],\"heatmap\":[{\"type\":\"heatmap\",\"colorbar\":{\"outlinewidth\":0,\"ticks\":\"\"},\"colorscale\":[[0.0,\"#0d0887\"],[0.1111111111111111,\"#46039f\"],[0.2222222222222222,\"#7201a8\"],[0.3333333333333333,\"#9c179e\"],[0.4444444444444444,\"#bd3786\"],[0.5555555555555556,\"#d8576b\"],[0.6666666666666666,\"#ed7953\"],[0.7777777777777778,\"#fb9f3a\"],[0.8888888888888888,\"#fdca26\"],[1.0,\"#f0f921\"]]}],\"heatmapgl\":[{\"type\":\"heatmapgl\",\"colorbar\":{\"outlinewidth\":0,\"ticks\":\"\"},\"colorscale\":[[0.0,\"#0d0887\"],[0.1111111111111111,\"#46039f\"],[0.2222222222222222,\"#7201a8\"],[0.3333333333333333,\"#9c179e\"],[0.4444444444444444,\"#bd3786\"],[0.5555555555555556,\"#d8576b\"],[0.6666666666666666,\"#ed7953\"],[0.7777777777777778,\"#fb9f3a\"],[0.8888888888888888,\"#fdca26\"],[1.0,\"#f0f921\"]]}],\"contourcarpet\":[{\"type\":\"contourcarpet\",\"colorbar\":{\"outlinewidth\":0,\"ticks\":\"\"}}],\"contour\":[{\"type\":\"contour\",\"colorbar\":{\"outlinewidth\":0,\"ticks\":\"\"},\"colorscale\":[[0.0,\"#0d0887\"],[0.1111111111111111,\"#46039f\"],[0.2222222222222222,\"#7201a8\"],[0.3333333333333333,\"#9c179e\"],[0.4444444444444444,\"#bd3786\"],[0.5555555555555556,\"#d8576b\"],[0.6666666666666666,\"#ed7953\"],[0.7777777777777778,\"#fb9f3a\"],[0.8888888888888888,\"#fdca26\"],[1.0,\"#f0f921\"]]}],\"surface\":[{\"type\":\"surface\",\"colorbar\":{\"outlinewidth\":0,\"ticks\":\"\"},\"colorscale\":[[0.0,\"#0d0887\"],[0.1111111111111111,\"#46039f\"],[0.2222222222222222,\"#7201a8\"],[0.3333333333333333,\"#9c179e\"],[0.4444444444444444,\"#bd3786\"],[0.5555555555555556,\"#d8576b\"],[0.6666666666666666,\"#ed7953\"],[0.7777777777777778,\"#fb9f3a\"],[0.8888888888888888,\"#fdca26\"],[1.0,\"#f0f921\"]]}],\"mesh3d\":[{\"type\":\"mesh3d\",\"colorbar\":{\"outlinewidth\":0,\"ticks\":\"\"}}],\"scatter\":[{\"fillpattern\":{\"fillmode\":\"overlay\",\"size\":10,\"solidity\":0.2},\"type\":\"scatter\"}],\"parcoords\":[{\"type\":\"parcoords\",\"line\":{\"colorbar\":{\"outlinewidth\":0,\"ticks\":\"\"}}}],\"scatterpolargl\":[{\"type\":\"scatterpolargl\",\"marker\":{\"colorbar\":{\"outlinewidth\":0,\"ticks\":\"\"}}}],\"bar\":[{\"error_x\":{\"color\":\"#2a3f5f\"},\"error_y\":{\"color\":\"#2a3f5f\"},\"marker\":{\"line\":{\"color\":\"#E5ECF6\",\"width\":0.5},\"pattern\":{\"fillmode\":\"overlay\",\"size\":10,\"solidity\":0.2}},\"type\":\"bar\"}],\"scattergeo\":[{\"type\":\"scattergeo\",\"marker\":{\"colorbar\":{\"outlinewidth\":0,\"ticks\":\"\"}}}],\"scatterpolar\":[{\"type\":\"scatterpolar\",\"marker\":{\"colorbar\":{\"outlinewidth\":0,\"ticks\":\"\"}}}],\"histogram\":[{\"marker\":{\"pattern\":{\"fillmode\":\"overlay\",\"size\":10,\"solidity\":0.2}},\"type\":\"histogram\"}],\"scattergl\":[{\"type\":\"scattergl\",\"marker\":{\"colorbar\":{\"outlinewidth\":0,\"ticks\":\"\"}}}],\"scatter3d\":[{\"type\":\"scatter3d\",\"line\":{\"colorbar\":{\"outlinewidth\":0,\"ticks\":\"\"}},\"marker\":{\"colorbar\":{\"outlinewidth\":0,\"ticks\":\"\"}}}],\"scattermapbox\":[{\"type\":\"scattermapbox\",\"marker\":{\"colorbar\":{\"outlinewidth\":0,\"ticks\":\"\"}}}],\"scatterternary\":[{\"type\":\"scatterternary\",\"marker\":{\"colorbar\":{\"outlinewidth\":0,\"ticks\":\"\"}}}],\"scattercarpet\":[{\"type\":\"scattercarpet\",\"marker\":{\"colorbar\":{\"outlinewidth\":0,\"ticks\":\"\"}}}],\"carpet\":[{\"aaxis\":{\"endlinecolor\":\"#2a3f5f\",\"gridcolor\":\"white\",\"linecolor\":\"white\",\"minorgridcolor\":\"white\",\"startlinecolor\":\"#2a3f5f\"},\"baxis\":{\"endlinecolor\":\"#2a3f5f\",\"gridcolor\":\"white\",\"linecolor\":\"white\",\"minorgridcolor\":\"white\",\"startlinecolor\":\"#2a3f5f\"},\"type\":\"carpet\"}],\"table\":[{\"cells\":{\"fill\":{\"color\":\"#EBF0F8\"},\"line\":{\"color\":\"white\"}},\"header\":{\"fill\":{\"color\":\"#C8D4E3\"},\"line\":{\"color\":\"white\"}},\"type\":\"table\"}],\"barpolar\":[{\"marker\":{\"line\":{\"color\":\"#E5ECF6\",\"width\":0.5},\"pattern\":{\"fillmode\":\"overlay\",\"size\":10,\"solidity\":0.2}},\"type\":\"barpolar\"}],\"pie\":[{\"automargin\":true,\"type\":\"pie\"}]},\"layout\":{\"autotypenumbers\":\"strict\",\"colorway\":[\"#636efa\",\"#EF553B\",\"#00cc96\",\"#ab63fa\",\"#FFA15A\",\"#19d3f3\",\"#FF6692\",\"#B6E880\",\"#FF97FF\",\"#FECB52\"],\"font\":{\"color\":\"#2a3f5f\"},\"hovermode\":\"closest\",\"hoverlabel\":{\"align\":\"left\"},\"paper_bgcolor\":\"white\",\"plot_bgcolor\":\"#E5ECF6\",\"polar\":{\"bgcolor\":\"#E5ECF6\",\"angularaxis\":{\"gridcolor\":\"white\",\"linecolor\":\"white\",\"ticks\":\"\"},\"radialaxis\":{\"gridcolor\":\"white\",\"linecolor\":\"white\",\"ticks\":\"\"}},\"ternary\":{\"bgcolor\":\"#E5ECF6\",\"aaxis\":{\"gridcolor\":\"white\",\"linecolor\":\"white\",\"ticks\":\"\"},\"baxis\":{\"gridcolor\":\"white\",\"linecolor\":\"white\",\"ticks\":\"\"},\"caxis\":{\"gridcolor\":\"white\",\"linecolor\":\"white\",\"ticks\":\"\"}},\"coloraxis\":{\"colorbar\":{\"outlinewidth\":0,\"ticks\":\"\"}},\"colorscale\":{\"sequential\":[[0.0,\"#0d0887\"],[0.1111111111111111,\"#46039f\"],[0.2222222222222222,\"#7201a8\"],[0.3333333333333333,\"#9c179e\"],[0.4444444444444444,\"#bd3786\"],[0.5555555555555556,\"#d8576b\"],[0.6666666666666666,\"#ed7953\"],[0.7777777777777778,\"#fb9f3a\"],[0.8888888888888888,\"#fdca26\"],[1.0,\"#f0f921\"]],\"sequentialminus\":[[0.0,\"#0d0887\"],[0.1111111111111111,\"#46039f\"],[0.2222222222222222,\"#7201a8\"],[0.3333333333333333,\"#9c179e\"],[0.4444444444444444,\"#bd3786\"],[0.5555555555555556,\"#d8576b\"],[0.6666666666666666,\"#ed7953\"],[0.7777777777777778,\"#fb9f3a\"],[0.8888888888888888,\"#fdca26\"],[1.0,\"#f0f921\"]],\"diverging\":[[0,\"#8e0152\"],[0.1,\"#c51b7d\"],[0.2,\"#de77ae\"],[0.3,\"#f1b6da\"],[0.4,\"#fde0ef\"],[0.5,\"#f7f7f7\"],[0.6,\"#e6f5d0\"],[0.7,\"#b8e186\"],[0.8,\"#7fbc41\"],[0.9,\"#4d9221\"],[1,\"#276419\"]]},\"xaxis\":{\"gridcolor\":\"white\",\"linecolor\":\"white\",\"ticks\":\"\",\"title\":{\"standoff\":15},\"zerolinecolor\":\"white\",\"automargin\":true,\"zerolinewidth\":2},\"yaxis\":{\"gridcolor\":\"white\",\"linecolor\":\"white\",\"ticks\":\"\",\"title\":{\"standoff\":15},\"zerolinecolor\":\"white\",\"automargin\":true,\"zerolinewidth\":2},\"scene\":{\"xaxis\":{\"backgroundcolor\":\"#E5ECF6\",\"gridcolor\":\"white\",\"linecolor\":\"white\",\"showbackground\":true,\"ticks\":\"\",\"zerolinecolor\":\"white\",\"gridwidth\":2},\"yaxis\":{\"backgroundcolor\":\"#E5ECF6\",\"gridcolor\":\"white\",\"linecolor\":\"white\",\"showbackground\":true,\"ticks\":\"\",\"zerolinecolor\":\"white\",\"gridwidth\":2},\"zaxis\":{\"backgroundcolor\":\"#E5ECF6\",\"gridcolor\":\"white\",\"linecolor\":\"white\",\"showbackground\":true,\"ticks\":\"\",\"zerolinecolor\":\"white\",\"gridwidth\":2}},\"shapedefaults\":{\"line\":{\"color\":\"#2a3f5f\"}},\"annotationdefaults\":{\"arrowcolor\":\"#2a3f5f\",\"arrowhead\":0,\"arrowwidth\":1},\"geo\":{\"bgcolor\":\"white\",\"landcolor\":\"#E5ECF6\",\"subunitcolor\":\"white\",\"showland\":true,\"showlakes\":true,\"lakecolor\":\"white\"},\"title\":{\"x\":0.05},\"mapbox\":{\"style\":\"light\"}}},\"xaxis\":{\"anchor\":\"y\",\"domain\":[0.0,0.2888888888888889]},\"yaxis\":{\"anchor\":\"x\",\"domain\":[0.0,1.0]},\"xaxis2\":{\"anchor\":\"y2\",\"domain\":[0.35555555555555557,0.6444444444444445]},\"yaxis2\":{\"anchor\":\"x2\",\"domain\":[0.0,1.0]},\"xaxis3\":{\"anchor\":\"y3\",\"domain\":[0.7111111111111111,1.0]},\"yaxis3\":{\"anchor\":\"x3\",\"domain\":[0.0,1.0]},\"title\":{\"text\":\"S&P Vs Real Estate\"},\"font\":{\"family\":\"Courier New, monospace\",\"size\":18,\"color\":\"#7f7f7f\"},\"width\":1200,\"height\":600},                        {\"responsive\": true}                    ).then(function(){\n",
       "                            \n",
       "var gd = document.getElementById('a49c465b-f806-43ff-aa0e-f72ace92323c');\n",
       "var x = new MutationObserver(function (mutations, observer) {{\n",
       "        var display = window.getComputedStyle(gd).display;\n",
       "        if (!display || display === 'none') {{\n",
       "            console.log([gd, 'removed!']);\n",
       "            Plotly.purge(gd);\n",
       "            observer.disconnect();\n",
       "        }}\n",
       "}});\n",
       "\n",
       "// Listen for the removal of the full notebook cells\n",
       "var notebookContainer = gd.closest('#notebook-container');\n",
       "if (notebookContainer) {{\n",
       "    x.observe(notebookContainer, {childList: true});\n",
       "}}\n",
       "\n",
       "// Listen for the clearing of the current output cell\n",
       "var outputEl = gd.closest('.output');\n",
       "if (outputEl) {{\n",
       "    x.observe(outputEl, {childList: true});\n",
       "}}\n",
       "\n",
       "                        })                };                });            </script>        </div>"
      ]
     },
     "metadata": {},
     "output_type": "display_data"
    }
   ],
   "source": [
    "from real_estate.analysis import property_performance\n",
    "\n",
    "property_performance(\n",
    "    purchase_price = 200e3,\n",
    "    downpayment = 20e3,\n",
    "    rehab_cost = 25e3,\n",
    "    after_repair_value = 225e3,\n",
    "    title='S&P Vs Real Estate'\n",
    ");"
   ]
  },
  {
   "cell_type": "code",
   "execution_count": 17,
   "metadata": {},
   "outputs": [],
   "source": [
    "realestate_df, stocks_df = _"
   ]
  },
  {
   "cell_type": "code",
   "execution_count": 59,
   "metadata": {},
   "outputs": [
    {
     "name": "stdout",
     "output_type": "stream",
     "text": [
      "True 1 1 Total Annual Cashflow 1\n",
      "False 1 2 ('Property Value', 'Stock Value') 2\n",
      "True 1 3 Return on Initial Investment 3\n"
     ]
    },
    {
     "data": {
      "application/vnd.plotly.v1+json": {
       "config": {
        "plotlyServerURL": "https://plot.ly"
       },
       "data": [
        {
         "line": {
          "color": "blue",
          "width": 2
         },
         "marker": {
          "color": "blue"
         },
         "mode": "lines",
         "name": "Real Estate",
         "type": "scatter",
         "x": [
          0,
          1,
          2,
          3,
          4,
          5,
          6,
          7,
          8,
          9,
          10,
          11,
          12,
          13,
          14,
          15,
          16,
          17,
          18,
          19,
          20,
          21,
          22,
          23,
          24,
          25,
          26,
          27,
          28,
          29
         ],
         "xaxis": "x",
         "y": [
          -26724.106143262557,
          11071.772326208848,
          11818.625326208843,
          12587.883916208848,
          13380.220263908854,
          14196.326702039849,
          15036.91633331478,
          15902.723653527963,
          16794.505193347533,
          17713.0401793617,
          18659.131214956287,
          19633.604981618708,
          20637.312961281004,
          21671.13218033317,
          22735.9659759569,
          23832.744785449337,
          24962.426959226563,
          26125.999598217095,
          27324.47941637734,
          28558.913629082388,
          29830.380868168606,
          31139.9921244274,
          32488.891718373947,
          33878.258300138914,
          35309.30587935681,
          36783.284885951245,
          38301.48326274353,
          39865.22759083957,
          41475.88424877849,
          43134.860606455586
         ],
         "yaxis": "y"
        },
        {
         "line": {
          "color": "red",
          "width": 2
         },
         "marker": {
          "color": "red"
         },
         "mode": "lines",
         "name": "S&P",
         "type": "scatter",
         "x": [
          0,
          1,
          2,
          3,
          4,
          5,
          6,
          7,
          8,
          9,
          10,
          11,
          12,
          13,
          14,
          15,
          16,
          17,
          18,
          19,
          20,
          21,
          22,
          23,
          24,
          25,
          26,
          27,
          28,
          29,
          30
         ],
         "xaxis": "x",
         "y": [
          -26400,
          -26400,
          -26400,
          -26400,
          -26400,
          -26400,
          -26400,
          -26400,
          -26400,
          -26400,
          -26400,
          -26400,
          -26400,
          -26400,
          -26400,
          -26400,
          -26400,
          -26400,
          -26400,
          -26400,
          -26400,
          -26400,
          -26400,
          -26400,
          -26400,
          -26400,
          -26400,
          -26400,
          -26400,
          -26400,
          -26400
         ],
         "yaxis": "y"
        },
        {
         "line": {
          "color": "blue",
          "width": 2
         },
         "marker": {
          "color": "blue"
         },
         "mode": "lines",
         "name": "Real Estate",
         "showlegend": false,
         "type": "scatter",
         "x": [
          0,
          1,
          2,
          3,
          4,
          5,
          6,
          7,
          8,
          9,
          10,
          11,
          12,
          13,
          14,
          15,
          16,
          17,
          18,
          19,
          20,
          21,
          22,
          23,
          24,
          25,
          26,
          27,
          28,
          29
         ],
         "xaxis": "x2",
         "y": [
          225000,
          238500,
          252810.00000000003,
          267978.60000000003,
          284057.31600000005,
          301100.75496000005,
          319166.8002576001,
          338316.8082730561,
          358615.8167694395,
          380132.76577560586,
          402940.73172214226,
          427117.17562547076,
          452744.2061629991,
          479908.8585327791,
          508703.3900447458,
          539225.5934474306,
          571579.1290542765,
          605873.876797533,
          642226.3094053852,
          680759.8879697082,
          721605.4812478909,
          764901.8101227643,
          810795.9187301301,
          859443.673853938,
          911010.2942851745,
          965670.9119422849,
          1023611.166658822,
          1085027.8366583514,
          1150129.5068578525,
          1219137.2772693236
         ],
         "yaxis": "y2"
        },
        {
         "line": {
          "color": "red",
          "width": 2
         },
         "marker": {
          "color": "red"
         },
         "mode": "lines",
         "name": "S&P",
         "showlegend": false,
         "type": "scatter",
         "x": [
          0,
          1,
          2,
          3,
          4,
          5,
          6,
          7,
          8,
          9,
          10,
          11,
          12,
          13,
          14,
          15,
          16,
          17,
          18,
          19,
          20,
          21,
          22,
          23,
          24,
          25,
          26,
          27,
          28,
          29,
          30
         ],
         "xaxis": "x2",
         "y": [
          47000,
          50760,
          54820.8,
          59206.46400000001,
          63942.98112000001,
          69058.41960960002,
          74583.09317836803,
          80549.74063263748,
          86993.71988324849,
          93953.21747390836,
          101469.47487182105,
          109587.03286156672,
          118353.99549049207,
          127822.31512973146,
          138048.10034011,
          149091.94836731878,
          161019.3042367043,
          173900.84857564067,
          187812.9164616919,
          202837.94977862728,
          219064.98576091748,
          236590.1846217909,
          255517.39939153419,
          275958.79134285694,
          298035.4946502855,
          321878.3342223084,
          347628.6009600931,
          375438.88903690054,
          405474.0001598526,
          437911.9201726408,
          472944.87378645217
         ],
         "yaxis": "y2"
        },
        {
         "line": {
          "color": "blue",
          "width": 2
         },
         "marker": {
          "color": "blue"
         },
         "mode": "lines",
         "name": "Real Estate",
         "showlegend": false,
         "type": "scatter",
         "x": [
          0,
          1,
          2,
          3,
          4,
          5,
          6,
          7,
          8,
          9,
          10,
          11,
          12,
          13,
          14,
          15,
          16,
          17,
          18,
          19,
          20,
          21,
          22,
          23,
          24,
          25,
          26,
          27,
          28,
          29
         ],
         "xaxis": "x3",
         "y": [
          -0.6502037377412483,
          -0.12388046109567268,
          0.43558641201967113,
          1.0297077421051635,
          1.6600707342141625,
          2.328343089552435,
          3.0362773933021017,
          3.7857157524573988,
          4.578594698275282,
          5.416950368808071,
          6.302923987901131,
          7.238767658008887,
          8.226850485210617,
          9.269665055896969,
          10.369834285752491,
          11.530118662882874,
          12.753423908231632,
          14.042809077804787,
          15.401495132677448,
          16.832874004298642,
          18.34051818424533,
          19.92819086930837,
          21.599856694628816,
          23.359693089547964,
          25.21210229289562,
          27.161724066625652,
          29.213449149022477,
          31.372433491155352,
          33.64411332285697,
          36.034221097258005
         ],
         "yaxis": "y3"
        },
        {
         "line": {
          "color": "red",
          "width": 2
         },
         "marker": {
          "color": "red"
         },
         "mode": "lines",
         "name": "S&P",
         "showlegend": false,
         "type": "scatter",
         "x": [
          0,
          1,
          2,
          3,
          4,
          5,
          6,
          7,
          8,
          9,
          10,
          11,
          12,
          13,
          14,
          15,
          16,
          17,
          18,
          19,
          20,
          21,
          22,
          23,
          24,
          25,
          26,
          27,
          28,
          29,
          30
         ],
         "xaxis": "x3",
         "y": [
          -0.5617021276595745,
          -1.043404255319149,
          -1.5187063829787233,
          -1.9870965106382976,
          -2.4480216782978723,
          -2.900884689157446,
          -3.34504057067302,
          -3.779792752497074,
          -4.2043889386542865,
          -4.618016649491311,
          -5.019798406982531,
          -5.4087865348602815,
          -5.783957542755488,
          -6.144206061069543,
          -6.488338290635957,
          -6.815064928354919,
          -7.122993526878631,
          -7.410620243071475,
          -7.676320926346979,
          -7.9183414940717585,
          -8.134787537001754,
          -8.323613093153384,
          -8.482608523584377,
          -8.609387418237084,
          -8.701372454249242,
          -8.755780122929606,
          -8.769604234891634,
          -8.739598105597858,
          -8.662255315747814,
          -8.533788932497002,
          -8.350109068373357
         ],
         "yaxis": "y3"
        }
       ],
       "layout": {
        "font": {
         "color": "#7f7f7f",
         "family": "Courier New, monospace",
         "size": 18
        },
        "height": 600,
        "legend": {
         "x": 0.01,
         "xanchor": "left",
         "y": 0.99,
         "yanchor": "top"
        },
        "template": {
         "data": {
          "bar": [
           {
            "error_x": {
             "color": "#2a3f5f"
            },
            "error_y": {
             "color": "#2a3f5f"
            },
            "marker": {
             "line": {
              "color": "#E5ECF6",
              "width": 0.5
             },
             "pattern": {
              "fillmode": "overlay",
              "size": 10,
              "solidity": 0.2
             }
            },
            "type": "bar"
           }
          ],
          "barpolar": [
           {
            "marker": {
             "line": {
              "color": "#E5ECF6",
              "width": 0.5
             },
             "pattern": {
              "fillmode": "overlay",
              "size": 10,
              "solidity": 0.2
             }
            },
            "type": "barpolar"
           }
          ],
          "carpet": [
           {
            "aaxis": {
             "endlinecolor": "#2a3f5f",
             "gridcolor": "white",
             "linecolor": "white",
             "minorgridcolor": "white",
             "startlinecolor": "#2a3f5f"
            },
            "baxis": {
             "endlinecolor": "#2a3f5f",
             "gridcolor": "white",
             "linecolor": "white",
             "minorgridcolor": "white",
             "startlinecolor": "#2a3f5f"
            },
            "type": "carpet"
           }
          ],
          "choropleth": [
           {
            "colorbar": {
             "outlinewidth": 0,
             "ticks": ""
            },
            "type": "choropleth"
           }
          ],
          "contour": [
           {
            "colorbar": {
             "outlinewidth": 0,
             "ticks": ""
            },
            "colorscale": [
             [
              0,
              "#0d0887"
             ],
             [
              0.1111111111111111,
              "#46039f"
             ],
             [
              0.2222222222222222,
              "#7201a8"
             ],
             [
              0.3333333333333333,
              "#9c179e"
             ],
             [
              0.4444444444444444,
              "#bd3786"
             ],
             [
              0.5555555555555556,
              "#d8576b"
             ],
             [
              0.6666666666666666,
              "#ed7953"
             ],
             [
              0.7777777777777778,
              "#fb9f3a"
             ],
             [
              0.8888888888888888,
              "#fdca26"
             ],
             [
              1,
              "#f0f921"
             ]
            ],
            "type": "contour"
           }
          ],
          "contourcarpet": [
           {
            "colorbar": {
             "outlinewidth": 0,
             "ticks": ""
            },
            "type": "contourcarpet"
           }
          ],
          "heatmap": [
           {
            "colorbar": {
             "outlinewidth": 0,
             "ticks": ""
            },
            "colorscale": [
             [
              0,
              "#0d0887"
             ],
             [
              0.1111111111111111,
              "#46039f"
             ],
             [
              0.2222222222222222,
              "#7201a8"
             ],
             [
              0.3333333333333333,
              "#9c179e"
             ],
             [
              0.4444444444444444,
              "#bd3786"
             ],
             [
              0.5555555555555556,
              "#d8576b"
             ],
             [
              0.6666666666666666,
              "#ed7953"
             ],
             [
              0.7777777777777778,
              "#fb9f3a"
             ],
             [
              0.8888888888888888,
              "#fdca26"
             ],
             [
              1,
              "#f0f921"
             ]
            ],
            "type": "heatmap"
           }
          ],
          "heatmapgl": [
           {
            "colorbar": {
             "outlinewidth": 0,
             "ticks": ""
            },
            "colorscale": [
             [
              0,
              "#0d0887"
             ],
             [
              0.1111111111111111,
              "#46039f"
             ],
             [
              0.2222222222222222,
              "#7201a8"
             ],
             [
              0.3333333333333333,
              "#9c179e"
             ],
             [
              0.4444444444444444,
              "#bd3786"
             ],
             [
              0.5555555555555556,
              "#d8576b"
             ],
             [
              0.6666666666666666,
              "#ed7953"
             ],
             [
              0.7777777777777778,
              "#fb9f3a"
             ],
             [
              0.8888888888888888,
              "#fdca26"
             ],
             [
              1,
              "#f0f921"
             ]
            ],
            "type": "heatmapgl"
           }
          ],
          "histogram": [
           {
            "marker": {
             "pattern": {
              "fillmode": "overlay",
              "size": 10,
              "solidity": 0.2
             }
            },
            "type": "histogram"
           }
          ],
          "histogram2d": [
           {
            "colorbar": {
             "outlinewidth": 0,
             "ticks": ""
            },
            "colorscale": [
             [
              0,
              "#0d0887"
             ],
             [
              0.1111111111111111,
              "#46039f"
             ],
             [
              0.2222222222222222,
              "#7201a8"
             ],
             [
              0.3333333333333333,
              "#9c179e"
             ],
             [
              0.4444444444444444,
              "#bd3786"
             ],
             [
              0.5555555555555556,
              "#d8576b"
             ],
             [
              0.6666666666666666,
              "#ed7953"
             ],
             [
              0.7777777777777778,
              "#fb9f3a"
             ],
             [
              0.8888888888888888,
              "#fdca26"
             ],
             [
              1,
              "#f0f921"
             ]
            ],
            "type": "histogram2d"
           }
          ],
          "histogram2dcontour": [
           {
            "colorbar": {
             "outlinewidth": 0,
             "ticks": ""
            },
            "colorscale": [
             [
              0,
              "#0d0887"
             ],
             [
              0.1111111111111111,
              "#46039f"
             ],
             [
              0.2222222222222222,
              "#7201a8"
             ],
             [
              0.3333333333333333,
              "#9c179e"
             ],
             [
              0.4444444444444444,
              "#bd3786"
             ],
             [
              0.5555555555555556,
              "#d8576b"
             ],
             [
              0.6666666666666666,
              "#ed7953"
             ],
             [
              0.7777777777777778,
              "#fb9f3a"
             ],
             [
              0.8888888888888888,
              "#fdca26"
             ],
             [
              1,
              "#f0f921"
             ]
            ],
            "type": "histogram2dcontour"
           }
          ],
          "mesh3d": [
           {
            "colorbar": {
             "outlinewidth": 0,
             "ticks": ""
            },
            "type": "mesh3d"
           }
          ],
          "parcoords": [
           {
            "line": {
             "colorbar": {
              "outlinewidth": 0,
              "ticks": ""
             }
            },
            "type": "parcoords"
           }
          ],
          "pie": [
           {
            "automargin": true,
            "type": "pie"
           }
          ],
          "scatter": [
           {
            "fillpattern": {
             "fillmode": "overlay",
             "size": 10,
             "solidity": 0.2
            },
            "type": "scatter"
           }
          ],
          "scatter3d": [
           {
            "line": {
             "colorbar": {
              "outlinewidth": 0,
              "ticks": ""
             }
            },
            "marker": {
             "colorbar": {
              "outlinewidth": 0,
              "ticks": ""
             }
            },
            "type": "scatter3d"
           }
          ],
          "scattercarpet": [
           {
            "marker": {
             "colorbar": {
              "outlinewidth": 0,
              "ticks": ""
             }
            },
            "type": "scattercarpet"
           }
          ],
          "scattergeo": [
           {
            "marker": {
             "colorbar": {
              "outlinewidth": 0,
              "ticks": ""
             }
            },
            "type": "scattergeo"
           }
          ],
          "scattergl": [
           {
            "marker": {
             "colorbar": {
              "outlinewidth": 0,
              "ticks": ""
             }
            },
            "type": "scattergl"
           }
          ],
          "scattermapbox": [
           {
            "marker": {
             "colorbar": {
              "outlinewidth": 0,
              "ticks": ""
             }
            },
            "type": "scattermapbox"
           }
          ],
          "scatterpolar": [
           {
            "marker": {
             "colorbar": {
              "outlinewidth": 0,
              "ticks": ""
             }
            },
            "type": "scatterpolar"
           }
          ],
          "scatterpolargl": [
           {
            "marker": {
             "colorbar": {
              "outlinewidth": 0,
              "ticks": ""
             }
            },
            "type": "scatterpolargl"
           }
          ],
          "scatterternary": [
           {
            "marker": {
             "colorbar": {
              "outlinewidth": 0,
              "ticks": ""
             }
            },
            "type": "scatterternary"
           }
          ],
          "surface": [
           {
            "colorbar": {
             "outlinewidth": 0,
             "ticks": ""
            },
            "colorscale": [
             [
              0,
              "#0d0887"
             ],
             [
              0.1111111111111111,
              "#46039f"
             ],
             [
              0.2222222222222222,
              "#7201a8"
             ],
             [
              0.3333333333333333,
              "#9c179e"
             ],
             [
              0.4444444444444444,
              "#bd3786"
             ],
             [
              0.5555555555555556,
              "#d8576b"
             ],
             [
              0.6666666666666666,
              "#ed7953"
             ],
             [
              0.7777777777777778,
              "#fb9f3a"
             ],
             [
              0.8888888888888888,
              "#fdca26"
             ],
             [
              1,
              "#f0f921"
             ]
            ],
            "type": "surface"
           }
          ],
          "table": [
           {
            "cells": {
             "fill": {
              "color": "#EBF0F8"
             },
             "line": {
              "color": "white"
             }
            },
            "header": {
             "fill": {
              "color": "#C8D4E3"
             },
             "line": {
              "color": "white"
             }
            },
            "type": "table"
           }
          ]
         },
         "layout": {
          "annotationdefaults": {
           "arrowcolor": "#2a3f5f",
           "arrowhead": 0,
           "arrowwidth": 1
          },
          "autotypenumbers": "strict",
          "coloraxis": {
           "colorbar": {
            "outlinewidth": 0,
            "ticks": ""
           }
          },
          "colorscale": {
           "diverging": [
            [
             0,
             "#8e0152"
            ],
            [
             0.1,
             "#c51b7d"
            ],
            [
             0.2,
             "#de77ae"
            ],
            [
             0.3,
             "#f1b6da"
            ],
            [
             0.4,
             "#fde0ef"
            ],
            [
             0.5,
             "#f7f7f7"
            ],
            [
             0.6,
             "#e6f5d0"
            ],
            [
             0.7,
             "#b8e186"
            ],
            [
             0.8,
             "#7fbc41"
            ],
            [
             0.9,
             "#4d9221"
            ],
            [
             1,
             "#276419"
            ]
           ],
           "sequential": [
            [
             0,
             "#0d0887"
            ],
            [
             0.1111111111111111,
             "#46039f"
            ],
            [
             0.2222222222222222,
             "#7201a8"
            ],
            [
             0.3333333333333333,
             "#9c179e"
            ],
            [
             0.4444444444444444,
             "#bd3786"
            ],
            [
             0.5555555555555556,
             "#d8576b"
            ],
            [
             0.6666666666666666,
             "#ed7953"
            ],
            [
             0.7777777777777778,
             "#fb9f3a"
            ],
            [
             0.8888888888888888,
             "#fdca26"
            ],
            [
             1,
             "#f0f921"
            ]
           ],
           "sequentialminus": [
            [
             0,
             "#0d0887"
            ],
            [
             0.1111111111111111,
             "#46039f"
            ],
            [
             0.2222222222222222,
             "#7201a8"
            ],
            [
             0.3333333333333333,
             "#9c179e"
            ],
            [
             0.4444444444444444,
             "#bd3786"
            ],
            [
             0.5555555555555556,
             "#d8576b"
            ],
            [
             0.6666666666666666,
             "#ed7953"
            ],
            [
             0.7777777777777778,
             "#fb9f3a"
            ],
            [
             0.8888888888888888,
             "#fdca26"
            ],
            [
             1,
             "#f0f921"
            ]
           ]
          },
          "colorway": [
           "#636efa",
           "#EF553B",
           "#00cc96",
           "#ab63fa",
           "#FFA15A",
           "#19d3f3",
           "#FF6692",
           "#B6E880",
           "#FF97FF",
           "#FECB52"
          ],
          "font": {
           "color": "#2a3f5f"
          },
          "geo": {
           "bgcolor": "white",
           "lakecolor": "white",
           "landcolor": "#E5ECF6",
           "showlakes": true,
           "showland": true,
           "subunitcolor": "white"
          },
          "hoverlabel": {
           "align": "left"
          },
          "hovermode": "closest",
          "mapbox": {
           "style": "light"
          },
          "paper_bgcolor": "white",
          "plot_bgcolor": "#E5ECF6",
          "polar": {
           "angularaxis": {
            "gridcolor": "white",
            "linecolor": "white",
            "ticks": ""
           },
           "bgcolor": "#E5ECF6",
           "radialaxis": {
            "gridcolor": "white",
            "linecolor": "white",
            "ticks": ""
           }
          },
          "scene": {
           "xaxis": {
            "backgroundcolor": "#E5ECF6",
            "gridcolor": "white",
            "gridwidth": 2,
            "linecolor": "white",
            "showbackground": true,
            "ticks": "",
            "zerolinecolor": "white"
           },
           "yaxis": {
            "backgroundcolor": "#E5ECF6",
            "gridcolor": "white",
            "gridwidth": 2,
            "linecolor": "white",
            "showbackground": true,
            "ticks": "",
            "zerolinecolor": "white"
           },
           "zaxis": {
            "backgroundcolor": "#E5ECF6",
            "gridcolor": "white",
            "gridwidth": 2,
            "linecolor": "white",
            "showbackground": true,
            "ticks": "",
            "zerolinecolor": "white"
           }
          },
          "shapedefaults": {
           "line": {
            "color": "#2a3f5f"
           }
          },
          "ternary": {
           "aaxis": {
            "gridcolor": "white",
            "linecolor": "white",
            "ticks": ""
           },
           "baxis": {
            "gridcolor": "white",
            "linecolor": "white",
            "ticks": ""
           },
           "bgcolor": "#E5ECF6",
           "caxis": {
            "gridcolor": "white",
            "linecolor": "white",
            "ticks": ""
           }
          },
          "title": {
           "x": 0.05
          },
          "xaxis": {
           "automargin": true,
           "gridcolor": "white",
           "linecolor": "white",
           "ticks": "",
           "title": {
            "standoff": 15
           },
           "zerolinecolor": "white",
           "zerolinewidth": 2
          },
          "yaxis": {
           "automargin": true,
           "gridcolor": "white",
           "linecolor": "white",
           "ticks": "",
           "title": {
            "standoff": 15
           },
           "zerolinecolor": "white",
           "zerolinewidth": 2
          }
         }
        },
        "title": {
         "text": "Real Estate Vs S&P"
        },
        "width": 1300,
        "xaxis": {
         "anchor": "y",
         "domain": [
          0,
          0.26666666666666666
         ],
         "title": {
          "text": "Months"
         }
        },
        "xaxis2": {
         "anchor": "y2",
         "domain": [
          0.3666666666666667,
          0.6333333333333333
         ],
         "title": {
          "text": "Months"
         }
        },
        "xaxis3": {
         "anchor": "y3",
         "domain": [
          0.7333333333333334,
          1
         ],
         "title": {
          "text": "Months"
         }
        },
        "yaxis": {
         "anchor": "x",
         "domain": [
          0,
          1
         ],
         "title": {
          "text": "Total Annual Cashflow"
         }
        },
        "yaxis2": {
         "anchor": "x2",
         "domain": [
          0,
          1
         ],
         "title": {
          "text": "Value"
         }
        },
        "yaxis3": {
         "anchor": "x3",
         "domain": [
          0,
          1
         ],
         "title": {
          "text": "Return on Initial Investment"
         }
        }
       }
      },
      "text/html": [
       "<div>                            <div id=\"5eb50cb8-bd2f-4177-be52-7e6e61502c34\" class=\"plotly-graph-div\" style=\"height:600px; width:1300px;\"></div>            <script type=\"text/javascript\">                require([\"plotly\"], function(Plotly) {                    window.PLOTLYENV=window.PLOTLYENV || {};                                    if (document.getElementById(\"5eb50cb8-bd2f-4177-be52-7e6e61502c34\")) {                    Plotly.newPlot(                        \"5eb50cb8-bd2f-4177-be52-7e6e61502c34\",                        [{\"line\":{\"color\":\"blue\",\"width\":2},\"marker\":{\"color\":\"blue\"},\"mode\":\"lines\",\"name\":\"Real Estate\",\"x\":[0,1,2,3,4,5,6,7,8,9,10,11,12,13,14,15,16,17,18,19,20,21,22,23,24,25,26,27,28,29],\"y\":[-26724.106143262557,11071.772326208848,11818.625326208843,12587.883916208848,13380.220263908854,14196.326702039849,15036.91633331478,15902.723653527963,16794.505193347533,17713.0401793617,18659.131214956287,19633.604981618708,20637.312961281004,21671.13218033317,22735.9659759569,23832.744785449337,24962.426959226563,26125.999598217095,27324.47941637734,28558.913629082388,29830.380868168606,31139.9921244274,32488.891718373947,33878.258300138914,35309.30587935681,36783.284885951245,38301.48326274353,39865.22759083957,41475.88424877849,43134.860606455586],\"type\":\"scatter\",\"xaxis\":\"x\",\"yaxis\":\"y\"},{\"line\":{\"color\":\"red\",\"width\":2},\"marker\":{\"color\":\"red\"},\"mode\":\"lines\",\"name\":\"S&P\",\"x\":[0,1,2,3,4,5,6,7,8,9,10,11,12,13,14,15,16,17,18,19,20,21,22,23,24,25,26,27,28,29,30],\"y\":[-26400,-26400,-26400,-26400,-26400,-26400,-26400,-26400,-26400,-26400,-26400,-26400,-26400,-26400,-26400,-26400,-26400,-26400,-26400,-26400,-26400,-26400,-26400,-26400,-26400,-26400,-26400,-26400,-26400,-26400,-26400],\"type\":\"scatter\",\"xaxis\":\"x\",\"yaxis\":\"y\"},{\"line\":{\"color\":\"blue\",\"width\":2},\"marker\":{\"color\":\"blue\"},\"mode\":\"lines\",\"name\":\"Real Estate\",\"x\":[0,1,2,3,4,5,6,7,8,9,10,11,12,13,14,15,16,17,18,19,20,21,22,23,24,25,26,27,28,29],\"y\":[225000.0,238500.0,252810.00000000003,267978.60000000003,284057.31600000005,301100.75496000005,319166.8002576001,338316.8082730561,358615.8167694395,380132.76577560586,402940.73172214226,427117.17562547076,452744.2061629991,479908.8585327791,508703.3900447458,539225.5934474306,571579.1290542765,605873.876797533,642226.3094053852,680759.8879697082,721605.4812478909,764901.8101227643,810795.9187301301,859443.673853938,911010.2942851745,965670.9119422849,1023611.166658822,1085027.8366583514,1150129.5068578525,1219137.2772693236],\"type\":\"scatter\",\"xaxis\":\"x2\",\"yaxis\":\"y2\",\"showlegend\":false},{\"line\":{\"color\":\"red\",\"width\":2},\"marker\":{\"color\":\"red\"},\"mode\":\"lines\",\"name\":\"S&P\",\"x\":[0,1,2,3,4,5,6,7,8,9,10,11,12,13,14,15,16,17,18,19,20,21,22,23,24,25,26,27,28,29,30],\"y\":[47000.0,50760.0,54820.8,59206.46400000001,63942.98112000001,69058.41960960002,74583.09317836803,80549.74063263748,86993.71988324849,93953.21747390836,101469.47487182105,109587.03286156672,118353.99549049207,127822.31512973146,138048.10034011,149091.94836731878,161019.3042367043,173900.84857564067,187812.9164616919,202837.94977862728,219064.98576091748,236590.1846217909,255517.39939153419,275958.79134285694,298035.4946502855,321878.3342223084,347628.6009600931,375438.88903690054,405474.0001598526,437911.9201726408,472944.87378645217],\"type\":\"scatter\",\"xaxis\":\"x2\",\"yaxis\":\"y2\",\"showlegend\":false},{\"line\":{\"color\":\"blue\",\"width\":2},\"marker\":{\"color\":\"blue\"},\"mode\":\"lines\",\"name\":\"Real Estate\",\"x\":[0,1,2,3,4,5,6,7,8,9,10,11,12,13,14,15,16,17,18,19,20,21,22,23,24,25,26,27,28,29],\"y\":[-0.6502037377412483,-0.12388046109567268,0.43558641201967113,1.0297077421051635,1.6600707342141625,2.328343089552435,3.0362773933021017,3.7857157524573988,4.578594698275282,5.416950368808071,6.302923987901131,7.238767658008887,8.226850485210617,9.269665055896969,10.369834285752491,11.530118662882874,12.753423908231632,14.042809077804787,15.401495132677448,16.832874004298642,18.34051818424533,19.92819086930837,21.599856694628816,23.359693089547964,25.21210229289562,27.161724066625652,29.213449149022477,31.372433491155352,33.64411332285697,36.034221097258005],\"type\":\"scatter\",\"xaxis\":\"x3\",\"yaxis\":\"y3\",\"showlegend\":false},{\"line\":{\"color\":\"red\",\"width\":2},\"marker\":{\"color\":\"red\"},\"mode\":\"lines\",\"name\":\"S&P\",\"x\":[0,1,2,3,4,5,6,7,8,9,10,11,12,13,14,15,16,17,18,19,20,21,22,23,24,25,26,27,28,29,30],\"y\":[-0.5617021276595745,-1.043404255319149,-1.5187063829787233,-1.9870965106382976,-2.4480216782978723,-2.900884689157446,-3.34504057067302,-3.779792752497074,-4.2043889386542865,-4.618016649491311,-5.019798406982531,-5.4087865348602815,-5.783957542755488,-6.144206061069543,-6.488338290635957,-6.815064928354919,-7.122993526878631,-7.410620243071475,-7.676320926346979,-7.9183414940717585,-8.134787537001754,-8.323613093153384,-8.482608523584377,-8.609387418237084,-8.701372454249242,-8.755780122929606,-8.769604234891634,-8.739598105597858,-8.662255315747814,-8.533788932497002,-8.350109068373357],\"type\":\"scatter\",\"xaxis\":\"x3\",\"yaxis\":\"y3\",\"showlegend\":false}],                        {\"template\":{\"data\":{\"histogram2dcontour\":[{\"type\":\"histogram2dcontour\",\"colorbar\":{\"outlinewidth\":0,\"ticks\":\"\"},\"colorscale\":[[0.0,\"#0d0887\"],[0.1111111111111111,\"#46039f\"],[0.2222222222222222,\"#7201a8\"],[0.3333333333333333,\"#9c179e\"],[0.4444444444444444,\"#bd3786\"],[0.5555555555555556,\"#d8576b\"],[0.6666666666666666,\"#ed7953\"],[0.7777777777777778,\"#fb9f3a\"],[0.8888888888888888,\"#fdca26\"],[1.0,\"#f0f921\"]]}],\"choropleth\":[{\"type\":\"choropleth\",\"colorbar\":{\"outlinewidth\":0,\"ticks\":\"\"}}],\"histogram2d\":[{\"type\":\"histogram2d\",\"colorbar\":{\"outlinewidth\":0,\"ticks\":\"\"},\"colorscale\":[[0.0,\"#0d0887\"],[0.1111111111111111,\"#46039f\"],[0.2222222222222222,\"#7201a8\"],[0.3333333333333333,\"#9c179e\"],[0.4444444444444444,\"#bd3786\"],[0.5555555555555556,\"#d8576b\"],[0.6666666666666666,\"#ed7953\"],[0.7777777777777778,\"#fb9f3a\"],[0.8888888888888888,\"#fdca26\"],[1.0,\"#f0f921\"]]}],\"heatmap\":[{\"type\":\"heatmap\",\"colorbar\":{\"outlinewidth\":0,\"ticks\":\"\"},\"colorscale\":[[0.0,\"#0d0887\"],[0.1111111111111111,\"#46039f\"],[0.2222222222222222,\"#7201a8\"],[0.3333333333333333,\"#9c179e\"],[0.4444444444444444,\"#bd3786\"],[0.5555555555555556,\"#d8576b\"],[0.6666666666666666,\"#ed7953\"],[0.7777777777777778,\"#fb9f3a\"],[0.8888888888888888,\"#fdca26\"],[1.0,\"#f0f921\"]]}],\"heatmapgl\":[{\"type\":\"heatmapgl\",\"colorbar\":{\"outlinewidth\":0,\"ticks\":\"\"},\"colorscale\":[[0.0,\"#0d0887\"],[0.1111111111111111,\"#46039f\"],[0.2222222222222222,\"#7201a8\"],[0.3333333333333333,\"#9c179e\"],[0.4444444444444444,\"#bd3786\"],[0.5555555555555556,\"#d8576b\"],[0.6666666666666666,\"#ed7953\"],[0.7777777777777778,\"#fb9f3a\"],[0.8888888888888888,\"#fdca26\"],[1.0,\"#f0f921\"]]}],\"contourcarpet\":[{\"type\":\"contourcarpet\",\"colorbar\":{\"outlinewidth\":0,\"ticks\":\"\"}}],\"contour\":[{\"type\":\"contour\",\"colorbar\":{\"outlinewidth\":0,\"ticks\":\"\"},\"colorscale\":[[0.0,\"#0d0887\"],[0.1111111111111111,\"#46039f\"],[0.2222222222222222,\"#7201a8\"],[0.3333333333333333,\"#9c179e\"],[0.4444444444444444,\"#bd3786\"],[0.5555555555555556,\"#d8576b\"],[0.6666666666666666,\"#ed7953\"],[0.7777777777777778,\"#fb9f3a\"],[0.8888888888888888,\"#fdca26\"],[1.0,\"#f0f921\"]]}],\"surface\":[{\"type\":\"surface\",\"colorbar\":{\"outlinewidth\":0,\"ticks\":\"\"},\"colorscale\":[[0.0,\"#0d0887\"],[0.1111111111111111,\"#46039f\"],[0.2222222222222222,\"#7201a8\"],[0.3333333333333333,\"#9c179e\"],[0.4444444444444444,\"#bd3786\"],[0.5555555555555556,\"#d8576b\"],[0.6666666666666666,\"#ed7953\"],[0.7777777777777778,\"#fb9f3a\"],[0.8888888888888888,\"#fdca26\"],[1.0,\"#f0f921\"]]}],\"mesh3d\":[{\"type\":\"mesh3d\",\"colorbar\":{\"outlinewidth\":0,\"ticks\":\"\"}}],\"scatter\":[{\"fillpattern\":{\"fillmode\":\"overlay\",\"size\":10,\"solidity\":0.2},\"type\":\"scatter\"}],\"parcoords\":[{\"type\":\"parcoords\",\"line\":{\"colorbar\":{\"outlinewidth\":0,\"ticks\":\"\"}}}],\"scatterpolargl\":[{\"type\":\"scatterpolargl\",\"marker\":{\"colorbar\":{\"outlinewidth\":0,\"ticks\":\"\"}}}],\"bar\":[{\"error_x\":{\"color\":\"#2a3f5f\"},\"error_y\":{\"color\":\"#2a3f5f\"},\"marker\":{\"line\":{\"color\":\"#E5ECF6\",\"width\":0.5},\"pattern\":{\"fillmode\":\"overlay\",\"size\":10,\"solidity\":0.2}},\"type\":\"bar\"}],\"scattergeo\":[{\"type\":\"scattergeo\",\"marker\":{\"colorbar\":{\"outlinewidth\":0,\"ticks\":\"\"}}}],\"scatterpolar\":[{\"type\":\"scatterpolar\",\"marker\":{\"colorbar\":{\"outlinewidth\":0,\"ticks\":\"\"}}}],\"histogram\":[{\"marker\":{\"pattern\":{\"fillmode\":\"overlay\",\"size\":10,\"solidity\":0.2}},\"type\":\"histogram\"}],\"scattergl\":[{\"type\":\"scattergl\",\"marker\":{\"colorbar\":{\"outlinewidth\":0,\"ticks\":\"\"}}}],\"scatter3d\":[{\"type\":\"scatter3d\",\"line\":{\"colorbar\":{\"outlinewidth\":0,\"ticks\":\"\"}},\"marker\":{\"colorbar\":{\"outlinewidth\":0,\"ticks\":\"\"}}}],\"scattermapbox\":[{\"type\":\"scattermapbox\",\"marker\":{\"colorbar\":{\"outlinewidth\":0,\"ticks\":\"\"}}}],\"scatterternary\":[{\"type\":\"scatterternary\",\"marker\":{\"colorbar\":{\"outlinewidth\":0,\"ticks\":\"\"}}}],\"scattercarpet\":[{\"type\":\"scattercarpet\",\"marker\":{\"colorbar\":{\"outlinewidth\":0,\"ticks\":\"\"}}}],\"carpet\":[{\"aaxis\":{\"endlinecolor\":\"#2a3f5f\",\"gridcolor\":\"white\",\"linecolor\":\"white\",\"minorgridcolor\":\"white\",\"startlinecolor\":\"#2a3f5f\"},\"baxis\":{\"endlinecolor\":\"#2a3f5f\",\"gridcolor\":\"white\",\"linecolor\":\"white\",\"minorgridcolor\":\"white\",\"startlinecolor\":\"#2a3f5f\"},\"type\":\"carpet\"}],\"table\":[{\"cells\":{\"fill\":{\"color\":\"#EBF0F8\"},\"line\":{\"color\":\"white\"}},\"header\":{\"fill\":{\"color\":\"#C8D4E3\"},\"line\":{\"color\":\"white\"}},\"type\":\"table\"}],\"barpolar\":[{\"marker\":{\"line\":{\"color\":\"#E5ECF6\",\"width\":0.5},\"pattern\":{\"fillmode\":\"overlay\",\"size\":10,\"solidity\":0.2}},\"type\":\"barpolar\"}],\"pie\":[{\"automargin\":true,\"type\":\"pie\"}]},\"layout\":{\"autotypenumbers\":\"strict\",\"colorway\":[\"#636efa\",\"#EF553B\",\"#00cc96\",\"#ab63fa\",\"#FFA15A\",\"#19d3f3\",\"#FF6692\",\"#B6E880\",\"#FF97FF\",\"#FECB52\"],\"font\":{\"color\":\"#2a3f5f\"},\"hovermode\":\"closest\",\"hoverlabel\":{\"align\":\"left\"},\"paper_bgcolor\":\"white\",\"plot_bgcolor\":\"#E5ECF6\",\"polar\":{\"bgcolor\":\"#E5ECF6\",\"angularaxis\":{\"gridcolor\":\"white\",\"linecolor\":\"white\",\"ticks\":\"\"},\"radialaxis\":{\"gridcolor\":\"white\",\"linecolor\":\"white\",\"ticks\":\"\"}},\"ternary\":{\"bgcolor\":\"#E5ECF6\",\"aaxis\":{\"gridcolor\":\"white\",\"linecolor\":\"white\",\"ticks\":\"\"},\"baxis\":{\"gridcolor\":\"white\",\"linecolor\":\"white\",\"ticks\":\"\"},\"caxis\":{\"gridcolor\":\"white\",\"linecolor\":\"white\",\"ticks\":\"\"}},\"coloraxis\":{\"colorbar\":{\"outlinewidth\":0,\"ticks\":\"\"}},\"colorscale\":{\"sequential\":[[0.0,\"#0d0887\"],[0.1111111111111111,\"#46039f\"],[0.2222222222222222,\"#7201a8\"],[0.3333333333333333,\"#9c179e\"],[0.4444444444444444,\"#bd3786\"],[0.5555555555555556,\"#d8576b\"],[0.6666666666666666,\"#ed7953\"],[0.7777777777777778,\"#fb9f3a\"],[0.8888888888888888,\"#fdca26\"],[1.0,\"#f0f921\"]],\"sequentialminus\":[[0.0,\"#0d0887\"],[0.1111111111111111,\"#46039f\"],[0.2222222222222222,\"#7201a8\"],[0.3333333333333333,\"#9c179e\"],[0.4444444444444444,\"#bd3786\"],[0.5555555555555556,\"#d8576b\"],[0.6666666666666666,\"#ed7953\"],[0.7777777777777778,\"#fb9f3a\"],[0.8888888888888888,\"#fdca26\"],[1.0,\"#f0f921\"]],\"diverging\":[[0,\"#8e0152\"],[0.1,\"#c51b7d\"],[0.2,\"#de77ae\"],[0.3,\"#f1b6da\"],[0.4,\"#fde0ef\"],[0.5,\"#f7f7f7\"],[0.6,\"#e6f5d0\"],[0.7,\"#b8e186\"],[0.8,\"#7fbc41\"],[0.9,\"#4d9221\"],[1,\"#276419\"]]},\"xaxis\":{\"gridcolor\":\"white\",\"linecolor\":\"white\",\"ticks\":\"\",\"title\":{\"standoff\":15},\"zerolinecolor\":\"white\",\"automargin\":true,\"zerolinewidth\":2},\"yaxis\":{\"gridcolor\":\"white\",\"linecolor\":\"white\",\"ticks\":\"\",\"title\":{\"standoff\":15},\"zerolinecolor\":\"white\",\"automargin\":true,\"zerolinewidth\":2},\"scene\":{\"xaxis\":{\"backgroundcolor\":\"#E5ECF6\",\"gridcolor\":\"white\",\"linecolor\":\"white\",\"showbackground\":true,\"ticks\":\"\",\"zerolinecolor\":\"white\",\"gridwidth\":2},\"yaxis\":{\"backgroundcolor\":\"#E5ECF6\",\"gridcolor\":\"white\",\"linecolor\":\"white\",\"showbackground\":true,\"ticks\":\"\",\"zerolinecolor\":\"white\",\"gridwidth\":2},\"zaxis\":{\"backgroundcolor\":\"#E5ECF6\",\"gridcolor\":\"white\",\"linecolor\":\"white\",\"showbackground\":true,\"ticks\":\"\",\"zerolinecolor\":\"white\",\"gridwidth\":2}},\"shapedefaults\":{\"line\":{\"color\":\"#2a3f5f\"}},\"annotationdefaults\":{\"arrowcolor\":\"#2a3f5f\",\"arrowhead\":0,\"arrowwidth\":1},\"geo\":{\"bgcolor\":\"white\",\"landcolor\":\"#E5ECF6\",\"subunitcolor\":\"white\",\"showland\":true,\"showlakes\":true,\"lakecolor\":\"white\"},\"title\":{\"x\":0.05},\"mapbox\":{\"style\":\"light\"}}},\"xaxis\":{\"anchor\":\"y\",\"domain\":[0.0,0.26666666666666666],\"title\":{\"text\":\"Months\"}},\"yaxis\":{\"anchor\":\"x\",\"domain\":[0.0,1.0],\"title\":{\"text\":\"Total Annual Cashflow\"}},\"xaxis2\":{\"anchor\":\"y2\",\"domain\":[0.3666666666666667,0.6333333333333333],\"title\":{\"text\":\"Months\"}},\"yaxis2\":{\"anchor\":\"x2\",\"domain\":[0.0,1.0],\"title\":{\"text\":\"Value\"}},\"xaxis3\":{\"anchor\":\"y3\",\"domain\":[0.7333333333333334,1.0],\"title\":{\"text\":\"Months\"}},\"yaxis3\":{\"anchor\":\"x3\",\"domain\":[0.0,1.0],\"title\":{\"text\":\"Return on Initial Investment\"}},\"title\":{\"text\":\"Real Estate Vs S&P\"},\"font\":{\"family\":\"Courier New, monospace\",\"size\":18,\"color\":\"#7f7f7f\"},\"legend\":{\"yanchor\":\"top\",\"y\":0.99,\"xanchor\":\"left\",\"x\":0.01},\"width\":1300,\"height\":600},                        {\"responsive\": true}                    ).then(function(){\n",
       "                            \n",
       "var gd = document.getElementById('5eb50cb8-bd2f-4177-be52-7e6e61502c34');\n",
       "var x = new MutationObserver(function (mutations, observer) {{\n",
       "        var display = window.getComputedStyle(gd).display;\n",
       "        if (!display || display === 'none') {{\n",
       "            console.log([gd, 'removed!']);\n",
       "            Plotly.purge(gd);\n",
       "            observer.disconnect();\n",
       "        }}\n",
       "}});\n",
       "\n",
       "// Listen for the removal of the full notebook cells\n",
       "var notebookContainer = gd.closest('#notebook-container');\n",
       "if (notebookContainer) {{\n",
       "    x.observe(notebookContainer, {childList: true});\n",
       "}}\n",
       "\n",
       "// Listen for the clearing of the current output cell\n",
       "var outputEl = gd.closest('.output');\n",
       "if (outputEl) {{\n",
       "    x.observe(outputEl, {childList: true});\n",
       "}}\n",
       "\n",
       "                        })                };                });            </script>        </div>"
      ]
     },
     "metadata": {},
     "output_type": "display_data"
    }
   ],
   "source": [
    "from real_estate.plots import plot_timeseries\n",
    "title='Real Estate Vs S&P'\n",
    "plot_timeseries(['Total Annual Cashflow', \n",
    "                 ('Value', ('Property Value', 'Stock Value')),  \n",
    "                    'Return on Initial Investment'], \n",
    "                    realestate_df, stocks_df, title=title, df_titles=['Real Estate', 'S&P'])"
   ]
  }
 ],
 "metadata": {
  "kernelspec": {
   "display_name": "Python 3",
   "language": "python",
   "name": "python3"
  },
  "language_info": {
   "codemirror_mode": {
    "name": "ipython",
    "version": 3
   },
   "file_extension": ".py",
   "mimetype": "text/x-python",
   "name": "python",
   "nbconvert_exporter": "python",
   "pygments_lexer": "ipython3",
   "version": "3.6.7"
  },
  "orig_nbformat": 4
 },
 "nbformat": 4,
 "nbformat_minor": 2
}
